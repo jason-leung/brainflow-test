{
 "cells": [
  {
   "cell_type": "code",
   "execution_count": 1,
   "id": "dc0fcdba",
   "metadata": {},
   "outputs": [],
   "source": [
    "%matplotlib qt"
   ]
  },
  {
   "cell_type": "code",
   "execution_count": 2,
   "id": "e0f04187",
   "metadata": {
    "scrolled": true
   },
   "outputs": [],
   "source": [
    "import os, pyxdf, json, yaml\n",
    "import mne\n",
    "import numpy as np\n",
    "import matplotlib.pyplot as plt\n",
    "import pandas as pd\n",
    "\n",
    "from sklearn.model_selection import RepeatedStratifiedKFold, StratifiedKFold\n",
    "from sklearn.pipeline import make_pipeline\n",
    "\n",
    "# pyriemann import\n",
    "from pyriemann.classification import MDM, TSclassifier\n",
    "from pyriemann.estimation import Covariances\n",
    "from pyriemann.utils.distance import distance\n",
    "\n",
    "# sklearn imports\n",
    "from sklearn.model_selection import cross_val_score, KFold\n",
    "from sklearn.pipeline import Pipeline\n",
    "from mne.decoding import CSP\n",
    "from sklearn.linear_model import LogisticRegression\n",
    "from sklearn.neighbors import KNeighborsClassifier\n",
    "from sklearn.tree import DecisionTreeClassifier\n",
    "from sklearn.ensemble import RandomForestClassifier\n",
    "from sklearn.discriminant_analysis import LinearDiscriminantAnalysis\n",
    "from sklearn.svm import SVC\n",
    "\n",
    "import seaborn as sns"
   ]
  },
  {
   "cell_type": "markdown",
   "id": "15a0ee15",
   "metadata": {},
   "source": [
    "### Settings"
   ]
  },
  {
   "cell_type": "code",
   "execution_count": 3,
   "id": "99db2e58",
   "metadata": {
    "scrolled": true
   },
   "outputs": [
    {
     "name": "stdout",
     "output_type": "stream",
     "text": [
      "{'subject': 'P00J', 'session': 2, 'task': 'MI-push', 'eeg_stream_type': 'EXG', 'markers_stream_type': 'Marker', 'default_ch_names': ['Fz', 'FC1', 'FC2', 'C3', 'Cz', 'C4', 'CP1', 'CP2', 'P3', 'Pz', 'P4', 'PO3', 'PO4', 'O1', 'Oz', 'O2'], 'montage_file': 'openbci_montage.elc', 'event_dict': {'rest': 0, 'MI/push': 1}, 'rest_duration': 8, 'task_duration': 8, 'tmin': 0.0, 'tmax': 8.0, 'window_size': 8.0, 'window_overlap': 0.0, 'plotGraphs': False, 'scalings': {'eeg': 0.0002}, 'plot_duration': 10, 'bp_l_freq': 1.0, 'bp_h_freq': 40.0, 'performICA': False, 'features': 'psd', 'tfr_type': 'morlet', 'baseline': (0.0, 0.1), 'vmin': -1.0, 'vmax': 1.0}\n"
     ]
    }
   ],
   "source": [
    "config_file = 'config_MI-hands.yaml'\n",
    "\n",
    "with open(config_file) as f:\n",
    "    config = yaml.load(f.read(), Loader=yaml.Loader)\n",
    "    print(config)\n",
    "    locals().update(config)\n",
    "\n",
    "lslDir = os.path.join(os.path.expanduser('~'), 'Documents\\CurrentStudy')"
   ]
  },
  {
   "cell_type": "markdown",
   "id": "5df62ee7",
   "metadata": {},
   "source": [
    "### Find LSL Files"
   ]
  },
  {
   "cell_type": "code",
   "execution_count": 4,
   "id": "93040a72",
   "metadata": {},
   "outputs": [
    {
     "name": "stdout",
     "output_type": "stream",
     "text": [
      "sub-P00J_ses-S002_task-MI-push_run-001_eeg.xdf\n",
      "sub-P00J_ses-S002_task-MI-push_run-002_eeg.xdf\n",
      "sub-P00J_ses-S002_task-MI-push_run-005_eeg.xdf\n",
      "sub-P00J_ses-S002_task-MI-push_run-006_eeg.xdf\n",
      "sub-P00J_ses-S002_task-MI-push_run-007_eeg.xdf\n"
     ]
    }
   ],
   "source": [
    "# Find files\n",
    "xdf_files = []\n",
    "hasSubject = subject!=''\n",
    "hasSession = session!=''\n",
    "hasTask = task!=''\n",
    "for root, dir, files in os.walk(lslDir):\n",
    "    for file in files:\n",
    "        validFile = True\n",
    "        if hasSubject:\n",
    "            validFile = validFile and (('sub-'+subject) in file)\n",
    "        if hasSession:\n",
    "            validFile = validFile and (('ses-S' + str(session).zfill(3)) in file)\n",
    "        if hasTask:\n",
    "            validFile = validFile and (('task-' + task) in file)\n",
    "        validFile = validFile and file.endswith('.xdf')\n",
    "        if validFile:\n",
    "            print(file)\n",
    "            matchingFile = os.path.join(root, file)\n",
    "            xdf_files.append(matchingFile)\n",
    "\n",
    "if len(xdf_files) == 0:\n",
    "    print('No files found')"
   ]
  },
  {
   "cell_type": "code",
   "execution_count": 5,
   "id": "082bb234",
   "metadata": {
    "scrolled": true
   },
   "outputs": [
    {
     "name": "stdout",
     "output_type": "stream",
     "text": [
      "Parsing streams\n",
      "Found EXG stream in sub-P00J_ses-S002_task-MI-push_run-001_eeg.xdf\n",
      "Found Marker stream in sub-P00J_ses-S002_task-MI-push_run-001_eeg.xdf\n",
      "Found Marker stream in sub-P00J_ses-S002_task-MI-push_run-002_eeg.xdf\n",
      "Found EXG stream in sub-P00J_ses-S002_task-MI-push_run-002_eeg.xdf\n",
      "Found Marker stream in sub-P00J_ses-S002_task-MI-push_run-005_eeg.xdf\n",
      "Found EXG stream in sub-P00J_ses-S002_task-MI-push_run-005_eeg.xdf\n",
      "Found Marker stream in sub-P00J_ses-S002_task-MI-push_run-006_eeg.xdf\n",
      "Found EXG stream in sub-P00J_ses-S002_task-MI-push_run-006_eeg.xdf\n",
      "Found EXG stream in sub-P00J_ses-S002_task-MI-push_run-007_eeg.xdf\n",
      "Found Marker stream in sub-P00J_ses-S002_task-MI-push_run-007_eeg.xdf\n"
     ]
    }
   ],
   "source": [
    "# Parse streams\n",
    "eeg_stream, marker_stream = [], []\n",
    "\n",
    "print('Parsing streams')\n",
    "for xdf_file in xdf_files:\n",
    "    streams, header = pyxdf.load_xdf(xdf_file)\n",
    "    for i in range(len(streams)):\n",
    "        if streams[i]['info']['type'][0] == eeg_stream_type:\n",
    "            print(\"Found %s stream in %s\" % (eeg_stream_type, os.path.basename(xdf_file)))\n",
    "            eeg_stream.append(streams[i])\n",
    "        elif streams[i]['info']['type'][0] == markers_stream_type:\n",
    "            print(\"Found %s stream in %s\" % (markers_stream_type, os.path.basename(xdf_file)))\n",
    "            marker_stream.append(streams[i])\n",
    "del streams, header"
   ]
  },
  {
   "cell_type": "markdown",
   "id": "03af60e1",
   "metadata": {},
   "source": [
    "### Extract EEG and Marker data"
   ]
  },
  {
   "cell_type": "code",
   "execution_count": 6,
   "id": "569b6f48",
   "metadata": {},
   "outputs": [
    {
     "name": "stdout",
     "output_type": "stream",
     "text": [
      "Extracting EEG info...\n",
      "Channels:  ['Fz', 'FC1', 'FC2', 'C3', 'Cz', 'C4', 'CP1', 'CP2', 'P3', 'Pz', 'P4', 'PO3', 'PO4', 'O1', 'Oz', 'O2']\n",
      "Sampling frequency:  125.0\n"
     ]
    }
   ],
   "source": [
    "# Extract EEG Info\n",
    "print(\"Extracting EEG info...\")\n",
    "\n",
    "ch_names = []\n",
    "if eeg_stream[0]['info']['desc'][0]:\n",
    "    print(\"EEG channel names found\")\n",
    "    for i in range(len(eeg_stream[0]['info']['desc'][0]['channels'][0]['channel'])):\n",
    "        ch_names.append(eeg_stream[0]['info']['desc'][0]['channels'][0]['channel'][i]['label'][0])\n",
    "else:\n",
    "    ch_names = default_ch_names\n",
    "print('Channels: ', ch_names)\n",
    "\n",
    "sfreq = float(eeg_stream[0]['info']['nominal_srate'][0])\n",
    "print('Sampling frequency: ', sfreq)\n",
    "\n",
    "# Create MNE info object\n",
    "eeg_info = mne.create_info(ch_names, sfreq, ch_types='eeg')"
   ]
  },
  {
   "cell_type": "code",
   "execution_count": 7,
   "id": "32f764ef",
   "metadata": {},
   "outputs": [],
   "source": [
    "# Setup Montage\n",
    "montage = mne.channels.read_custom_montage(montage_file)\n",
    "# montage.plot()"
   ]
  },
  {
   "cell_type": "code",
   "execution_count": 8,
   "id": "8048953f",
   "metadata": {
    "scrolled": true
   },
   "outputs": [
    {
     "name": "stdout",
     "output_type": "stream",
     "text": [
      "(16, 31672)\n",
      "Creating RawArray with float64 data, n_channels=16, n_times=31672\n",
      "    Range : 0 ... 31671 =      0.000 ...   253.368 secs\n",
      "Ready.\n",
      "(16, 31922)\n",
      "Creating RawArray with float64 data, n_channels=16, n_times=31922\n",
      "    Range : 0 ... 31921 =      0.000 ...   255.368 secs\n",
      "Ready.\n",
      "(16, 31959)\n",
      "Creating RawArray with float64 data, n_channels=16, n_times=31959\n",
      "    Range : 0 ... 31958 =      0.000 ...   255.664 secs\n",
      "Ready.\n",
      "(16, 31316)\n",
      "Creating RawArray with float64 data, n_channels=16, n_times=31316\n",
      "    Range : 0 ... 31315 =      0.000 ...   250.520 secs\n",
      "Ready.\n",
      "(16, 31057)\n",
      "Creating RawArray with float64 data, n_channels=16, n_times=31057\n",
      "    Range : 0 ... 31056 =      0.000 ...   248.448 secs\n",
      "Ready.\n"
     ]
    }
   ],
   "source": [
    "# Get all EEG data\n",
    "eeg_raw_list = []\n",
    "\n",
    "for n in range(len(eeg_stream)):\n",
    "    # Create MNE Raw object\n",
    "    eeg_data = np.transpose(eeg_stream[n]['time_series'])\n",
    "    eeg_data = eeg_data / 1e6\n",
    "    print(eeg_data.shape)\n",
    "    eeg_raw = mne.io.RawArray(eeg_data, eeg_info)\n",
    "    \n",
    "    # Set montage\n",
    "    eeg_raw = eeg_raw.set_montage(montage)\n",
    "\n",
    "    # Add annotations\n",
    "    onset, duration, description = [], [], []\n",
    "    current_target = -1\n",
    "    current_flash = -1\n",
    "    for i in range(len(marker_stream[n]['time_series'])):\n",
    "        if 'MI' in task:\n",
    "            if ('rest' in marker_stream[n]['time_series'][i][0]) and ('cue' not in marker_stream[n]['time_series'][i][0]):\n",
    "                window_onset = tmin\n",
    "                window_start = marker_stream[n]['time_stamps'][i] - eeg_stream[n]['time_stamps'][0]\n",
    "                while (window_onset + window_size <= tmax):\n",
    "                    onset.append(window_start + window_onset)\n",
    "                    duration.append(window_size)\n",
    "                    description.append(marker_stream[n]['time_series'][i][0])\n",
    "                    window_onset = window_onset + window_size - window_overlap\n",
    "            elif ('task' in marker_stream[n]['time_series'][i][0]) and ('cue' not in marker_stream[n]['time_series'][i][0]):\n",
    "                window_onset = tmin\n",
    "                window_start = marker_stream[n]['time_stamps'][i] - eeg_stream[n]['time_stamps'][0]\n",
    "                while (window_onset + window_size <= tmax):\n",
    "                    onset.append(window_start + window_onset)\n",
    "                    duration.append(window_size)\n",
    "                    description.append(marker_stream[n]['time_series'][i][0].replace('task_', '').replace('-','/'))\n",
    "                    window_onset = window_onset + window_size - window_overlap\n",
    "        elif 'P300' in task:\n",
    "            if('target' in marker_stream[n]['time_series'][i][0]):\n",
    "                current_target = json.loads(marker_stream[n]['time_series'][i][0])['target']\n",
    "            elif('flash' in marker_stream[n]['time_series'][i][0]):\n",
    "                current_flash = json.loads(marker_stream[n]['time_series'][i][0])['flash']\n",
    "                onset.append(marker_stream[n]['time_stamps'][i] - eeg_stream[n]['time_stamps'][0])\n",
    "                duration.append(task_duration)\n",
    "                description.append(\"target\" if current_flash == current_target else \"nontarget\")\n",
    "    annotations = mne.Annotations(onset, duration, description)\n",
    "    eeg_raw = eeg_raw.set_annotations(annotations)\n",
    "    \n",
    "    # Create list of raw objects\n",
    "    eeg_raw_list.append(eeg_raw)"
   ]
  },
  {
   "cell_type": "code",
   "execution_count": 9,
   "id": "ea700653",
   "metadata": {},
   "outputs": [
    {
     "name": "stdout",
     "output_type": "stream",
     "text": [
      "None\n"
     ]
    }
   ],
   "source": [
    "print(eeg_raw_list[0].annotations.orig_time)"
   ]
  },
  {
   "cell_type": "code",
   "execution_count": 10,
   "id": "2ce8688d",
   "metadata": {
    "scrolled": true
   },
   "outputs": [
    {
     "data": {
      "text/html": [
       "\n",
       "\n",
       "<table class=\"table table-hover table-striped table-sm table-responsive small\">\n",
       "    <tr>\n",
       "        <th>Measurement date</th>\n",
       "<td>Unknown</td>\n",
       "    </tr>\n",
       "    <tr>\n",
       "        <th>Experimenter</th>\n",
       "<td>Unknown</td>\n",
       "    </tr>\n",
       "        <th>Participant</th>\n",
       "<td>Unknown</td>\n",
       "    </tr>\n",
       "    <tr>\n",
       "        <th>Digitized points</th>\n",
       "        <td>19 points</td>\n",
       "    </tr>\n",
       "    <tr>\n",
       "        <th>Good channels</th>\n",
       "        <td>16 EEG</td>\n",
       "    </tr>\n",
       "    <tr>\n",
       "        <th>Bad channels</th>\n",
       "        <td>None</td>\n",
       "    </tr>\n",
       "    <tr>\n",
       "        <th>EOG channels</th>\n",
       "        <td>Not available</td>\n",
       "    </tr>\n",
       "    <tr>\n",
       "        <th>ECG channels</th>\n",
       "        <td>Not available</td>\n",
       "    <tr>\n",
       "        <th>Sampling frequency</th>\n",
       "        <td>125.00 Hz</td>\n",
       "    </tr>\n",
       "    <tr>\n",
       "        <th>Highpass</th>\n",
       "        <td>0.00 Hz</td>\n",
       "    </tr>\n",
       "    <tr>\n",
       "        <th>Lowpass</th>\n",
       "        <td>62.50 Hz</td>\n",
       "    </tr>\n",
       "\n",
       "    <tr>\n",
       "        <th>Duration</th>\n",
       "        <td>00:21:03 (HH:MM:SS)</td>\n",
       "    </tr>\n",
       "</table>\n"
      ],
      "text/plain": [
       "<RawArray | 16 x 157926 (1263.4 s), ~19.3 MB, data loaded>"
      ]
     },
     "execution_count": 10,
     "metadata": {},
     "output_type": "execute_result"
    }
   ],
   "source": [
    "# Concatenate raw objects\n",
    "raw = mne.concatenate_raws(eeg_raw_list)\n",
    "raw"
   ]
  },
  {
   "cell_type": "markdown",
   "id": "32e81434",
   "metadata": {},
   "source": [
    "### Pre-processing"
   ]
  },
  {
   "cell_type": "code",
   "execution_count": 11,
   "id": "91852a9b",
   "metadata": {},
   "outputs": [
    {
     "name": "stdout",
     "output_type": "stream",
     "text": [
      "EEG channel type selected for re-referencing\n",
      "Applying average reference.\n",
      "Applying a custom ('EEG',) reference.\n"
     ]
    }
   ],
   "source": [
    "# Common average reference\n",
    "raw_orig = raw.copy()\n",
    "raw = raw.set_eeg_reference('average', projection=False)\n",
    "\n",
    "if plotGraphs:\n",
    "    fig = raw_orig.plot(title='Before Re-referencing', n_channels=16, scalings=scalings)\n",
    "    fig = raw.plot(title='After Re-referencing', n_channels=16, scalings=scalings)"
   ]
  },
  {
   "cell_type": "code",
   "execution_count": 12,
   "id": "d0930ec9",
   "metadata": {},
   "outputs": [
    {
     "name": "stdout",
     "output_type": "stream",
     "text": [
      "Filtering raw data in 5 contiguous segments\n",
      "Setting up band-pass filter from 1 - 40 Hz\n",
      "\n",
      "FIR filter parameters\n",
      "---------------------\n",
      "Designing a one-pass, zero-phase, non-causal bandpass filter:\n",
      "- Windowed time-domain design (firwin) method\n",
      "- Hamming window with 0.0194 passband ripple and 53 dB stopband attenuation\n",
      "- Lower passband edge: 1.00\n",
      "- Lower transition bandwidth: 1.00 Hz (-6 dB cutoff frequency: 0.50 Hz)\n",
      "- Upper passband edge: 40.00 Hz\n",
      "- Upper transition bandwidth: 10.00 Hz (-6 dB cutoff frequency: 45.00 Hz)\n",
      "- Filter length: 413 samples (3.304 sec)\n",
      "\n"
     ]
    }
   ],
   "source": [
    "# Bandpass filter data\n",
    "raw_orig = raw.copy()\n",
    "raw = raw.filter(l_freq=bp_l_freq, h_freq=bp_h_freq)\n",
    "\n",
    "if plotGraphs:\n",
    "    fig = raw_orig.plot(title='Before Filtering', scalings=scalings, duration=plot_duration)\n",
    "    fig = raw.plot(title='After Filtering', scalings=scalings, duration=plot_duration)"
   ]
  },
  {
   "cell_type": "markdown",
   "id": "5ca8d881",
   "metadata": {},
   "source": [
    "### Epoch data"
   ]
  },
  {
   "cell_type": "code",
   "execution_count": 13,
   "id": "a5c88f59",
   "metadata": {},
   "outputs": [
    {
     "name": "stdout",
     "output_type": "stream",
     "text": [
      "Used Annotations descriptions: ['MI/push', 'rest']\n",
      "Not setting metadata\n",
      "Not setting metadata\n",
      "100 matching events found\n",
      "No baseline correction applied\n",
      "0 projection items activated\n",
      "Loading data for 100 events and 1001 original time points ...\n",
      "0 bad epochs dropped\n",
      "<Epochs |  100 events (all good), 0 - 8 sec, baseline off, ~12.2 MB, data loaded,\n",
      " 'MI/push': 50\n",
      " 'rest': 50>\n"
     ]
    }
   ],
   "source": [
    "# Epoch data\n",
    "events, event_id = mne.events_from_annotations(raw, event_id=event_dict)\n",
    "epochs = mne.Epochs(raw, events, event_id=event_id, tmin=0., tmax=window_size, baseline=None, picks='eeg', preload=True)\n",
    "print(epochs)"
   ]
  },
  {
   "cell_type": "markdown",
   "id": "8e0e4a0e",
   "metadata": {},
   "source": [
    "### Features"
   ]
  },
  {
   "cell_type": "code",
   "execution_count": 14,
   "id": "806fe2f8",
   "metadata": {},
   "outputs": [],
   "source": [
    "# Labels\n",
    "y = epochs.events[:,-1] - min(epochs.events[:,-1])\n",
    "labels = y"
   ]
  },
  {
   "cell_type": "markdown",
   "id": "e59010a6",
   "metadata": {},
   "source": [
    "### Classification"
   ]
  },
  {
   "cell_type": "code",
   "execution_count": 15,
   "id": "4968dc46",
   "metadata": {},
   "outputs": [],
   "source": [
    "# Set up cross validation\n",
    "cv = RepeatedStratifiedKFold(n_splits=5, n_repeats=5, random_state=42)\n",
    "\n",
    "# Set up scoring\n",
    "scoring = 'accuracy'\n",
    "scores = {'Classifier': [],\n",
    "          'Score': [],\n",
    "          'Std': []\n",
    "         }"
   ]
  },
  {
   "cell_type": "code",
   "execution_count": 16,
   "id": "73ee7860",
   "metadata": {},
   "outputs": [
    {
     "name": "stdout",
     "output_type": "stream",
     "text": [
      "[0.1 0.2 0.3 0.4 0.5 0.6 0.7 0.8 0.9 1.  1.1 1.2 1.3 1.4 1.5 1.6 1.7 1.8\n",
      " 1.9 2.  3.  4.  5.  6.  7.  8. ]\n"
     ]
    }
   ],
   "source": [
    "w_len = np.concatenate((np.linspace(0.1, 2, 20), np.linspace(3., 8., 6)))\n",
    "print(w_len)"
   ]
  },
  {
   "cell_type": "code",
   "execution_count": 17,
   "id": "fea722bd",
   "metadata": {
    "scrolled": true
   },
   "outputs": [],
   "source": [
    "estimators = [\"lwf\", \"oas\"]\n",
    "n_trials = epochs.get_data().shape[0]\n",
    "dfc = list()\n",
    "\n",
    "for wl in w_len:\n",
    "    epochs = mne.Epochs(raw, events, event_id, tmin, tmin + wl, baseline=None, preload=True, verbose=False)\n",
    "    for est in estimators:\n",
    "        cov = Covariances(estimator=est).transform(epochs.get_data() * 1e6)\n",
    "        for k in range(len(cov)):\n",
    "            ev, _ = np.linalg.eigh(cov[k, :, :])\n",
    "            dfc.append(dict(estimator=est, wlen=wl, cond=ev[-1] / ev[0]))\n",
    "dfc = pd.DataFrame(dfc)"
   ]
  },
  {
   "cell_type": "code",
   "execution_count": 18,
   "id": "bbd31c85",
   "metadata": {},
   "outputs": [],
   "source": [
    "fig, ax = plt.subplots(figsize=(6, 4))\n",
    "ax.set(yscale=\"log\")\n",
    "sns.lineplot(data=dfc, x=\"wlen\", y=\"cond\", hue=\"estimator\", ax=ax)\n",
    "ax.set_title(\"Condition number of estimated covariance matrices\")\n",
    "ax.set_xlabel(\"Epoch length (s)\")\n",
    "ax.set_ylabel(r\"$\\lambda_{\\max}$/$\\lambda_{\\min}$\")\n",
    "plt.tight_layout()"
   ]
  },
  {
   "cell_type": "code",
   "execution_count": 19,
   "id": "5e1d84b3",
   "metadata": {},
   "outputs": [],
   "source": [
    "estimators = [\"lwf\", \"oas\"]\n",
    "tmin = 0.0\n",
    "n_trials, n_splits = n_trials = epochs.get_data().shape[0], 3\n",
    "dfa = list()\n",
    "sc = \"balanced_accuracy\"\n",
    "\n",
    "classifiers = [('LR', LogisticRegression()),\n",
    "               ('KNN2', KNeighborsClassifier(n_neighbors=2)),\n",
    "               ('KNN3', KNeighborsClassifier(n_neighbors=3)),\n",
    "               ('KNN4', KNeighborsClassifier(n_neighbors=4)),\n",
    "               ('KNN5', KNeighborsClassifier(n_neighbors=5)),\n",
    "               ('KNN6', KNeighborsClassifier(n_neighbors=6)),\n",
    "               ('DT', DecisionTreeClassifier()),\n",
    "               ('RF', RandomForestClassifier()),\n",
    "               ('LDA', LinearDiscriminantAnalysis()),\n",
    "               ('SVM', SVC())]\n",
    "\n",
    "cv = StratifiedKFold(n_splits=n_splits, shuffle=True)\n",
    "for wl in w_len:\n",
    "    epochs = mne.Epochs(\n",
    "        raw,\n",
    "        events,\n",
    "        event_id,\n",
    "        tmin,\n",
    "        tmin + wl,\n",
    "        proj=True,\n",
    "        preload=True,\n",
    "        baseline=None,\n",
    "        verbose=False,\n",
    "    )\n",
    "    X = epochs.get_data() * 1e6\n",
    "    y = epochs.events[:,-1] - min(epochs.events[:,-1])\n",
    "    for est in estimators:\n",
    "        for clf_ in classifiers:\n",
    "            clf = make_pipeline(Covariances(estimator=est), TSclassifier(clf=clf_[1]))\n",
    "\n",
    "            try:\n",
    "                score = cross_val_score(clf, X, y, cv=cv, scoring=sc)\n",
    "                dfa += [dict(estimator=clf_[0]+'+'+est, wlen=wl, accuracy=sc) for sc in score]\n",
    "            except ValueError:\n",
    "                print(f\"{est}: {wl} is not sufficent to estimate a SPD matrix\")\n",
    "                dfa += [dict(estimator=clf_[0]+'+'+est, wlen=wl, accuracy=np.nan)] * n_splits\n",
    "dfa = pd.DataFrame(dfa)"
   ]
  },
  {
   "cell_type": "code",
   "execution_count": 20,
   "id": "4939f165",
   "metadata": {},
   "outputs": [
    {
     "data": {
      "text/html": [
       "<div>\n",
       "<style scoped>\n",
       "    .dataframe tbody tr th:only-of-type {\n",
       "        vertical-align: middle;\n",
       "    }\n",
       "\n",
       "    .dataframe tbody tr th {\n",
       "        vertical-align: top;\n",
       "    }\n",
       "\n",
       "    .dataframe thead th {\n",
       "        text-align: right;\n",
       "    }\n",
       "</style>\n",
       "<table border=\"1\" class=\"dataframe\">\n",
       "  <thead>\n",
       "    <tr style=\"text-align: right;\">\n",
       "      <th></th>\n",
       "      <th>estimator</th>\n",
       "      <th>wlen</th>\n",
       "      <th>accuracy</th>\n",
       "    </tr>\n",
       "  </thead>\n",
       "  <tbody>\n",
       "    <tr>\n",
       "      <th>0</th>\n",
       "      <td>LR+lwf</td>\n",
       "      <td>0.1</td>\n",
       "      <td>0.558824</td>\n",
       "    </tr>\n",
       "    <tr>\n",
       "      <th>1</th>\n",
       "      <td>LR+lwf</td>\n",
       "      <td>0.1</td>\n",
       "      <td>0.575368</td>\n",
       "    </tr>\n",
       "    <tr>\n",
       "      <th>2</th>\n",
       "      <td>LR+lwf</td>\n",
       "      <td>0.1</td>\n",
       "      <td>0.580882</td>\n",
       "    </tr>\n",
       "    <tr>\n",
       "      <th>3</th>\n",
       "      <td>KNN2+lwf</td>\n",
       "      <td>0.1</td>\n",
       "      <td>0.441176</td>\n",
       "    </tr>\n",
       "    <tr>\n",
       "      <th>4</th>\n",
       "      <td>KNN2+lwf</td>\n",
       "      <td>0.1</td>\n",
       "      <td>0.444853</td>\n",
       "    </tr>\n",
       "    <tr>\n",
       "      <th>...</th>\n",
       "      <td>...</td>\n",
       "      <td>...</td>\n",
       "      <td>...</td>\n",
       "    </tr>\n",
       "    <tr>\n",
       "      <th>1555</th>\n",
       "      <td>LDA+oas</td>\n",
       "      <td>8.0</td>\n",
       "      <td>0.636029</td>\n",
       "    </tr>\n",
       "    <tr>\n",
       "      <th>1556</th>\n",
       "      <td>LDA+oas</td>\n",
       "      <td>8.0</td>\n",
       "      <td>0.608456</td>\n",
       "    </tr>\n",
       "    <tr>\n",
       "      <th>1557</th>\n",
       "      <td>SVM+oas</td>\n",
       "      <td>8.0</td>\n",
       "      <td>0.617647</td>\n",
       "    </tr>\n",
       "    <tr>\n",
       "      <th>1558</th>\n",
       "      <td>SVM+oas</td>\n",
       "      <td>8.0</td>\n",
       "      <td>0.613971</td>\n",
       "    </tr>\n",
       "    <tr>\n",
       "      <th>1559</th>\n",
       "      <td>SVM+oas</td>\n",
       "      <td>8.0</td>\n",
       "      <td>0.790441</td>\n",
       "    </tr>\n",
       "  </tbody>\n",
       "</table>\n",
       "<p>1560 rows × 3 columns</p>\n",
       "</div>"
      ],
      "text/plain": [
       "     estimator  wlen  accuracy\n",
       "0       LR+lwf   0.1  0.558824\n",
       "1       LR+lwf   0.1  0.575368\n",
       "2       LR+lwf   0.1  0.580882\n",
       "3     KNN2+lwf   0.1  0.441176\n",
       "4     KNN2+lwf   0.1  0.444853\n",
       "...        ...   ...       ...\n",
       "1555   LDA+oas   8.0  0.636029\n",
       "1556   LDA+oas   8.0  0.608456\n",
       "1557   SVM+oas   8.0  0.617647\n",
       "1558   SVM+oas   8.0  0.613971\n",
       "1559   SVM+oas   8.0  0.790441\n",
       "\n",
       "[1560 rows x 3 columns]"
      ]
     },
     "execution_count": 20,
     "metadata": {},
     "output_type": "execute_result"
    }
   ],
   "source": [
    "dfa"
   ]
  },
  {
   "cell_type": "code",
   "execution_count": 22,
   "id": "5bad9f24",
   "metadata": {},
   "outputs": [],
   "source": [
    "fig, ax = plt.subplots(figsize=(6, 4))\n",
    "sns.lineplot(\n",
    "    data=dfa,\n",
    "    x=\"wlen\",\n",
    "    y=\"accuracy\",\n",
    "    hue=\"estimator\",\n",
    "    style=\"estimator\",\n",
    "    ax=ax,\n",
    "    ci=None,\n",
    "    markers=True,\n",
    "    dashes=False,\n",
    ")\n",
    "ax.set_title(\"Accuracy for different estimators and epoch lengths\")\n",
    "ax.set_xlabel(\"Epoch length (s)\")\n",
    "ax.set_ylabel(\"Classification accuracy\")\n",
    "plt.tight_layout()"
   ]
  },
  {
   "cell_type": "code",
   "execution_count": null,
   "id": "5a679f23",
   "metadata": {},
   "outputs": [],
   "source": []
  }
 ],
 "metadata": {
  "kernelspec": {
   "display_name": "Python 3 (ipykernel)",
   "language": "python",
   "name": "python3"
  },
  "language_info": {
   "codemirror_mode": {
    "name": "ipython",
    "version": 3
   },
   "file_extension": ".py",
   "mimetype": "text/x-python",
   "name": "python",
   "nbconvert_exporter": "python",
   "pygments_lexer": "ipython3",
   "version": "3.10.0"
  }
 },
 "nbformat": 4,
 "nbformat_minor": 5
}
