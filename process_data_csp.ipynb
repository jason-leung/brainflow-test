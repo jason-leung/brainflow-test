{
 "cells": [
  {
   "cell_type": "code",
   "execution_count": 1,
   "id": "dc0fcdba",
   "metadata": {},
   "outputs": [],
   "source": [
    "%matplotlib qt"
   ]
  },
  {
   "cell_type": "code",
   "execution_count": 2,
   "id": "e0f04187",
   "metadata": {
    "scrolled": true
   },
   "outputs": [],
   "source": [
    "import os, pyxdf, json, yaml\n",
    "import mne\n",
    "import numpy as np\n",
    "import matplotlib.pyplot as plt\n",
    "import pandas as pd\n",
    "\n",
    "# from mne.time_frequency import psd_welch, tfr_morlet, tfr_multitaper\n",
    "# # from multitaper_spectrogram_python import multitaper_spectrogram\n",
    "# from mne.decoding import Scaler, Vectorizer\n",
    "\n",
    "# from sklearn.pipeline import make_pipeline\n",
    "# from sklearn.experimental import enable_halving_search_cv\n",
    "# from sklearn.model_selection import RepeatedStratifiedKFold, HalvingGridSearchCV\n",
    "\n",
    "# from sklearn.neighbors import KNeighborsClassifier\n",
    "# from sklearn.tree import DecisionTreeClassifier\n",
    "# from sklearn.ensemble import RandomForestClassifier\n",
    "# from sklearn.discriminant_analysis import LinearDiscriminantAnalysis\n",
    "# from sklearn.svm import SVC\n",
    "# from sklearn.linear_model import SGDClassifier"
   ]
  },
  {
   "cell_type": "markdown",
   "id": "15a0ee15",
   "metadata": {},
   "source": [
    "### Settings"
   ]
  },
  {
   "cell_type": "code",
   "execution_count": 3,
   "id": "99db2e58",
   "metadata": {
    "scrolled": true
   },
   "outputs": [
    {
     "name": "stdout",
     "output_type": "stream",
     "text": [
      "{'subject': 'P00J', 'session': 2, 'task': 'MI-push', 'eeg_stream_type': 'EXG', 'markers_stream_type': 'Marker', 'default_ch_names': ['Fz', 'FC1', 'FC2', 'C3', 'Cz', 'C4', 'CP1', 'CP2', 'P3', 'Pz', 'P4', 'PO3', 'PO4', 'O1', 'Oz', 'O2'], 'montage_file': 'openbci_montage.elc', 'event_dict': {'rest': 0, 'MI/push': 1}, 'rest_duration': 8, 'task_duration': 8, 'tmin': 0.0, 'tmax': 8.0, 'window_size': 1.0, 'window_overlap': 0.0, 'plotGraphs': True, 'scalings': {'eeg': 0.0002}, 'plot_duration': 10, 'bp_l_freq': 1.0, 'bp_h_freq': 40.0, 'performICA': False, 'features': 'psd', 'tfr_type': 'morlet', 'baseline': (0.0, 0.1), 'vmin': -1.0, 'vmax': 1.0}\n"
     ]
    }
   ],
   "source": [
    "config_file = 'config_MI-hands.yaml'\n",
    "\n",
    "with open(config_file) as f:\n",
    "    config = yaml.load(f.read(), Loader=yaml.Loader)\n",
    "    print(config)\n",
    "    locals().update(config)\n",
    "\n",
    "lslDir = os.path.join(os.path.expanduser('~'), 'Documents\\CurrentStudy')"
   ]
  },
  {
   "cell_type": "markdown",
   "id": "5df62ee7",
   "metadata": {},
   "source": [
    "### Find LSL Files"
   ]
  },
  {
   "cell_type": "code",
   "execution_count": 4,
   "id": "93040a72",
   "metadata": {},
   "outputs": [
    {
     "name": "stdout",
     "output_type": "stream",
     "text": [
      "sub-P00J_ses-S002_task-MI-push_run-001_eeg.xdf\n",
      "sub-P00J_ses-S002_task-MI-push_run-002_eeg.xdf\n",
      "sub-P00J_ses-S002_task-MI-push_run-005_eeg.xdf\n",
      "sub-P00J_ses-S002_task-MI-push_run-006_eeg.xdf\n",
      "sub-P00J_ses-S002_task-MI-push_run-007_eeg.xdf\n"
     ]
    }
   ],
   "source": [
    "# Find files\n",
    "xdf_files = []\n",
    "hasSubject = subject!=''\n",
    "hasSession = session!=''\n",
    "hasTask = task!=''\n",
    "for root, dir, files in os.walk(lslDir):\n",
    "    for file in files:\n",
    "        validFile = True\n",
    "        if hasSubject:\n",
    "            validFile = validFile and (('sub-'+subject) in file)\n",
    "        if hasSession:\n",
    "            validFile = validFile and (('ses-S' + str(session).zfill(3)) in file)\n",
    "        if hasTask:\n",
    "            validFile = validFile and (('task-' + task) in file)\n",
    "        validFile = validFile and file.endswith('.xdf')\n",
    "        if validFile:\n",
    "            print(file)\n",
    "            matchingFile = os.path.join(root, file)\n",
    "            xdf_files.append(matchingFile)\n",
    "\n",
    "if len(xdf_files) == 0:\n",
    "    print('No files found')"
   ]
  },
  {
   "cell_type": "code",
   "execution_count": 5,
   "id": "082bb234",
   "metadata": {
    "scrolled": true
   },
   "outputs": [
    {
     "name": "stdout",
     "output_type": "stream",
     "text": [
      "Parsing streams\n",
      "Found EXG stream in sub-P00J_ses-S002_task-MI-push_run-001_eeg.xdf\n",
      "Found Marker stream in sub-P00J_ses-S002_task-MI-push_run-001_eeg.xdf\n",
      "Found Marker stream in sub-P00J_ses-S002_task-MI-push_run-002_eeg.xdf\n",
      "Found EXG stream in sub-P00J_ses-S002_task-MI-push_run-002_eeg.xdf\n",
      "Found Marker stream in sub-P00J_ses-S002_task-MI-push_run-005_eeg.xdf\n",
      "Found EXG stream in sub-P00J_ses-S002_task-MI-push_run-005_eeg.xdf\n",
      "Found Marker stream in sub-P00J_ses-S002_task-MI-push_run-006_eeg.xdf\n",
      "Found EXG stream in sub-P00J_ses-S002_task-MI-push_run-006_eeg.xdf\n",
      "Found EXG stream in sub-P00J_ses-S002_task-MI-push_run-007_eeg.xdf\n",
      "Found Marker stream in sub-P00J_ses-S002_task-MI-push_run-007_eeg.xdf\n"
     ]
    }
   ],
   "source": [
    "# Parse streams\n",
    "eeg_stream, marker_stream = [], []\n",
    "\n",
    "print('Parsing streams')\n",
    "for xdf_file in xdf_files:\n",
    "    streams, header = pyxdf.load_xdf(xdf_file)\n",
    "    for i in range(len(streams)):\n",
    "        if streams[i]['info']['type'][0] == eeg_stream_type:\n",
    "            print(\"Found %s stream in %s\" % (eeg_stream_type, os.path.basename(xdf_file)))\n",
    "            eeg_stream.append(streams[i])\n",
    "        elif streams[i]['info']['type'][0] == markers_stream_type:\n",
    "            print(\"Found %s stream in %s\" % (markers_stream_type, os.path.basename(xdf_file)))\n",
    "            marker_stream.append(streams[i])\n",
    "del streams, header"
   ]
  },
  {
   "cell_type": "markdown",
   "id": "03af60e1",
   "metadata": {},
   "source": [
    "### Extract EEG and Marker data"
   ]
  },
  {
   "cell_type": "code",
   "execution_count": 6,
   "id": "569b6f48",
   "metadata": {},
   "outputs": [
    {
     "name": "stdout",
     "output_type": "stream",
     "text": [
      "Extracting EEG info...\n",
      "Channels:  ['Fz', 'FC1', 'FC2', 'C3', 'Cz', 'C4', 'CP1', 'CP2', 'P3', 'Pz', 'P4', 'PO3', 'PO4', 'O1', 'Oz', 'O2']\n",
      "Sampling frequency:  125.0\n"
     ]
    }
   ],
   "source": [
    "# Extract EEG Info\n",
    "print(\"Extracting EEG info...\")\n",
    "\n",
    "ch_names = []\n",
    "if eeg_stream[0]['info']['desc'][0]:\n",
    "    print(\"EEG channel names found\")\n",
    "    for i in range(len(eeg_stream[0]['info']['desc'][0]['channels'][0]['channel'])):\n",
    "        ch_names.append(eeg_stream[0]['info']['desc'][0]['channels'][0]['channel'][i]['label'][0])\n",
    "else:\n",
    "    ch_names = default_ch_names\n",
    "print('Channels: ', ch_names)\n",
    "\n",
    "sfreq = float(eeg_stream[0]['info']['nominal_srate'][0])\n",
    "print('Sampling frequency: ', sfreq)\n",
    "\n",
    "# Create MNE info object\n",
    "eeg_info = mne.create_info(ch_names, sfreq, ch_types='eeg')"
   ]
  },
  {
   "cell_type": "code",
   "execution_count": 7,
   "id": "32f764ef",
   "metadata": {},
   "outputs": [],
   "source": [
    "# Setup Montage\n",
    "montage = mne.channels.read_custom_montage(montage_file)\n",
    "# montage.plot()"
   ]
  },
  {
   "cell_type": "code",
   "execution_count": 8,
   "id": "8048953f",
   "metadata": {
    "scrolled": true
   },
   "outputs": [
    {
     "name": "stdout",
     "output_type": "stream",
     "text": [
      "(16, 31672)\n",
      "Creating RawArray with float64 data, n_channels=16, n_times=31672\n",
      "    Range : 0 ... 31671 =      0.000 ...   253.368 secs\n",
      "Ready.\n",
      "(16, 31922)\n",
      "Creating RawArray with float64 data, n_channels=16, n_times=31922\n",
      "    Range : 0 ... 31921 =      0.000 ...   255.368 secs\n",
      "Ready.\n",
      "(16, 31959)\n",
      "Creating RawArray with float64 data, n_channels=16, n_times=31959\n",
      "    Range : 0 ... 31958 =      0.000 ...   255.664 secs\n",
      "Ready.\n",
      "(16, 31316)\n",
      "Creating RawArray with float64 data, n_channels=16, n_times=31316\n",
      "    Range : 0 ... 31315 =      0.000 ...   250.520 secs\n",
      "Ready.\n",
      "(16, 31057)\n",
      "Creating RawArray with float64 data, n_channels=16, n_times=31057\n",
      "    Range : 0 ... 31056 =      0.000 ...   248.448 secs\n",
      "Ready.\n"
     ]
    }
   ],
   "source": [
    "# Get all EEG data\n",
    "eeg_raw_list = []\n",
    "\n",
    "for n in range(len(eeg_stream)):\n",
    "    # Create MNE Raw object\n",
    "    eeg_data = np.transpose(eeg_stream[n]['time_series'])\n",
    "    eeg_data = eeg_data / 1e6\n",
    "    print(eeg_data.shape)\n",
    "    eeg_raw = mne.io.RawArray(eeg_data, eeg_info)\n",
    "    \n",
    "    # Set montage\n",
    "    eeg_raw = eeg_raw.set_montage(montage)\n",
    "\n",
    "    # Add annotations\n",
    "    onset, duration, description = [], [], []\n",
    "    current_target = -1\n",
    "    current_flash = -1\n",
    "    for i in range(len(marker_stream[n]['time_series'])):\n",
    "        if 'MI' in task:\n",
    "            if ('rest' in marker_stream[n]['time_series'][i][0]) and ('cue' not in marker_stream[n]['time_series'][i][0]):\n",
    "                window_onset = tmin\n",
    "                window_start = marker_stream[n]['time_stamps'][i] - eeg_stream[n]['time_stamps'][0]\n",
    "                while (window_onset + window_size <= tmax):\n",
    "                    onset.append(window_start + window_onset)\n",
    "                    duration.append(window_size)\n",
    "                    description.append(marker_stream[n]['time_series'][i][0])\n",
    "                    window_onset = window_onset + window_size - window_overlap\n",
    "            elif ('task' in marker_stream[n]['time_series'][i][0]) and ('cue' not in marker_stream[n]['time_series'][i][0]):\n",
    "                window_onset = tmin\n",
    "                window_start = marker_stream[n]['time_stamps'][i] - eeg_stream[n]['time_stamps'][0]\n",
    "                while (window_onset + window_size <= tmax):\n",
    "                    onset.append(window_start + window_onset)\n",
    "                    duration.append(window_size)\n",
    "                    description.append(marker_stream[n]['time_series'][i][0].replace('task_', '').replace('-','/'))\n",
    "                    window_onset = window_onset + window_size - window_overlap\n",
    "        elif 'P300' in task:\n",
    "            if('target' in marker_stream[n]['time_series'][i][0]):\n",
    "                current_target = json.loads(marker_stream[n]['time_series'][i][0])['target']\n",
    "            elif('flash' in marker_stream[n]['time_series'][i][0]):\n",
    "                current_flash = json.loads(marker_stream[n]['time_series'][i][0])['flash']\n",
    "                onset.append(marker_stream[n]['time_stamps'][i] - eeg_stream[n]['time_stamps'][0])\n",
    "                duration.append(task_duration)\n",
    "                description.append(\"target\" if current_flash == current_target else \"nontarget\")\n",
    "    annotations = mne.Annotations(onset, duration, description)\n",
    "    eeg_raw = eeg_raw.set_annotations(annotations)\n",
    "    \n",
    "    # Create list of raw objects\n",
    "    eeg_raw_list.append(eeg_raw)"
   ]
  },
  {
   "cell_type": "code",
   "execution_count": 9,
   "id": "2ce8688d",
   "metadata": {
    "scrolled": true
   },
   "outputs": [
    {
     "data": {
      "text/html": [
       "\n",
       "\n",
       "<table class=\"table table-hover table-striped table-sm table-responsive small\">\n",
       "    <tr>\n",
       "        <th>Measurement date</th>\n",
       "<td>Unknown</td>\n",
       "    </tr>\n",
       "    <tr>\n",
       "        <th>Experimenter</th>\n",
       "<td>Unknown</td>\n",
       "    </tr>\n",
       "        <th>Participant</th>\n",
       "<td>Unknown</td>\n",
       "    </tr>\n",
       "    <tr>\n",
       "        <th>Digitized points</th>\n",
       "        <td>19 points</td>\n",
       "    </tr>\n",
       "    <tr>\n",
       "        <th>Good channels</th>\n",
       "        <td>16 EEG</td>\n",
       "    </tr>\n",
       "    <tr>\n",
       "        <th>Bad channels</th>\n",
       "        <td>None</td>\n",
       "    </tr>\n",
       "    <tr>\n",
       "        <th>EOG channels</th>\n",
       "        <td>Not available</td>\n",
       "    </tr>\n",
       "    <tr>\n",
       "        <th>ECG channels</th>\n",
       "        <td>Not available</td>\n",
       "    <tr>\n",
       "        <th>Sampling frequency</th>\n",
       "        <td>125.00 Hz</td>\n",
       "    </tr>\n",
       "    <tr>\n",
       "        <th>Highpass</th>\n",
       "        <td>0.00 Hz</td>\n",
       "    </tr>\n",
       "    <tr>\n",
       "        <th>Lowpass</th>\n",
       "        <td>62.50 Hz</td>\n",
       "    </tr>\n",
       "\n",
       "    <tr>\n",
       "        <th>Duration</th>\n",
       "        <td>00:21:03 (HH:MM:SS)</td>\n",
       "    </tr>\n",
       "</table>\n"
      ],
      "text/plain": [
       "<RawArray | 16 x 157926 (1263.4 s), ~19.3 MB, data loaded>"
      ]
     },
     "execution_count": 9,
     "metadata": {},
     "output_type": "execute_result"
    }
   ],
   "source": [
    "# Concatenate raw objects\n",
    "raw = mne.concatenate_raws(eeg_raw_list)\n",
    "raw"
   ]
  },
  {
   "cell_type": "markdown",
   "id": "32e81434",
   "metadata": {},
   "source": [
    "### Pre-processing"
   ]
  },
  {
   "cell_type": "code",
   "execution_count": 10,
   "id": "91852a9b",
   "metadata": {},
   "outputs": [
    {
     "name": "stdout",
     "output_type": "stream",
     "text": [
      "Adding average EEG reference projection.\n",
      "1 projection items deactivated\n",
      "Average reference projection was added, but has not been applied yet. Use the apply_proj method to apply it.\n",
      "Using matplotlib as 2D backend.\n"
     ]
    }
   ],
   "source": [
    "# Common average reference\n",
    "raw_orig = raw.copy()\n",
    "raw = raw.set_eeg_reference('average', projection=True)\n",
    "mne.write_proj('average-ref-proj.fif', raw.info['projs'])\n",
    "\n",
    "if plotGraphs:\n",
    "    fig = raw_orig.plot(title='Before Re-referencing', n_channels=16, scalings=scalings)\n",
    "    fig = raw.plot(title='After Re-referencing', n_channels=16, scalings=scalings, proj=True)"
   ]
  },
  {
   "cell_type": "code",
   "execution_count": 11,
   "id": "d0930ec9",
   "metadata": {
    "scrolled": true
   },
   "outputs": [
    {
     "name": "stdout",
     "output_type": "stream",
     "text": [
      "Filtering raw data in 5 contiguous segments\n",
      "Setting up band-pass filter from 1 - 40 Hz\n",
      "\n",
      "FIR filter parameters\n",
      "---------------------\n",
      "Designing a one-pass, zero-phase, non-causal bandpass filter:\n",
      "- Windowed time-domain design (firwin) method\n",
      "- Hamming window with 0.0194 passband ripple and 53 dB stopband attenuation\n",
      "- Lower passband edge: 1.00\n",
      "- Lower transition bandwidth: 1.00 Hz (-6 dB cutoff frequency: 0.50 Hz)\n",
      "- Upper passband edge: 40.00 Hz\n",
      "- Upper transition bandwidth: 10.00 Hz (-6 dB cutoff frequency: 45.00 Hz)\n",
      "- Filter length: 413 samples (3.304 sec)\n",
      "\n"
     ]
    }
   ],
   "source": [
    "# Bandpass filter data\n",
    "raw_orig = raw.copy()\n",
    "raw = raw.filter(l_freq=bp_l_freq, h_freq=bp_h_freq)\n",
    "\n",
    "if plotGraphs:\n",
    "    fig = raw_orig.plot(title='Before Filtering', scalings=scalings, duration=plot_duration)\n",
    "    fig = raw.plot(title='After Filtering', scalings=scalings, duration=plot_duration)"
   ]
  },
  {
   "cell_type": "markdown",
   "id": "5ca8d881",
   "metadata": {},
   "source": [
    "### Epoch data"
   ]
  },
  {
   "cell_type": "code",
   "execution_count": 12,
   "id": "a5c88f59",
   "metadata": {},
   "outputs": [
    {
     "name": "stdout",
     "output_type": "stream",
     "text": [
      "Used Annotations descriptions: ['MI/push', 'rest']\n",
      "Not setting metadata\n",
      "Not setting metadata\n",
      "800 matching events found\n",
      "No baseline correction applied\n",
      "Created an SSP operator (subspace dimension = 1)\n",
      "1 projection items activated\n",
      "Loading data for 800 events and 126 original time points ...\n",
      "0 bad epochs dropped\n",
      "<Epochs |  800 events (all good), 0 - 1 sec, baseline off, ~12.3 MB, data loaded,\n",
      " 'MI/push': 400\n",
      " 'rest': 400>\n"
     ]
    }
   ],
   "source": [
    "# Epoch data\n",
    "events, event_id = mne.events_from_annotations(raw, event_id=event_dict)\n",
    "epochs = mne.Epochs(raw, events, event_id=event_id, tmin=0., tmax=window_size, baseline=None, picks='eeg', preload=True)\n",
    "print(epochs)"
   ]
  },
  {
   "cell_type": "markdown",
   "id": "8e0e4a0e",
   "metadata": {},
   "source": [
    "### Features"
   ]
  },
  {
   "cell_type": "code",
   "execution_count": 13,
   "id": "806fe2f8",
   "metadata": {},
   "outputs": [],
   "source": [
    "# Labels\n",
    "y = epochs.events[:,-1] - min(epochs.events[:,-1])"
   ]
  },
  {
   "cell_type": "markdown",
   "id": "bb03c37f",
   "metadata": {},
   "source": [
    "### CSP"
   ]
  },
  {
   "cell_type": "code",
   "execution_count": 16,
   "id": "8b27816c",
   "metadata": {
    "scrolled": true
   },
   "outputs": [
    {
     "name": "stdout",
     "output_type": "stream",
     "text": [
      "CV fold:  1\n",
      "reg:  0.1\n",
      "Computing rank from data with rank=None\n",
      "    Using tolerance 4e-05 (2.2e-16 eps * 16 dim * 1.1e+10  max singular value)\n",
      "    Estimated rank (mag): 15\n",
      "    MAG: rank 15 computed from 16 data channels with 0 projectors\n",
      "    Setting small MAG eigenvalues to zero (without PCA)\n",
      "Reducing data rank from 16 -> 15\n",
      "Estimating covariance using SHRINKAGE\n",
      "Done.\n",
      "Computing rank from data with rank=None\n",
      "    Using tolerance 4.4e-05 (2.2e-16 eps * 16 dim * 1.2e+10  max singular value)\n",
      "    Estimated rank (mag): 15\n",
      "    MAG: rank 15 computed from 16 data channels with 0 projectors\n",
      "    Setting small MAG eigenvalues to zero (without PCA)\n",
      "Reducing data rank from 16 -> 15\n",
      "Estimating covariance using SHRINKAGE\n",
      "Done.\n",
      "reg:  0.2\n",
      "Computing rank from data with rank=None\n",
      "    Using tolerance 4e-05 (2.2e-16 eps * 16 dim * 1.1e+10  max singular value)\n",
      "    Estimated rank (mag): 15\n",
      "    MAG: rank 15 computed from 16 data channels with 0 projectors\n",
      "    Setting small MAG eigenvalues to zero (without PCA)\n",
      "Reducing data rank from 16 -> 15\n",
      "Estimating covariance using SHRINKAGE\n",
      "Done.\n",
      "Computing rank from data with rank=None\n",
      "    Using tolerance 4.4e-05 (2.2e-16 eps * 16 dim * 1.2e+10  max singular value)\n",
      "    Estimated rank (mag): 15\n",
      "    MAG: rank 15 computed from 16 data channels with 0 projectors\n",
      "    Setting small MAG eigenvalues to zero (without PCA)\n",
      "Reducing data rank from 16 -> 15\n",
      "Estimating covariance using SHRINKAGE\n",
      "Done.\n",
      "reg:  0.3\n",
      "Computing rank from data with rank=None\n",
      "    Using tolerance 4e-05 (2.2e-16 eps * 16 dim * 1.1e+10  max singular value)\n",
      "    Estimated rank (mag): 15\n",
      "    MAG: rank 15 computed from 16 data channels with 0 projectors\n",
      "    Setting small MAG eigenvalues to zero (without PCA)\n",
      "Reducing data rank from 16 -> 15\n",
      "Estimating covariance using SHRINKAGE\n",
      "Done.\n",
      "Computing rank from data with rank=None\n",
      "    Using tolerance 4.4e-05 (2.2e-16 eps * 16 dim * 1.2e+10  max singular value)\n",
      "    Estimated rank (mag): 15\n",
      "    MAG: rank 15 computed from 16 data channels with 0 projectors\n",
      "    Setting small MAG eigenvalues to zero (without PCA)\n",
      "Reducing data rank from 16 -> 15\n",
      "Estimating covariance using SHRINKAGE\n",
      "Done.\n",
      "CV fold:  2\n",
      "reg:  0.1\n",
      "Computing rank from data with rank=None\n",
      "    Using tolerance 6.8e-05 (2.2e-16 eps * 16 dim * 1.9e+10  max singular value)\n",
      "    Estimated rank (mag): 15\n",
      "    MAG: rank 15 computed from 16 data channels with 0 projectors\n",
      "    Setting small MAG eigenvalues to zero (without PCA)\n",
      "Reducing data rank from 16 -> 15\n",
      "Estimating covariance using SHRINKAGE\n",
      "Done.\n",
      "Computing rank from data with rank=None\n",
      "    Using tolerance 4.5e-05 (2.2e-16 eps * 16 dim * 1.3e+10  max singular value)\n",
      "    Estimated rank (mag): 15\n",
      "    MAG: rank 15 computed from 16 data channels with 0 projectors\n",
      "    Setting small MAG eigenvalues to zero (without PCA)\n",
      "Reducing data rank from 16 -> 15\n",
      "Estimating covariance using SHRINKAGE\n",
      "Done.\n",
      "reg:  0.2\n",
      "Computing rank from data with rank=None\n",
      "    Using tolerance 6.8e-05 (2.2e-16 eps * 16 dim * 1.9e+10  max singular value)\n",
      "    Estimated rank (mag): 15\n",
      "    MAG: rank 15 computed from 16 data channels with 0 projectors\n",
      "    Setting small MAG eigenvalues to zero (without PCA)\n",
      "Reducing data rank from 16 -> 15\n",
      "Estimating covariance using SHRINKAGE\n",
      "Done.\n",
      "Computing rank from data with rank=None\n",
      "    Using tolerance 4.5e-05 (2.2e-16 eps * 16 dim * 1.3e+10  max singular value)\n",
      "    Estimated rank (mag): 15\n",
      "    MAG: rank 15 computed from 16 data channels with 0 projectors\n",
      "    Setting small MAG eigenvalues to zero (without PCA)\n",
      "Reducing data rank from 16 -> 15\n",
      "Estimating covariance using SHRINKAGE\n",
      "Done.\n",
      "reg:  0.3\n",
      "Computing rank from data with rank=None\n",
      "    Using tolerance 6.8e-05 (2.2e-16 eps * 16 dim * 1.9e+10  max singular value)\n",
      "    Estimated rank (mag): 15\n",
      "    MAG: rank 15 computed from 16 data channels with 0 projectors\n",
      "    Setting small MAG eigenvalues to zero (without PCA)\n",
      "Reducing data rank from 16 -> 15\n",
      "Estimating covariance using SHRINKAGE\n",
      "Done.\n",
      "Computing rank from data with rank=None\n",
      "    Using tolerance 4.5e-05 (2.2e-16 eps * 16 dim * 1.3e+10  max singular value)\n",
      "    Estimated rank (mag): 15\n",
      "    MAG: rank 15 computed from 16 data channels with 0 projectors\n",
      "    Setting small MAG eigenvalues to zero (without PCA)\n",
      "Reducing data rank from 16 -> 15\n",
      "Estimating covariance using SHRINKAGE\n",
      "Done.\n",
      "CV fold:  3\n",
      "reg:  0.1\n",
      "Computing rank from data with rank=None\n",
      "    Using tolerance 4.5e-05 (2.2e-16 eps * 16 dim * 1.3e+10  max singular value)\n",
      "    Estimated rank (mag): 15\n",
      "    MAG: rank 15 computed from 16 data channels with 0 projectors\n",
      "    Setting small MAG eigenvalues to zero (without PCA)\n",
      "Reducing data rank from 16 -> 15\n",
      "Estimating covariance using SHRINKAGE\n",
      "Done.\n",
      "Computing rank from data with rank=None\n",
      "    Using tolerance 4.3e-05 (2.2e-16 eps * 16 dim * 1.2e+10  max singular value)\n",
      "    Estimated rank (mag): 15\n",
      "    MAG: rank 15 computed from 16 data channels with 0 projectors\n",
      "    Setting small MAG eigenvalues to zero (without PCA)\n",
      "Reducing data rank from 16 -> 15\n",
      "Estimating covariance using SHRINKAGE\n",
      "Done.\n",
      "reg:  0.2\n",
      "Computing rank from data with rank=None\n",
      "    Using tolerance 4.5e-05 (2.2e-16 eps * 16 dim * 1.3e+10  max singular value)\n",
      "    Estimated rank (mag): 15\n",
      "    MAG: rank 15 computed from 16 data channels with 0 projectors\n",
      "    Setting small MAG eigenvalues to zero (without PCA)\n",
      "Reducing data rank from 16 -> 15\n",
      "Estimating covariance using SHRINKAGE\n",
      "Done.\n",
      "Computing rank from data with rank=None\n",
      "    Using tolerance 4.3e-05 (2.2e-16 eps * 16 dim * 1.2e+10  max singular value)\n",
      "    Estimated rank (mag): 15\n",
      "    MAG: rank 15 computed from 16 data channels with 0 projectors\n",
      "    Setting small MAG eigenvalues to zero (without PCA)\n",
      "Reducing data rank from 16 -> 15\n",
      "Estimating covariance using SHRINKAGE\n",
      "Done.\n",
      "reg:  0.3\n",
      "Computing rank from data with rank=None\n",
      "    Using tolerance 4.5e-05 (2.2e-16 eps * 16 dim * 1.3e+10  max singular value)\n",
      "    Estimated rank (mag): 15\n",
      "    MAG: rank 15 computed from 16 data channels with 0 projectors\n",
      "    Setting small MAG eigenvalues to zero (without PCA)\n",
      "Reducing data rank from 16 -> 15\n",
      "Estimating covariance using SHRINKAGE\n",
      "Done.\n",
      "Computing rank from data with rank=None\n",
      "    Using tolerance 4.3e-05 (2.2e-16 eps * 16 dim * 1.2e+10  max singular value)\n",
      "    Estimated rank (mag): 15\n",
      "    MAG: rank 15 computed from 16 data channels with 0 projectors\n",
      "    Setting small MAG eigenvalues to zero (without PCA)\n",
      "Reducing data rank from 16 -> 15\n",
      "Estimating covariance using SHRINKAGE\n",
      "Done.\n",
      "CV fold:  4\n",
      "reg:  0.1\n",
      "Computing rank from data with rank=None\n",
      "    Using tolerance 4e-05 (2.2e-16 eps * 16 dim * 1.1e+10  max singular value)\n",
      "    Estimated rank (mag): 15\n",
      "    MAG: rank 15 computed from 16 data channels with 0 projectors\n",
      "    Setting small MAG eigenvalues to zero (without PCA)\n",
      "Reducing data rank from 16 -> 15\n",
      "Estimating covariance using SHRINKAGE\n",
      "Done.\n",
      "Computing rank from data with rank=None\n",
      "    Using tolerance 4.4e-05 (2.2e-16 eps * 16 dim * 1.2e+10  max singular value)\n",
      "    Estimated rank (mag): 15\n",
      "    MAG: rank 15 computed from 16 data channels with 0 projectors\n",
      "    Setting small MAG eigenvalues to zero (without PCA)\n",
      "Reducing data rank from 16 -> 15\n",
      "Estimating covariance using SHRINKAGE\n",
      "Done.\n",
      "reg:  0.2\n",
      "Computing rank from data with rank=None\n",
      "    Using tolerance 4e-05 (2.2e-16 eps * 16 dim * 1.1e+10  max singular value)\n",
      "    Estimated rank (mag): 15\n",
      "    MAG: rank 15 computed from 16 data channels with 0 projectors\n",
      "    Setting small MAG eigenvalues to zero (without PCA)\n",
      "Reducing data rank from 16 -> 15\n",
      "Estimating covariance using SHRINKAGE\n",
      "Done.\n",
      "Computing rank from data with rank=None\n",
      "    Using tolerance 4.4e-05 (2.2e-16 eps * 16 dim * 1.2e+10  max singular value)\n",
      "    Estimated rank (mag): 15\n",
      "    MAG: rank 15 computed from 16 data channels with 0 projectors\n",
      "    Setting small MAG eigenvalues to zero (without PCA)\n",
      "Reducing data rank from 16 -> 15\n",
      "Estimating covariance using SHRINKAGE\n",
      "Done.\n"
     ]
    },
    {
     "ename": "LinAlgError",
     "evalue": "The leading minor of order 16 of B is not positive definite. The factorization of B could not be completed and no eigenvalues or eigenvectors were computed.",
     "output_type": "error",
     "traceback": [
      "\u001b[1;31m---------------------------------------------------------------------------\u001b[0m",
      "\u001b[1;31mLinAlgError\u001b[0m                               Traceback (most recent call last)",
      "Input \u001b[1;32mIn [16]\u001b[0m, in \u001b[0;36m<module>\u001b[1;34m\u001b[0m\n\u001b[0;32m     31\u001b[0m lda \u001b[38;5;241m=\u001b[39m LinearDiscriminantAnalysis()\n\u001b[0;32m     33\u001b[0m y_train, y_test \u001b[38;5;241m=\u001b[39m labels[train_idx], labels[test_idx]\n\u001b[1;32m---> 34\u001b[0m X_train \u001b[38;5;241m=\u001b[39m \u001b[43mcsp\u001b[49m\u001b[38;5;241;43m.\u001b[39;49m\u001b[43mfit_transform\u001b[49m\u001b[43m(\u001b[49m\u001b[43mepochs_data\u001b[49m\u001b[43m[\u001b[49m\u001b[43mtrain_idx\u001b[49m\u001b[43m]\u001b[49m\u001b[43m,\u001b[49m\u001b[43m \u001b[49m\u001b[43my_train\u001b[49m\u001b[43m)\u001b[49m\n\u001b[0;32m     35\u001b[0m X_test \u001b[38;5;241m=\u001b[39m csp\u001b[38;5;241m.\u001b[39mtransform(epochs_data[test_idx])\n\u001b[0;32m     37\u001b[0m lda\u001b[38;5;241m.\u001b[39mfit(X_train, y_train)\n",
      "File \u001b[1;32m~\\Anaconda3\\envs\\mindset\\lib\\site-packages\\mne\\decoding\\mixin.py:33\u001b[0m, in \u001b[0;36mTransformerMixin.fit_transform\u001b[1;34m(self, X, y, **fit_params)\u001b[0m\n\u001b[0;32m     30\u001b[0m     \u001b[38;5;28;01mreturn\u001b[39;00m \u001b[38;5;28mself\u001b[39m\u001b[38;5;241m.\u001b[39mfit(X, \u001b[38;5;241m*\u001b[39m\u001b[38;5;241m*\u001b[39mfit_params)\u001b[38;5;241m.\u001b[39mtransform(X)\n\u001b[0;32m     31\u001b[0m \u001b[38;5;28;01melse\u001b[39;00m:\n\u001b[0;32m     32\u001b[0m     \u001b[38;5;66;03m# fit method of arity 2 (supervised transformation)\u001b[39;00m\n\u001b[1;32m---> 33\u001b[0m     \u001b[38;5;28;01mreturn\u001b[39;00m \u001b[38;5;28mself\u001b[39m\u001b[38;5;241m.\u001b[39mfit(X, y, \u001b[38;5;241m*\u001b[39m\u001b[38;5;241m*\u001b[39mfit_params)\u001b[38;5;241m.\u001b[39mtransform(X)\n",
      "File \u001b[1;32m~\\Anaconda3\\envs\\mindset\\lib\\site-packages\\mne\\decoding\\csp.py:176\u001b[0m, in \u001b[0;36mCSP.fit\u001b[1;34m(self, X, y)\u001b[0m\n\u001b[0;32m    170\u001b[0m     \u001b[38;5;28;01mraise\u001b[39;00m \u001b[38;5;167;01mValueError\u001b[39;00m(\u001b[38;5;124m\"\u001b[39m\u001b[38;5;124mcomponent_order=\u001b[39m\u001b[38;5;124m'\u001b[39m\u001b[38;5;124malternate\u001b[39m\u001b[38;5;124m'\u001b[39m\u001b[38;5;124m requires two \u001b[39m\u001b[38;5;124m\"\u001b[39m\n\u001b[0;32m    171\u001b[0m                      \u001b[38;5;124m\"\u001b[39m\u001b[38;5;124mclasses, but data contains \u001b[39m\u001b[38;5;132;01m{}\u001b[39;00m\u001b[38;5;124m classes; use \u001b[39m\u001b[38;5;124m\"\u001b[39m\n\u001b[0;32m    172\u001b[0m                      \u001b[38;5;124m\"\u001b[39m\u001b[38;5;124mcomponent_order=\u001b[39m\u001b[38;5;124m'\u001b[39m\u001b[38;5;124mmutual_info\u001b[39m\u001b[38;5;124m'\u001b[39m\u001b[38;5;124m \u001b[39m\u001b[38;5;124m\"\u001b[39m\n\u001b[0;32m    173\u001b[0m                      \u001b[38;5;124m\"\u001b[39m\u001b[38;5;124minstead.\u001b[39m\u001b[38;5;124m\"\u001b[39m\u001b[38;5;241m.\u001b[39mformat(n_classes))\n\u001b[0;32m    175\u001b[0m covs, sample_weights \u001b[38;5;241m=\u001b[39m \u001b[38;5;28mself\u001b[39m\u001b[38;5;241m.\u001b[39m_compute_covariance_matrices(X, y)\n\u001b[1;32m--> 176\u001b[0m eigen_vectors, eigen_values \u001b[38;5;241m=\u001b[39m \u001b[38;5;28;43mself\u001b[39;49m\u001b[38;5;241;43m.\u001b[39;49m\u001b[43m_decompose_covs\u001b[49m\u001b[43m(\u001b[49m\u001b[43mcovs\u001b[49m\u001b[43m,\u001b[49m\n\u001b[0;32m    177\u001b[0m \u001b[43m                                                   \u001b[49m\u001b[43msample_weights\u001b[49m\u001b[43m)\u001b[49m\n\u001b[0;32m    178\u001b[0m ix \u001b[38;5;241m=\u001b[39m \u001b[38;5;28mself\u001b[39m\u001b[38;5;241m.\u001b[39m_order_components(covs, sample_weights, eigen_vectors,\n\u001b[0;32m    179\u001b[0m                             eigen_values, \u001b[38;5;28mself\u001b[39m\u001b[38;5;241m.\u001b[39mcomponent_order)\n\u001b[0;32m    181\u001b[0m eigen_vectors \u001b[38;5;241m=\u001b[39m eigen_vectors[:, ix]\n",
      "File \u001b[1;32m~\\Anaconda3\\envs\\mindset\\lib\\site-packages\\mne\\decoding\\csp.py:531\u001b[0m, in \u001b[0;36mCSP._decompose_covs\u001b[1;34m(self, covs, sample_weights)\u001b[0m\n\u001b[0;32m    529\u001b[0m n_classes \u001b[38;5;241m=\u001b[39m \u001b[38;5;28mlen\u001b[39m(covs)\n\u001b[0;32m    530\u001b[0m \u001b[38;5;28;01mif\u001b[39;00m n_classes \u001b[38;5;241m==\u001b[39m \u001b[38;5;241m2\u001b[39m:\n\u001b[1;32m--> 531\u001b[0m     eigen_values, eigen_vectors \u001b[38;5;241m=\u001b[39m \u001b[43mlinalg\u001b[49m\u001b[38;5;241;43m.\u001b[39;49m\u001b[43meigh\u001b[49m\u001b[43m(\u001b[49m\u001b[43mcovs\u001b[49m\u001b[43m[\u001b[49m\u001b[38;5;241;43m0\u001b[39;49m\u001b[43m]\u001b[49m\u001b[43m,\u001b[49m\u001b[43m \u001b[49m\u001b[43mcovs\u001b[49m\u001b[38;5;241;43m.\u001b[39;49m\u001b[43msum\u001b[49m\u001b[43m(\u001b[49m\u001b[38;5;241;43m0\u001b[39;49m\u001b[43m)\u001b[49m\u001b[43m)\u001b[49m\n\u001b[0;32m    532\u001b[0m \u001b[38;5;28;01melse\u001b[39;00m:\n\u001b[0;32m    533\u001b[0m     \u001b[38;5;66;03m# The multiclass case is adapted from\u001b[39;00m\n\u001b[0;32m    534\u001b[0m     \u001b[38;5;66;03m# http://github.com/alexandrebarachant/pyRiemann\u001b[39;00m\n\u001b[0;32m    535\u001b[0m     eigen_vectors, D \u001b[38;5;241m=\u001b[39m _ajd_pham(covs)\n",
      "File \u001b[1;32m~\\Anaconda3\\envs\\mindset\\lib\\site-packages\\scipy\\linalg\\decomp.py:578\u001b[0m, in \u001b[0;36meigh\u001b[1;34m(a, b, lower, eigvals_only, overwrite_a, overwrite_b, turbo, eigvals, type, check_finite, subset_by_index, subset_by_value, driver)\u001b[0m\n\u001b[0;32m    575\u001b[0m     \u001b[38;5;28;01mraise\u001b[39;00m LinAlgError(\u001b[38;5;124m'\u001b[39m\u001b[38;5;124mIllegal value in argument \u001b[39m\u001b[38;5;132;01m{}\u001b[39;00m\u001b[38;5;124m of internal \u001b[39m\u001b[38;5;132;01m{}\u001b[39;00m\u001b[38;5;124m'\u001b[39m\n\u001b[0;32m    576\u001b[0m                       \u001b[38;5;124m'\u001b[39m\u001b[38;5;124m'\u001b[39m\u001b[38;5;241m.\u001b[39mformat(\u001b[38;5;241m-\u001b[39minfo, drv\u001b[38;5;241m.\u001b[39mtypecode \u001b[38;5;241m+\u001b[39m pfx \u001b[38;5;241m+\u001b[39m driver))\n\u001b[0;32m    577\u001b[0m \u001b[38;5;28;01melif\u001b[39;00m info \u001b[38;5;241m>\u001b[39m n:\n\u001b[1;32m--> 578\u001b[0m     \u001b[38;5;28;01mraise\u001b[39;00m LinAlgError(\u001b[38;5;124m'\u001b[39m\u001b[38;5;124mThe leading minor of order \u001b[39m\u001b[38;5;132;01m{}\u001b[39;00m\u001b[38;5;124m of B is not \u001b[39m\u001b[38;5;124m'\u001b[39m\n\u001b[0;32m    579\u001b[0m                       \u001b[38;5;124m'\u001b[39m\u001b[38;5;124mpositive definite. The factorization of B \u001b[39m\u001b[38;5;124m'\u001b[39m\n\u001b[0;32m    580\u001b[0m                       \u001b[38;5;124m'\u001b[39m\u001b[38;5;124mcould not be completed and no eigenvalues \u001b[39m\u001b[38;5;124m'\u001b[39m\n\u001b[0;32m    581\u001b[0m                       \u001b[38;5;124m'\u001b[39m\u001b[38;5;124mor eigenvectors were computed.\u001b[39m\u001b[38;5;124m'\u001b[39m\u001b[38;5;241m.\u001b[39mformat(info\u001b[38;5;241m-\u001b[39mn))\n\u001b[0;32m    582\u001b[0m \u001b[38;5;28;01melse\u001b[39;00m:\n\u001b[0;32m    583\u001b[0m     drv_err \u001b[38;5;241m=\u001b[39m {\u001b[38;5;124m'\u001b[39m\u001b[38;5;124mev\u001b[39m\u001b[38;5;124m'\u001b[39m: \u001b[38;5;124m'\u001b[39m\u001b[38;5;124mThe algorithm failed to converge; \u001b[39m\u001b[38;5;132;01m{}\u001b[39;00m\u001b[38;5;124m \u001b[39m\u001b[38;5;124m'\u001b[39m\n\u001b[0;32m    584\u001b[0m                      \u001b[38;5;124m'\u001b[39m\u001b[38;5;124moff-diagonal elements of an intermediate \u001b[39m\u001b[38;5;124m'\u001b[39m\n\u001b[0;32m    585\u001b[0m                      \u001b[38;5;124m'\u001b[39m\u001b[38;5;124mtridiagonal form did not converge to zero.\u001b[39m\u001b[38;5;124m'\u001b[39m,\n\u001b[1;32m   (...)\u001b[0m\n\u001b[0;32m    590\u001b[0m                \u001b[38;5;124m'\u001b[39m\u001b[38;5;124mevr\u001b[39m\u001b[38;5;124m'\u001b[39m: \u001b[38;5;124m'\u001b[39m\u001b[38;5;124mInternal Error.\u001b[39m\u001b[38;5;124m'\u001b[39m\n\u001b[0;32m    591\u001b[0m                }\n",
      "\u001b[1;31mLinAlgError\u001b[0m: The leading minor of order 16 of B is not positive definite. The factorization of B could not be completed and no eigenvalues or eigenvectors were computed."
     ]
    }
   ],
   "source": [
    "from sklearn.pipeline import Pipeline\n",
    "from sklearn.discriminant_analysis import LinearDiscriminantAnalysis\n",
    "from sklearn.model_selection import ShuffleSplit, cross_val_score\n",
    "from mne.decoding import CSP\n",
    "\n",
    "import warnings\n",
    "warnings.filterwarnings(\"ignore\")\n",
    "\n",
    "labels = y\n",
    "\n",
    "# Define a monte-carlo cross-validation generator (reduce variance):\n",
    "scores = []\n",
    "epochs_data = epochs.get_data()\n",
    "# epochs_data_train = epochs_train.get_data()\n",
    "cv = ShuffleSplit(10, test_size=0.2, random_state=42)\n",
    "cv_split = cv.split(epochs)\n",
    "\n",
    "score_dict = {}\n",
    "\n",
    "# reg = np.linspace(0.1, 1, 10)\n",
    "reg = np.array([0.1, 0.2, 0.3])\n",
    "\n",
    "fold = 1\n",
    "for train_idx, test_idx in cv_split:\n",
    "    print('CV fold: ', fold)\n",
    "    fold += 1\n",
    "    \n",
    "    for i in range(len(reg)):\n",
    "        print('reg: ', reg[i])\n",
    "        csp = CSP(n_components=4, reg=reg[i], log=True, norm_trace=False)\n",
    "        lda = LinearDiscriminantAnalysis()\n",
    "\n",
    "        y_train, y_test = labels[train_idx], labels[test_idx]\n",
    "        X_train = csp.fit_transform(epochs_data[train_idx], y_train)\n",
    "        X_test = csp.transform(epochs_data[test_idx])\n",
    "\n",
    "        lda.fit(X_train, y_train)\n",
    "        scores = lda.score(X_test, y_test)\n",
    "\n",
    "        if str(reg[i]) not in score_dict.keys():\n",
    "            score_dict[str(reg[i])] = []\n",
    "        score_dict[str(reg[i])].append(scores)"
   ]
  },
  {
   "cell_type": "code",
   "execution_count": null,
   "id": "0f0a68fd",
   "metadata": {},
   "outputs": [],
   "source": [
    "for i in range(len(reg)):\n",
    "    print(reg[i], ': ', np.mean(score_dict[str(reg[i])]))"
   ]
  },
  {
   "cell_type": "code",
   "execution_count": null,
   "id": "ab6b22a6",
   "metadata": {},
   "outputs": [],
   "source": [
    "score_dict"
   ]
  },
  {
   "cell_type": "code",
   "execution_count": null,
   "id": "e49e0524",
   "metadata": {},
   "outputs": [],
   "source": [
    "# X = epochs.get_data()\n",
    "# y = epochs.events[:,-1] - min(epochs.events[:,-1])\n",
    "\n",
    "# csp = CSP(n_components=4, reg=0.8, log=True, norm_trace=False)\n",
    "# lda = LinearDiscriminantAnalysis()\n",
    "\n",
    "# model = Pipeline([('CSP', csp), ('LDA', lda)])\n",
    "# model.fit(X, y)\n",
    "\n",
    "# print(model.score(X, y))\n",
    "\n",
    "# # Save model\n",
    "# import pickle\n",
    "# fname = 'model.sav'\n",
    "# pickle.dump(model, open(fname, 'wb'))"
   ]
  }
 ],
 "metadata": {
  "kernelspec": {
   "display_name": "Python 3 (ipykernel)",
   "language": "python",
   "name": "python3"
  },
  "language_info": {
   "codemirror_mode": {
    "name": "ipython",
    "version": 3
   },
   "file_extension": ".py",
   "mimetype": "text/x-python",
   "name": "python",
   "nbconvert_exporter": "python",
   "pygments_lexer": "ipython3",
   "version": "3.10.0"
  }
 },
 "nbformat": 4,
 "nbformat_minor": 5
}
