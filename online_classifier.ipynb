{
 "cells": [
  {
   "cell_type": "code",
   "execution_count": null,
   "id": "e9a7ee9e",
   "metadata": {},
   "outputs": [],
   "source": [
    "import pylsl, math, pickle, mne\n",
    "import numpy as np\n",
    "import time"
   ]
  },
  {
   "cell_type": "code",
   "execution_count": null,
   "id": "f6b016a3",
   "metadata": {},
   "outputs": [],
   "source": [
    "# Load Model\n",
    "fname = 'model.sav'\n",
    "model = pickle.load(open(fname, 'rb'))\n",
    "\n",
    "# Load average reference projection\n",
    "avg_proj = mne.read_proj('average-ref-proj.fif')"
   ]
  },
  {
   "cell_type": "code",
   "execution_count": null,
   "id": "6b86d2a0",
   "metadata": {},
   "outputs": [],
   "source": [
    "plot_duration = 1  # how many seconds of data to show\n",
    "update_interval = 60  # ms between screen updates\n",
    "pull_interval = 500  # ms between each pull operation\n",
    "\n",
    "streams = pylsl.resolve_streams()\n",
    "\n",
    "for info in streams:\n",
    "    if info.type() == 'EEG':\n",
    "        eeg_stream = info"
   ]
  },
  {
   "cell_type": "code",
   "execution_count": null,
   "id": "bcacf550",
   "metadata": {},
   "outputs": [],
   "source": [
    "inlet = pylsl.StreamInlet(eeg_stream, max_buflen=plot_duration, processing_flags=pylsl.proc_clocksync | pylsl.proc_dejitter)\n",
    "name = eeg_stream.name()\n",
    "channel_count = eeg_stream.channel_count()\n",
    "bufsize = (2 * math.ceil(eeg_stream.nominal_srate() * plot_duration), eeg_stream.channel_count())\n",
    "dtypes = [[], np.float32, np.float64, None, np.int32, np.int16, np.int8, np.int64]\n",
    "buffer = np.empty(bufsize, dtype=dtypes[eeg_stream.channel_format()])\n",
    "empty = np.array([])"
   ]
  },
  {
   "cell_type": "code",
   "execution_count": null,
   "id": "d9c149b3",
   "metadata": {},
   "outputs": [],
   "source": [
    "mne.set_log_level('ERROR')\n",
    "ch_names = ['Fz', 'FC1', 'FC2', 'C3', 'Cz', 'C4', 'CP1', 'CP2', 'P3', 'Pz', 'P4', 'PO3', 'PO4', 'O1', 'Oz', 'O2']\n",
    "sfreq = 125\n",
    "eeg_info = mne.create_info(ch_names, sfreq, ch_types='eeg')\n"
   ]
  },
  {
   "cell_type": "code",
   "execution_count": null,
   "id": "3510b961",
   "metadata": {
    "scrolled": true
   },
   "outputs": [],
   "source": [
    "# streams = resolve_stream('type', 'EEG')\n",
    "# inlet = StreamInlet(streams[0])\n",
    "\n",
    "while True:\n",
    "    _, ts = inlet.pull_chunk(timeout=0.0, max_samples=buffer.shape[0], dest_obj=buffer)\n",
    "    \n",
    "    if ts:\n",
    "        ts = np.asarray(ts)\n",
    "        \n",
    "        # Create MNE Raw object\n",
    "        raw = mne.io.RawArray(np.nan_to_num(np.transpose(buffer / 1e6)), eeg_info)\n",
    "        raw = raw.add_proj(avg_proj)\n",
    "        raw = raw.filter(l_freq=1., h_freq=40., n_jobs=-1)\n",
    "\n",
    "        y_predict = model.predict(np.expand_dims(raw.get_data()[:,-126:], axis=0))\n",
    "\n",
    "        if y_predict[0] == 0:\n",
    "            print(\"Rest\")\n",
    "        else:\n",
    "            print(\"MI\")\n",
    "        \n",
    "    time.sleep(1./250.)"
   ]
  }
 ],
 "metadata": {
  "kernelspec": {
   "display_name": "Python 3 (ipykernel)",
   "language": "python",
   "name": "python3"
  },
  "language_info": {
   "codemirror_mode": {
    "name": "ipython",
    "version": 3
   },
   "file_extension": ".py",
   "mimetype": "text/x-python",
   "name": "python",
   "nbconvert_exporter": "python",
   "pygments_lexer": "ipython3",
   "version": "3.10.0"
  }
 },
 "nbformat": 4,
 "nbformat_minor": 5
}
