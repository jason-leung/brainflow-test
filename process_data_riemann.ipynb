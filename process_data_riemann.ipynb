{
 "cells": [
  {
   "cell_type": "code",
   "execution_count": 1,
   "id": "dc0fcdba",
   "metadata": {},
   "outputs": [],
   "source": [
    "%matplotlib qt"
   ]
  },
  {
   "cell_type": "code",
   "execution_count": 2,
   "id": "e0f04187",
   "metadata": {
    "scrolled": true
   },
   "outputs": [],
   "source": [
    "import os, pyxdf, json, yaml\n",
    "import mne\n",
    "import numpy as np\n",
    "import matplotlib.pyplot as plt\n",
    "import pandas as pd\n",
    "\n",
    "# from mne.time_frequency import psd_welch, tfr_morlet, tfr_multitaper\n",
    "# # from multitaper_spectrogram_python import multitaper_spectrogram\n",
    "# from mne.decoding import Scaler, Vectorizer\n",
    "\n",
    "# from sklearn.pipeline import make_pipeline\n",
    "# from sklearn.experimental import enable_halving_search_cv\n",
    "# from sklearn.model_selection import HalvingGridSearchCV\n",
    "from sklearn.model_selection import RepeatedStratifiedKFold\n",
    "\n",
    "# from sklearn.neighbors import KNeighborsClassifier\n",
    "# from sklearn.tree import DecisionTreeClassifier\n",
    "# from sklearn.ensemble import RandomForestClassifier\n",
    "# from sklearn.discriminant_analysis import LinearDiscriminantAnalysis\n",
    "# from sklearn.svm import SVC\n",
    "# from sklearn.linear_model import SGDClassifier\n",
    "\n",
    "# pyriemann import\n",
    "from pyriemann.classification import MDM, TSclassifier\n",
    "from pyriemann.estimation import Covariances\n",
    "\n",
    "# sklearn imports\n",
    "from sklearn.model_selection import cross_val_score, KFold\n",
    "from sklearn.pipeline import Pipeline\n",
    "from mne.decoding import CSP\n",
    "from sklearn.linear_model import LogisticRegression\n",
    "\n",
    "import seaborn as sns"
   ]
  },
  {
   "cell_type": "markdown",
   "id": "15a0ee15",
   "metadata": {},
   "source": [
    "### Settings"
   ]
  },
  {
   "cell_type": "code",
   "execution_count": 3,
   "id": "99db2e58",
   "metadata": {
    "scrolled": true
   },
   "outputs": [
    {
     "name": "stdout",
     "output_type": "stream",
     "text": [
      "{'subject': 'P00J', 'session': 2, 'task': 'MI-push', 'eeg_stream_type': 'EXG', 'markers_stream_type': 'Marker', 'default_ch_names': ['Fz', 'FC1', 'FC2', 'C3', 'Cz', 'C4', 'CP1', 'CP2', 'P3', 'Pz', 'P4', 'PO3', 'PO4', 'O1', 'Oz', 'O2'], 'montage_file': 'openbci_montage.elc', 'event_dict': {'rest': 0, 'MI/push': 1}, 'rest_duration': 8, 'task_duration': 8, 'tmin': 0.0, 'tmax': 8.0, 'window_size': 1.0, 'window_overlap': 0.5, 'plotGraphs': True, 'scalings': {'eeg': 0.0002}, 'plot_duration': 10, 'bp_l_freq': 1.0, 'bp_h_freq': 40.0, 'performICA': False, 'features': 'psd', 'tfr_type': 'morlet', 'baseline': (0.0, 0.1), 'vmin': -1.0, 'vmax': 1.0}\n"
     ]
    }
   ],
   "source": [
    "config_file = 'config_MI-hands.yaml'\n",
    "\n",
    "with open(config_file) as f:\n",
    "    config = yaml.load(f.read(), Loader=yaml.Loader)\n",
    "    print(config)\n",
    "    locals().update(config)\n",
    "\n",
    "lslDir = os.path.join(os.path.expanduser('~'), 'Documents\\CurrentStudy')"
   ]
  },
  {
   "cell_type": "markdown",
   "id": "5df62ee7",
   "metadata": {},
   "source": [
    "### Find LSL Files"
   ]
  },
  {
   "cell_type": "code",
   "execution_count": 4,
   "id": "93040a72",
   "metadata": {},
   "outputs": [
    {
     "name": "stdout",
     "output_type": "stream",
     "text": [
      "sub-P00J_ses-S002_task-MI-push_run-001_eeg.xdf\n",
      "sub-P00J_ses-S002_task-MI-push_run-002_eeg.xdf\n",
      "sub-P00J_ses-S002_task-MI-push_run-005_eeg.xdf\n",
      "sub-P00J_ses-S002_task-MI-push_run-006_eeg.xdf\n",
      "sub-P00J_ses-S002_task-MI-push_run-007_eeg.xdf\n"
     ]
    }
   ],
   "source": [
    "# Find files\n",
    "xdf_files = []\n",
    "hasSubject = subject!=''\n",
    "hasSession = session!=''\n",
    "hasTask = task!=''\n",
    "for root, dir, files in os.walk(lslDir):\n",
    "    for file in files:\n",
    "        validFile = True\n",
    "        if hasSubject:\n",
    "            validFile = validFile and (('sub-'+subject) in file)\n",
    "        if hasSession:\n",
    "            validFile = validFile and (('ses-S' + str(session).zfill(3)) in file)\n",
    "        if hasTask:\n",
    "            validFile = validFile and (('task-' + task) in file)\n",
    "        validFile = validFile and file.endswith('.xdf')\n",
    "        if validFile:\n",
    "            print(file)\n",
    "            matchingFile = os.path.join(root, file)\n",
    "            xdf_files.append(matchingFile)\n",
    "\n",
    "if len(xdf_files) == 0:\n",
    "    print('No files found')"
   ]
  },
  {
   "cell_type": "code",
   "execution_count": 5,
   "id": "082bb234",
   "metadata": {
    "scrolled": true
   },
   "outputs": [
    {
     "name": "stdout",
     "output_type": "stream",
     "text": [
      "Parsing streams\n",
      "Found EXG stream in sub-P00J_ses-S002_task-MI-push_run-001_eeg.xdf\n",
      "Found Marker stream in sub-P00J_ses-S002_task-MI-push_run-001_eeg.xdf\n",
      "Found Marker stream in sub-P00J_ses-S002_task-MI-push_run-002_eeg.xdf\n",
      "Found EXG stream in sub-P00J_ses-S002_task-MI-push_run-002_eeg.xdf\n",
      "Found Marker stream in sub-P00J_ses-S002_task-MI-push_run-005_eeg.xdf\n",
      "Found EXG stream in sub-P00J_ses-S002_task-MI-push_run-005_eeg.xdf\n",
      "Found Marker stream in sub-P00J_ses-S002_task-MI-push_run-006_eeg.xdf\n",
      "Found EXG stream in sub-P00J_ses-S002_task-MI-push_run-006_eeg.xdf\n",
      "Found EXG stream in sub-P00J_ses-S002_task-MI-push_run-007_eeg.xdf\n",
      "Found Marker stream in sub-P00J_ses-S002_task-MI-push_run-007_eeg.xdf\n"
     ]
    }
   ],
   "source": [
    "# Parse streams\n",
    "eeg_stream, marker_stream = [], []\n",
    "\n",
    "print('Parsing streams')\n",
    "for xdf_file in xdf_files:\n",
    "    streams, header = pyxdf.load_xdf(xdf_file)\n",
    "    for i in range(len(streams)):\n",
    "        if streams[i]['info']['type'][0] == eeg_stream_type:\n",
    "            print(\"Found %s stream in %s\" % (eeg_stream_type, os.path.basename(xdf_file)))\n",
    "            eeg_stream.append(streams[i])\n",
    "        elif streams[i]['info']['type'][0] == markers_stream_type:\n",
    "            print(\"Found %s stream in %s\" % (markers_stream_type, os.path.basename(xdf_file)))\n",
    "            marker_stream.append(streams[i])\n",
    "del streams, header"
   ]
  },
  {
   "cell_type": "markdown",
   "id": "03af60e1",
   "metadata": {},
   "source": [
    "### Extract EEG and Marker data"
   ]
  },
  {
   "cell_type": "code",
   "execution_count": 6,
   "id": "569b6f48",
   "metadata": {},
   "outputs": [
    {
     "name": "stdout",
     "output_type": "stream",
     "text": [
      "Extracting EEG info...\n",
      "Channels:  ['Fz', 'FC1', 'FC2', 'C3', 'Cz', 'C4', 'CP1', 'CP2', 'P3', 'Pz', 'P4', 'PO3', 'PO4', 'O1', 'Oz', 'O2']\n",
      "Sampling frequency:  125.0\n"
     ]
    }
   ],
   "source": [
    "# Extract EEG Info\n",
    "print(\"Extracting EEG info...\")\n",
    "\n",
    "ch_names = []\n",
    "if eeg_stream[0]['info']['desc'][0]:\n",
    "    print(\"EEG channel names found\")\n",
    "    for i in range(len(eeg_stream[0]['info']['desc'][0]['channels'][0]['channel'])):\n",
    "        ch_names.append(eeg_stream[0]['info']['desc'][0]['channels'][0]['channel'][i]['label'][0])\n",
    "else:\n",
    "    ch_names = default_ch_names\n",
    "print('Channels: ', ch_names)\n",
    "\n",
    "sfreq = float(eeg_stream[0]['info']['nominal_srate'][0])\n",
    "print('Sampling frequency: ', sfreq)\n",
    "\n",
    "# Create MNE info object\n",
    "eeg_info = mne.create_info(ch_names, sfreq, ch_types='eeg')"
   ]
  },
  {
   "cell_type": "code",
   "execution_count": 7,
   "id": "32f764ef",
   "metadata": {},
   "outputs": [],
   "source": [
    "# Setup Montage\n",
    "montage = mne.channels.read_custom_montage(montage_file)\n",
    "# montage.plot()"
   ]
  },
  {
   "cell_type": "code",
   "execution_count": 8,
   "id": "8048953f",
   "metadata": {
    "scrolled": true
   },
   "outputs": [
    {
     "name": "stdout",
     "output_type": "stream",
     "text": [
      "(16, 31672)\n",
      "Creating RawArray with float64 data, n_channels=16, n_times=31672\n",
      "    Range : 0 ... 31671 =      0.000 ...   253.368 secs\n",
      "Ready.\n",
      "(16, 31922)\n",
      "Creating RawArray with float64 data, n_channels=16, n_times=31922\n",
      "    Range : 0 ... 31921 =      0.000 ...   255.368 secs\n",
      "Ready.\n",
      "(16, 31959)\n",
      "Creating RawArray with float64 data, n_channels=16, n_times=31959\n",
      "    Range : 0 ... 31958 =      0.000 ...   255.664 secs\n",
      "Ready.\n",
      "(16, 31316)\n",
      "Creating RawArray with float64 data, n_channels=16, n_times=31316\n",
      "    Range : 0 ... 31315 =      0.000 ...   250.520 secs\n",
      "Ready.\n",
      "(16, 31057)\n",
      "Creating RawArray with float64 data, n_channels=16, n_times=31057\n",
      "    Range : 0 ... 31056 =      0.000 ...   248.448 secs\n",
      "Ready.\n"
     ]
    }
   ],
   "source": [
    "# Get all EEG data\n",
    "eeg_raw_list = []\n",
    "\n",
    "for n in range(len(eeg_stream)):\n",
    "    # Create MNE Raw object\n",
    "    eeg_data = np.transpose(eeg_stream[n]['time_series'])\n",
    "    eeg_data = eeg_data / 1e6\n",
    "    print(eeg_data.shape)\n",
    "    eeg_raw = mne.io.RawArray(eeg_data, eeg_info)\n",
    "    \n",
    "    # Set montage\n",
    "    eeg_raw = eeg_raw.set_montage(montage)\n",
    "\n",
    "    # Add annotations\n",
    "    onset, duration, description = [], [], []\n",
    "    current_target = -1\n",
    "    current_flash = -1\n",
    "    for i in range(len(marker_stream[n]['time_series'])):\n",
    "        if 'MI' in task:\n",
    "            if ('rest' in marker_stream[n]['time_series'][i][0]) and ('cue' not in marker_stream[n]['time_series'][i][0]):\n",
    "                window_onset = tmin\n",
    "                window_start = marker_stream[n]['time_stamps'][i] - eeg_stream[n]['time_stamps'][0]\n",
    "                while (window_onset + window_size <= tmax):\n",
    "                    onset.append(window_start + window_onset)\n",
    "                    duration.append(window_size)\n",
    "                    description.append(marker_stream[n]['time_series'][i][0])\n",
    "                    window_onset = window_onset + window_size - window_overlap\n",
    "            elif ('task' in marker_stream[n]['time_series'][i][0]) and ('cue' not in marker_stream[n]['time_series'][i][0]):\n",
    "                window_onset = tmin\n",
    "                window_start = marker_stream[n]['time_stamps'][i] - eeg_stream[n]['time_stamps'][0]\n",
    "                while (window_onset + window_size <= tmax):\n",
    "                    onset.append(window_start + window_onset)\n",
    "                    duration.append(window_size)\n",
    "                    description.append(marker_stream[n]['time_series'][i][0].replace('task_', '').replace('-','/'))\n",
    "                    window_onset = window_onset + window_size - window_overlap\n",
    "        elif 'P300' in task:\n",
    "            if('target' in marker_stream[n]['time_series'][i][0]):\n",
    "                current_target = json.loads(marker_stream[n]['time_series'][i][0])['target']\n",
    "            elif('flash' in marker_stream[n]['time_series'][i][0]):\n",
    "                current_flash = json.loads(marker_stream[n]['time_series'][i][0])['flash']\n",
    "                onset.append(marker_stream[n]['time_stamps'][i] - eeg_stream[n]['time_stamps'][0])\n",
    "                duration.append(task_duration)\n",
    "                description.append(\"target\" if current_flash == current_target else \"nontarget\")\n",
    "    annotations = mne.Annotations(onset, duration, description)\n",
    "    eeg_raw = eeg_raw.set_annotations(annotations)\n",
    "    \n",
    "    # Create list of raw objects\n",
    "    eeg_raw_list.append(eeg_raw)"
   ]
  },
  {
   "cell_type": "code",
   "execution_count": 9,
   "id": "ea700653",
   "metadata": {},
   "outputs": [
    {
     "name": "stdout",
     "output_type": "stream",
     "text": [
      "None\n"
     ]
    }
   ],
   "source": [
    "print(eeg_raw_list[0].annotations.orig_time)"
   ]
  },
  {
   "cell_type": "code",
   "execution_count": 10,
   "id": "2ce8688d",
   "metadata": {
    "scrolled": true
   },
   "outputs": [
    {
     "data": {
      "text/html": [
       "\n",
       "\n",
       "<table class=\"table table-hover table-striped table-sm table-responsive small\">\n",
       "    <tr>\n",
       "        <th>Measurement date</th>\n",
       "<td>Unknown</td>\n",
       "    </tr>\n",
       "    <tr>\n",
       "        <th>Experimenter</th>\n",
       "<td>Unknown</td>\n",
       "    </tr>\n",
       "        <th>Participant</th>\n",
       "<td>Unknown</td>\n",
       "    </tr>\n",
       "    <tr>\n",
       "        <th>Digitized points</th>\n",
       "        <td>19 points</td>\n",
       "    </tr>\n",
       "    <tr>\n",
       "        <th>Good channels</th>\n",
       "        <td>16 EEG</td>\n",
       "    </tr>\n",
       "    <tr>\n",
       "        <th>Bad channels</th>\n",
       "        <td>None</td>\n",
       "    </tr>\n",
       "    <tr>\n",
       "        <th>EOG channels</th>\n",
       "        <td>Not available</td>\n",
       "    </tr>\n",
       "    <tr>\n",
       "        <th>ECG channels</th>\n",
       "        <td>Not available</td>\n",
       "    <tr>\n",
       "        <th>Sampling frequency</th>\n",
       "        <td>125.00 Hz</td>\n",
       "    </tr>\n",
       "    <tr>\n",
       "        <th>Highpass</th>\n",
       "        <td>0.00 Hz</td>\n",
       "    </tr>\n",
       "    <tr>\n",
       "        <th>Lowpass</th>\n",
       "        <td>62.50 Hz</td>\n",
       "    </tr>\n",
       "\n",
       "    <tr>\n",
       "        <th>Duration</th>\n",
       "        <td>00:21:03 (HH:MM:SS)</td>\n",
       "    </tr>\n",
       "</table>\n"
      ],
      "text/plain": [
       "<RawArray | 16 x 157926 (1263.4 s), ~19.3 MB, data loaded>"
      ]
     },
     "execution_count": 10,
     "metadata": {},
     "output_type": "execute_result"
    }
   ],
   "source": [
    "# Concatenate raw objects\n",
    "raw = mne.concatenate_raws(eeg_raw_list)\n",
    "raw"
   ]
  },
  {
   "cell_type": "markdown",
   "id": "32e81434",
   "metadata": {},
   "source": [
    "### Pre-processing"
   ]
  },
  {
   "cell_type": "code",
   "execution_count": 11,
   "id": "91852a9b",
   "metadata": {},
   "outputs": [
    {
     "name": "stdout",
     "output_type": "stream",
     "text": [
      "EEG channel type selected for re-referencing\n",
      "Applying average reference.\n",
      "Applying a custom ('EEG',) reference.\n",
      "Using matplotlib as 2D backend.\n"
     ]
    }
   ],
   "source": [
    "# Common average reference\n",
    "raw_orig = raw.copy()\n",
    "raw = raw.set_eeg_reference('average', projection=False)\n",
    "\n",
    "if plotGraphs:\n",
    "    fig = raw_orig.plot(title='Before Re-referencing', n_channels=16, scalings=scalings)\n",
    "    fig = raw.plot(title='After Re-referencing', n_channels=16, scalings=scalings)"
   ]
  },
  {
   "cell_type": "code",
   "execution_count": 12,
   "id": "d0930ec9",
   "metadata": {},
   "outputs": [
    {
     "name": "stdout",
     "output_type": "stream",
     "text": [
      "Filtering raw data in 5 contiguous segments\n",
      "Setting up band-pass filter from 1 - 40 Hz\n",
      "\n",
      "FIR filter parameters\n",
      "---------------------\n",
      "Designing a one-pass, zero-phase, non-causal bandpass filter:\n",
      "- Windowed time-domain design (firwin) method\n",
      "- Hamming window with 0.0194 passband ripple and 53 dB stopband attenuation\n",
      "- Lower passband edge: 1.00\n",
      "- Lower transition bandwidth: 1.00 Hz (-6 dB cutoff frequency: 0.50 Hz)\n",
      "- Upper passband edge: 40.00 Hz\n",
      "- Upper transition bandwidth: 10.00 Hz (-6 dB cutoff frequency: 45.00 Hz)\n",
      "- Filter length: 413 samples (3.304 sec)\n",
      "\n"
     ]
    }
   ],
   "source": [
    "# Bandpass filter data\n",
    "raw_orig = raw.copy()\n",
    "raw = raw.filter(l_freq=bp_l_freq, h_freq=bp_h_freq)\n",
    "\n",
    "if plotGraphs:\n",
    "    fig = raw_orig.plot(title='Before Filtering', scalings=scalings, duration=plot_duration)\n",
    "    fig = raw.plot(title='After Filtering', scalings=scalings, duration=plot_duration)"
   ]
  },
  {
   "cell_type": "markdown",
   "id": "5ca8d881",
   "metadata": {},
   "source": [
    "### Epoch data"
   ]
  },
  {
   "cell_type": "code",
   "execution_count": 13,
   "id": "a5c88f59",
   "metadata": {},
   "outputs": [
    {
     "name": "stdout",
     "output_type": "stream",
     "text": [
      "Used Annotations descriptions: ['MI/push', 'rest']\n",
      "Not setting metadata\n",
      "Not setting metadata\n",
      "1500 matching events found\n",
      "No baseline correction applied\n",
      "0 projection items activated\n",
      "Loading data for 1500 events and 126 original time points ...\n",
      "0 bad epochs dropped\n",
      "<Epochs |  1500 events (all good), 0 - 1 sec, baseline off, ~23.1 MB, data loaded,\n",
      " 'MI/push': 750\n",
      " 'rest': 750>\n"
     ]
    }
   ],
   "source": [
    "# Epoch data\n",
    "events, event_id = mne.events_from_annotations(raw, event_id=event_dict)\n",
    "epochs = mne.Epochs(raw, events, event_id=event_id, tmin=0., tmax=window_size, baseline=None, picks='eeg', preload=True)\n",
    "print(epochs)"
   ]
  },
  {
   "cell_type": "markdown",
   "id": "8e0e4a0e",
   "metadata": {},
   "source": [
    "### Features"
   ]
  },
  {
   "cell_type": "code",
   "execution_count": 14,
   "id": "806fe2f8",
   "metadata": {},
   "outputs": [],
   "source": [
    "# Labels\n",
    "y = epochs.events[:,-1] - min(epochs.events[:,-1])\n",
    "labels = y"
   ]
  },
  {
   "cell_type": "markdown",
   "id": "e59010a6",
   "metadata": {},
   "source": [
    "### Classification"
   ]
  },
  {
   "cell_type": "code",
   "execution_count": 15,
   "id": "4968dc46",
   "metadata": {},
   "outputs": [],
   "source": [
    "# Set up cross validation\n",
    "cv = RepeatedStratifiedKFold(n_splits=5, n_repeats=5, random_state=42)\n",
    "\n",
    "# Set up scoring\n",
    "scoring = 'accuracy'\n",
    "scores = {'Classifier': [],\n",
    "          'Score': [],\n",
    "          'Std': []\n",
    "         }"
   ]
  },
  {
   "cell_type": "code",
   "execution_count": 16,
   "id": "8e484562",
   "metadata": {},
   "outputs": [],
   "source": [
    "epochs_data_train = epochs.get_data() * 1e6\n",
    "cov_data_train = Covariances('oas').transform(epochs_data_train)"
   ]
  },
  {
   "cell_type": "code",
   "execution_count": 17,
   "id": "8a7aa370",
   "metadata": {
    "scrolled": false
   },
   "outputs": [
    {
     "name": "stdout",
     "output_type": "stream",
     "text": [
      "MDM Classification accuracy: 0.620933 / Chance level: 0.500000\n"
     ]
    }
   ],
   "source": [
    "# Classification with Minimum distance to mean\n",
    "mdm = MDM(metric=dict(mean='riemann', distance='riemann'))\n",
    "\n",
    "# Use scikit-learn Pipeline with cross_val_score function\n",
    "scores = cross_val_score(mdm, cov_data_train, labels, cv=cv, n_jobs=-1)\n",
    "\n",
    "# Printing the results\n",
    "class_balance = np.mean(labels == labels[0])\n",
    "class_balance = max(class_balance, 1. - class_balance)\n",
    "print(\"MDM Classification accuracy: %f / Chance level: %f\" % (np.mean(scores), class_balance))"
   ]
  },
  {
   "cell_type": "code",
   "execution_count": 18,
   "id": "93b82ee9",
   "metadata": {},
   "outputs": [
    {
     "name": "stdout",
     "output_type": "stream",
     "text": [
      "Tangent space Classification accuracy: 0.686533 / Chance level: 0.500000\n"
     ]
    }
   ],
   "source": [
    "# Classification with Tangent Space Logistic Regression\n",
    "clf = TSclassifier()\n",
    "# Use scikit-learn Pipeline with cross_val_score function\n",
    "scores = cross_val_score(clf, cov_data_train, labels, cv=cv, n_jobs=-1)\n",
    "\n",
    "# Printing the results\n",
    "class_balance = np.mean(labels == labels[0])\n",
    "class_balance = max(class_balance, 1. - class_balance)\n",
    "print(\"Tangent space Classification accuracy: %f / Chance level: %f\" % (np.mean(scores), class_balance))"
   ]
  },
  {
   "cell_type": "code",
   "execution_count": 19,
   "id": "18515c28",
   "metadata": {
    "scrolled": true
   },
   "outputs": [
    {
     "name": "stdout",
     "output_type": "stream",
     "text": [
      "Computing rank from data with rank=None\n",
      "    Using tolerance 81 (2.2e-16 eps * 16 dim * 2.3e+16  max singular value)\n",
      "    Estimated rank (mag): 16\n",
      "    MAG: rank 16 computed from 16 data channels with 0 projectors\n",
      "Reducing data rank from 16 -> 16\n",
      "Estimating covariance using LEDOIT_WOLF\n",
      "Done.\n",
      "Computing rank from data with rank=None\n",
      "    Using tolerance 59 (2.2e-16 eps * 16 dim * 1.7e+16  max singular value)\n",
      "    Estimated rank (mag): 16\n",
      "    MAG: rank 16 computed from 16 data channels with 0 projectors\n",
      "Reducing data rank from 16 -> 16\n",
      "Estimating covariance using LEDOIT_WOLF\n",
      "Done.\n",
      "Computing rank from data with rank=None\n",
      "    Using tolerance 81 (2.2e-16 eps * 16 dim * 2.3e+16  max singular value)\n",
      "    Estimated rank (mag): 16\n",
      "    MAG: rank 16 computed from 16 data channels with 0 projectors\n",
      "Reducing data rank from 16 -> 16\n",
      "Estimating covariance using LEDOIT_WOLF\n",
      "Done.\n",
      "Computing rank from data with rank=None\n",
      "    Using tolerance 60 (2.2e-16 eps * 16 dim * 1.7e+16  max singular value)\n",
      "    Estimated rank (mag): 16\n",
      "    MAG: rank 16 computed from 16 data channels with 0 projectors\n",
      "Reducing data rank from 16 -> 16\n",
      "Estimating covariance using LEDOIT_WOLF\n",
      "Done.\n",
      "Computing rank from data with rank=None\n",
      "    Using tolerance 81 (2.2e-16 eps * 16 dim * 2.3e+16  max singular value)\n",
      "    Estimated rank (mag): 16\n",
      "    MAG: rank 16 computed from 16 data channels with 0 projectors\n",
      "Reducing data rank from 16 -> 16\n",
      "Estimating covariance using LEDOIT_WOLF\n",
      "Done.\n",
      "Computing rank from data with rank=None\n",
      "    Using tolerance 59 (2.2e-16 eps * 16 dim * 1.7e+16  max singular value)\n",
      "    Estimated rank (mag): 16\n",
      "    MAG: rank 16 computed from 16 data channels with 0 projectors\n",
      "Reducing data rank from 16 -> 16\n",
      "Estimating covariance using LEDOIT_WOLF\n",
      "Done.\n",
      "Computing rank from data with rank=None\n",
      "    Using tolerance 81 (2.2e-16 eps * 16 dim * 2.3e+16  max singular value)\n",
      "    Estimated rank (mag): 16\n",
      "    MAG: rank 16 computed from 16 data channels with 0 projectors\n",
      "Reducing data rank from 16 -> 16\n",
      "Estimating covariance using LEDOIT_WOLF\n",
      "Done.\n",
      "Computing rank from data with rank=None\n",
      "    Using tolerance 59 (2.2e-16 eps * 16 dim * 1.7e+16  max singular value)\n",
      "    Estimated rank (mag): 16\n",
      "    MAG: rank 16 computed from 16 data channels with 0 projectors\n",
      "Reducing data rank from 16 -> 16\n",
      "Estimating covariance using LEDOIT_WOLF\n",
      "Done.\n",
      "Computing rank from data with rank=None\n",
      "    Using tolerance 56 (2.2e-16 eps * 16 dim * 1.6e+16  max singular value)\n",
      "    Estimated rank (mag): 16\n",
      "    MAG: rank 16 computed from 16 data channels with 0 projectors\n",
      "Reducing data rank from 16 -> 16\n",
      "Estimating covariance using LEDOIT_WOLF\n",
      "Done.\n",
      "Computing rank from data with rank=None\n",
      "    Using tolerance 60 (2.2e-16 eps * 16 dim * 1.7e+16  max singular value)\n",
      "    Estimated rank (mag): 16\n",
      "    MAG: rank 16 computed from 16 data channels with 0 projectors\n",
      "Reducing data rank from 16 -> 16\n",
      "Estimating covariance using LEDOIT_WOLF\n",
      "Done.\n",
      "Computing rank from data with rank=None\n",
      "    Using tolerance 55 (2.2e-16 eps * 16 dim * 1.6e+16  max singular value)\n",
      "    Estimated rank (mag): 16\n",
      "    MAG: rank 16 computed from 16 data channels with 0 projectors\n",
      "Reducing data rank from 16 -> 16\n",
      "Estimating covariance using LEDOIT_WOLF\n",
      "Done.\n",
      "Computing rank from data with rank=None\n",
      "    Using tolerance 60 (2.2e-16 eps * 16 dim * 1.7e+16  max singular value)\n",
      "    Estimated rank (mag): 16\n",
      "    MAG: rank 16 computed from 16 data channels with 0 projectors\n",
      "Reducing data rank from 16 -> 16\n",
      "Estimating covariance using LEDOIT_WOLF\n",
      "Done.\n",
      "Computing rank from data with rank=None\n",
      "    Using tolerance 81 (2.2e-16 eps * 16 dim * 2.3e+16  max singular value)\n",
      "    Estimated rank (mag): 16\n",
      "    MAG: rank 16 computed from 16 data channels with 0 projectors\n",
      "Reducing data rank from 16 -> 16\n",
      "Estimating covariance using LEDOIT_WOLF\n",
      "Done.\n",
      "Computing rank from data with rank=None\n",
      "    Using tolerance 60 (2.2e-16 eps * 16 dim * 1.7e+16  max singular value)\n",
      "    Estimated rank (mag): 16\n",
      "    MAG: rank 16 computed from 16 data channels with 0 projectors\n",
      "Reducing data rank from 16 -> 16\n",
      "Estimating covariance using LEDOIT_WOLF\n",
      "Done.\n",
      "Computing rank from data with rank=None\n",
      "    Using tolerance 81 (2.2e-16 eps * 16 dim * 2.3e+16  max singular value)\n",
      "    Estimated rank (mag): 16\n",
      "    MAG: rank 16 computed from 16 data channels with 0 projectors\n",
      "Reducing data rank from 16 -> 16\n",
      "Estimating covariance using LEDOIT_WOLF\n",
      "Done.\n",
      "Computing rank from data with rank=None\n",
      "    Using tolerance 60 (2.2e-16 eps * 16 dim * 1.7e+16  max singular value)\n",
      "    Estimated rank (mag): 16\n",
      "    MAG: rank 16 computed from 16 data channels with 0 projectors\n",
      "Reducing data rank from 16 -> 16\n",
      "Estimating covariance using LEDOIT_WOLF\n",
      "Done.\n",
      "Computing rank from data with rank=None\n",
      "    Using tolerance 81 (2.2e-16 eps * 16 dim * 2.3e+16  max singular value)\n",
      "    Estimated rank (mag): 16\n",
      "    MAG: rank 16 computed from 16 data channels with 0 projectors\n",
      "Reducing data rank from 16 -> 16\n",
      "Estimating covariance using LEDOIT_WOLF\n",
      "Done.\n",
      "Computing rank from data with rank=None\n",
      "    Using tolerance 59 (2.2e-16 eps * 16 dim * 1.7e+16  max singular value)\n",
      "    Estimated rank (mag): 16\n",
      "    MAG: rank 16 computed from 16 data channels with 0 projectors\n",
      "Reducing data rank from 16 -> 16\n",
      "Estimating covariance using LEDOIT_WOLF\n",
      "Done.\n",
      "Computing rank from data with rank=None\n",
      "    Using tolerance 80 (2.2e-16 eps * 16 dim * 2.3e+16  max singular value)\n",
      "    Estimated rank (mag): 16\n",
      "    MAG: rank 16 computed from 16 data channels with 0 projectors\n",
      "Reducing data rank from 16 -> 16\n",
      "Estimating covariance using LEDOIT_WOLF\n",
      "Done.\n",
      "Computing rank from data with rank=None\n",
      "    Using tolerance 59 (2.2e-16 eps * 16 dim * 1.7e+16  max singular value)\n",
      "    Estimated rank (mag): 16\n",
      "    MAG: rank 16 computed from 16 data channels with 0 projectors\n",
      "Reducing data rank from 16 -> 16\n",
      "Estimating covariance using LEDOIT_WOLF\n",
      "Done.\n",
      "Computing rank from data with rank=None\n",
      "    Using tolerance 63 (2.2e-16 eps * 16 dim * 1.8e+16  max singular value)\n",
      "    Estimated rank (mag): 16\n",
      "    MAG: rank 16 computed from 16 data channels with 0 projectors\n",
      "Reducing data rank from 16 -> 16\n",
      "Estimating covariance using LEDOIT_WOLF\n",
      "Done.\n",
      "Computing rank from data with rank=None\n",
      "    Using tolerance 60 (2.2e-16 eps * 16 dim * 1.7e+16  max singular value)\n",
      "    Estimated rank (mag): 16\n",
      "    MAG: rank 16 computed from 16 data channels with 0 projectors\n",
      "Reducing data rank from 16 -> 16\n",
      "Estimating covariance using LEDOIT_WOLF\n",
      "Done.\n",
      "Computing rank from data with rank=None\n",
      "    Using tolerance 80 (2.2e-16 eps * 16 dim * 2.2e+16  max singular value)\n",
      "    Estimated rank (mag): 16\n",
      "    MAG: rank 16 computed from 16 data channels with 0 projectors\n",
      "Reducing data rank from 16 -> 16\n",
      "Estimating covariance using LEDOIT_WOLF\n",
      "Done.\n",
      "Computing rank from data with rank=None\n",
      "    Using tolerance 60 (2.2e-16 eps * 16 dim * 1.7e+16  max singular value)\n",
      "    Estimated rank (mag): 16\n",
      "    MAG: rank 16 computed from 16 data channels with 0 projectors\n",
      "Reducing data rank from 16 -> 16\n",
      "Estimating covariance using LEDOIT_WOLF\n",
      "Done.\n",
      "Computing rank from data with rank=None\n",
      "    Using tolerance 80 (2.2e-16 eps * 16 dim * 2.3e+16  max singular value)\n",
      "    Estimated rank (mag): 16\n",
      "    MAG: rank 16 computed from 16 data channels with 0 projectors\n",
      "Reducing data rank from 16 -> 16\n",
      "Estimating covariance using LEDOIT_WOLF\n",
      "Done.\n",
      "Computing rank from data with rank=None\n",
      "    Using tolerance 58 (2.2e-16 eps * 16 dim * 1.6e+16  max singular value)\n",
      "    Estimated rank (mag): 16\n",
      "    MAG: rank 16 computed from 16 data channels with 0 projectors\n",
      "Reducing data rank from 16 -> 16\n",
      "Estimating covariance using LEDOIT_WOLF\n",
      "Done.\n",
      "Computing rank from data with rank=None\n",
      "    Using tolerance 80 (2.2e-16 eps * 16 dim * 2.3e+16  max singular value)\n",
      "    Estimated rank (mag): 16\n",
      "    MAG: rank 16 computed from 16 data channels with 0 projectors\n",
      "Reducing data rank from 16 -> 16\n",
      "Estimating covariance using LEDOIT_WOLF\n",
      "Done.\n",
      "Computing rank from data with rank=None\n",
      "    Using tolerance 60 (2.2e-16 eps * 16 dim * 1.7e+16  max singular value)\n",
      "    Estimated rank (mag): 16\n",
      "    MAG: rank 16 computed from 16 data channels with 0 projectors\n",
      "Reducing data rank from 16 -> 16\n",
      "Estimating covariance using LEDOIT_WOLF\n",
      "Done.\n",
      "Computing rank from data with rank=None\n",
      "    Using tolerance 77 (2.2e-16 eps * 16 dim * 2.2e+16  max singular value)\n"
     ]
    },
    {
     "name": "stdout",
     "output_type": "stream",
     "text": [
      "    Estimated rank (mag): 16\n",
      "    MAG: rank 16 computed from 16 data channels with 0 projectors\n",
      "Reducing data rank from 16 -> 16\n",
      "Estimating covariance using LEDOIT_WOLF\n",
      "Done.\n",
      "Computing rank from data with rank=None\n",
      "    Using tolerance 60 (2.2e-16 eps * 16 dim * 1.7e+16  max singular value)\n",
      "    Estimated rank (mag): 16\n",
      "    MAG: rank 16 computed from 16 data channels with 0 projectors\n",
      "Reducing data rank from 16 -> 16\n",
      "Estimating covariance using LEDOIT_WOLF\n",
      "Done.\n",
      "Computing rank from data with rank=None\n",
      "    Using tolerance 79 (2.2e-16 eps * 16 dim * 2.2e+16  max singular value)\n",
      "    Estimated rank (mag): 16\n",
      "    MAG: rank 16 computed from 16 data channels with 0 projectors\n",
      "Reducing data rank from 16 -> 16\n",
      "Estimating covariance using LEDOIT_WOLF\n",
      "Done.\n",
      "Computing rank from data with rank=None\n",
      "    Using tolerance 60 (2.2e-16 eps * 16 dim * 1.7e+16  max singular value)\n",
      "    Estimated rank (mag): 16\n",
      "    MAG: rank 16 computed from 16 data channels with 0 projectors\n",
      "Reducing data rank from 16 -> 16\n",
      "Estimating covariance using LEDOIT_WOLF\n",
      "Done.\n",
      "Computing rank from data with rank=None\n",
      "    Using tolerance 80 (2.2e-16 eps * 16 dim * 2.3e+16  max singular value)\n",
      "    Estimated rank (mag): 16\n",
      "    MAG: rank 16 computed from 16 data channels with 0 projectors\n",
      "Reducing data rank from 16 -> 16\n",
      "Estimating covariance using LEDOIT_WOLF\n",
      "Done.\n",
      "Computing rank from data with rank=None\n",
      "    Using tolerance 59 (2.2e-16 eps * 16 dim * 1.7e+16  max singular value)\n",
      "    Estimated rank (mag): 16\n",
      "    MAG: rank 16 computed from 16 data channels with 0 projectors\n",
      "Reducing data rank from 16 -> 16\n",
      "Estimating covariance using LEDOIT_WOLF\n",
      "Done.\n",
      "Computing rank from data with rank=None\n",
      "    Using tolerance 77 (2.2e-16 eps * 16 dim * 2.2e+16  max singular value)\n",
      "    Estimated rank (mag): 16\n",
      "    MAG: rank 16 computed from 16 data channels with 0 projectors\n",
      "Reducing data rank from 16 -> 16\n",
      "Estimating covariance using LEDOIT_WOLF\n",
      "Done.\n",
      "Computing rank from data with rank=None\n",
      "    Using tolerance 59 (2.2e-16 eps * 16 dim * 1.7e+16  max singular value)\n",
      "    Estimated rank (mag): 16\n",
      "    MAG: rank 16 computed from 16 data channels with 0 projectors\n",
      "Reducing data rank from 16 -> 16\n",
      "Estimating covariance using LEDOIT_WOLF\n",
      "Done.\n",
      "Computing rank from data with rank=None\n",
      "    Using tolerance 81 (2.2e-16 eps * 16 dim * 2.3e+16  max singular value)\n",
      "    Estimated rank (mag): 16\n",
      "    MAG: rank 16 computed from 16 data channels with 0 projectors\n",
      "Reducing data rank from 16 -> 16\n",
      "Estimating covariance using LEDOIT_WOLF\n",
      "Done.\n",
      "Computing rank from data with rank=None\n",
      "    Using tolerance 60 (2.2e-16 eps * 16 dim * 1.7e+16  max singular value)\n",
      "    Estimated rank (mag): 16\n",
      "    MAG: rank 16 computed from 16 data channels with 0 projectors\n",
      "Reducing data rank from 16 -> 16\n",
      "Estimating covariance using LEDOIT_WOLF\n",
      "Done.\n",
      "Computing rank from data with rank=None\n",
      "    Using tolerance 64 (2.2e-16 eps * 16 dim * 1.8e+16  max singular value)\n",
      "    Estimated rank (mag): 16\n",
      "    MAG: rank 16 computed from 16 data channels with 0 projectors\n",
      "Reducing data rank from 16 -> 16\n",
      "Estimating covariance using LEDOIT_WOLF\n",
      "Done.\n",
      "Computing rank from data with rank=None\n",
      "    Using tolerance 61 (2.2e-16 eps * 16 dim * 1.7e+16  max singular value)\n",
      "    Estimated rank (mag): 16\n",
      "    MAG: rank 16 computed from 16 data channels with 0 projectors\n",
      "Reducing data rank from 16 -> 16\n",
      "Estimating covariance using LEDOIT_WOLF\n",
      "Done.\n",
      "Computing rank from data with rank=None\n",
      "    Using tolerance 80 (2.2e-16 eps * 16 dim * 2.3e+16  max singular value)\n",
      "    Estimated rank (mag): 16\n",
      "    MAG: rank 16 computed from 16 data channels with 0 projectors\n",
      "Reducing data rank from 16 -> 16\n",
      "Estimating covariance using LEDOIT_WOLF\n",
      "Done.\n",
      "Computing rank from data with rank=None\n",
      "    Using tolerance 59 (2.2e-16 eps * 16 dim * 1.7e+16  max singular value)\n",
      "    Estimated rank (mag): 16\n",
      "    MAG: rank 16 computed from 16 data channels with 0 projectors\n",
      "Reducing data rank from 16 -> 16\n",
      "Estimating covariance using LEDOIT_WOLF\n",
      "Done.\n",
      "Computing rank from data with rank=None\n",
      "    Using tolerance 81 (2.2e-16 eps * 16 dim * 2.3e+16  max singular value)\n",
      "    Estimated rank (mag): 16\n",
      "    MAG: rank 16 computed from 16 data channels with 0 projectors\n",
      "Reducing data rank from 16 -> 16\n",
      "Estimating covariance using LEDOIT_WOLF\n",
      "Done.\n",
      "Computing rank from data with rank=None\n",
      "    Using tolerance 60 (2.2e-16 eps * 16 dim * 1.7e+16  max singular value)\n",
      "    Estimated rank (mag): 16\n",
      "    MAG: rank 16 computed from 16 data channels with 0 projectors\n",
      "Reducing data rank from 16 -> 16\n",
      "Estimating covariance using LEDOIT_WOLF\n",
      "Done.\n",
      "Computing rank from data with rank=None\n",
      "    Using tolerance 63 (2.2e-16 eps * 16 dim * 1.8e+16  max singular value)\n",
      "    Estimated rank (mag): 16\n",
      "    MAG: rank 16 computed from 16 data channels with 0 projectors\n",
      "Reducing data rank from 16 -> 16\n",
      "Estimating covariance using LEDOIT_WOLF\n",
      "Done.\n",
      "Computing rank from data with rank=None\n",
      "    Using tolerance 58 (2.2e-16 eps * 16 dim * 1.6e+16  max singular value)\n",
      "    Estimated rank (mag): 16\n",
      "    MAG: rank 16 computed from 16 data channels with 0 projectors\n",
      "Reducing data rank from 16 -> 16\n",
      "Estimating covariance using LEDOIT_WOLF\n",
      "Done.\n",
      "Computing rank from data with rank=None\n",
      "    Using tolerance 78 (2.2e-16 eps * 16 dim * 2.2e+16  max singular value)\n",
      "    Estimated rank (mag): 16\n",
      "    MAG: rank 16 computed from 16 data channels with 0 projectors\n",
      "Reducing data rank from 16 -> 16\n",
      "Estimating covariance using LEDOIT_WOLF\n",
      "Done.\n",
      "Computing rank from data with rank=None\n",
      "    Using tolerance 60 (2.2e-16 eps * 16 dim * 1.7e+16  max singular value)\n",
      "    Estimated rank (mag): 16\n",
      "    MAG: rank 16 computed from 16 data channels with 0 projectors\n",
      "Reducing data rank from 16 -> 16\n",
      "Estimating covariance using LEDOIT_WOLF\n",
      "Done.\n",
      "Computing rank from data with rank=None\n",
      "    Using tolerance 79 (2.2e-16 eps * 16 dim * 2.2e+16  max singular value)\n",
      "    Estimated rank (mag): 16\n",
      "    MAG: rank 16 computed from 16 data channels with 0 projectors\n",
      "Reducing data rank from 16 -> 16\n",
      "Estimating covariance using LEDOIT_WOLF\n",
      "Done.\n",
      "Computing rank from data with rank=None\n",
      "    Using tolerance 61 (2.2e-16 eps * 16 dim * 1.7e+16  max singular value)\n",
      "    Estimated rank (mag): 16\n",
      "    MAG: rank 16 computed from 16 data channels with 0 projectors\n",
      "Reducing data rank from 16 -> 16\n",
      "Estimating covariance using LEDOIT_WOLF\n",
      "Done.\n",
      "CSP + LDA Classification accuracy: 0.593733 / Chance level: 0.500000\n"
     ]
    }
   ],
   "source": [
    "# Classification with CSP + logistic regression\n",
    "# Assemble a classifier\n",
    "lr = LogisticRegression()\n",
    "csp = CSP(n_components=4, reg='ledoit_wolf', log=True)\n",
    "\n",
    "clf = Pipeline([('CSP', csp), ('LogisticRegression', lr)])\n",
    "scores = cross_val_score(clf, epochs_data_train, labels, cv=cv, n_jobs=1)\n",
    "\n",
    "# Printing the results\n",
    "class_balance = np.mean(labels == labels[0])\n",
    "class_balance = max(class_balance, 1. - class_balance)\n",
    "print(\"CSP + LDA Classification accuracy: %f / Chance level: %f\" %\n",
    "      (np.mean(scores), class_balance))"
   ]
  },
  {
   "cell_type": "code",
   "execution_count": 20,
   "id": "39fb1a3a",
   "metadata": {},
   "outputs": [
    {
     "name": "stdout",
     "output_type": "stream",
     "text": [
      "Channels marked as bad: none\n",
      "Channels marked as bad: none\n",
      "Channels marked as bad: none\n",
      "Channels marked as bad: none\n"
     ]
    }
   ],
   "source": [
    "# Display MDM centroid\n",
    "plt.close('all')\n",
    "mdm = MDM()\n",
    "mdm.fit(cov_data_train, labels)\n",
    "\n",
    "fig, axes = plt.subplots(1, 2, figsize=[8, 4])\n",
    "ch_names = [ch.replace('.', '') for ch in epochs.ch_names]\n",
    "\n",
    "df = pd.DataFrame(data=mdm.covmeans_[0], index=ch_names, columns=ch_names)\n",
    "g = sns.heatmap(\n",
    "    df, ax=axes[0], square=True, cbar=False, xticklabels=1, yticklabels=1)\n",
    "g.set_title('Mean covariance - rest')\n",
    "\n",
    "df = pd.DataFrame(data=mdm.covmeans_[1], index=ch_names, columns=ch_names)\n",
    "g = sns.heatmap(\n",
    "    df, ax=axes[1], square=True, cbar=False, xticklabels=1, yticklabels=1)\n",
    "plt.xticks(rotation='vertical')\n",
    "plt.yticks(rotation='horizontal')\n",
    "g.set_title('Mean covariance - MI hands')\n",
    "\n",
    "# dirty fix\n",
    "plt.sca(axes[0])\n",
    "plt.xticks(rotation='vertical')\n",
    "plt.yticks(rotation='horizontal')\n",
    "plt.show()"
   ]
  },
  {
   "cell_type": "code",
   "execution_count": null,
   "id": "dadc7b2c",
   "metadata": {},
   "outputs": [],
   "source": []
  }
 ],
 "metadata": {
  "kernelspec": {
   "display_name": "Python 3 (ipykernel)",
   "language": "python",
   "name": "python3"
  },
  "language_info": {
   "codemirror_mode": {
    "name": "ipython",
    "version": 3
   },
   "file_extension": ".py",
   "mimetype": "text/x-python",
   "name": "python",
   "nbconvert_exporter": "python",
   "pygments_lexer": "ipython3",
   "version": "3.10.0"
  }
 },
 "nbformat": 4,
 "nbformat_minor": 5
}
