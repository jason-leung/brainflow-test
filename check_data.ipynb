{
 "cells": [
  {
   "cell_type": "code",
   "execution_count": 1,
   "id": "dc0fcdba",
   "metadata": {},
   "outputs": [],
   "source": [
    "%matplotlib inline"
   ]
  },
  {
   "cell_type": "code",
   "execution_count": 2,
   "id": "e0f04187",
   "metadata": {
    "scrolled": true
   },
   "outputs": [],
   "source": [
    "import os\n",
    "import pyxdf\n",
    "import numpy as np\n",
    "import mne\n",
    "import matplotlib.pyplot as plt\n",
    "import scipy"
   ]
  },
  {
   "cell_type": "markdown",
   "id": "15a0ee15",
   "metadata": {},
   "source": [
    "### Settings"
   ]
  },
  {
   "cell_type": "code",
   "execution_count": 3,
   "id": "ffd8160e",
   "metadata": {},
   "outputs": [],
   "source": [
    "# Files\n",
    "subject = 'P00J'\n",
    "session = 1\n",
    "task = 'MI-hands'\n",
    "lslDir = os.path.join(os.path.expanduser('~'), 'Documents\\CurrentStudy')\n",
    "\n",
    "# LSL Stream\n",
    "eeg_stream_type = 'EXG'\n",
    "markers_stream_type = 'Marker'\n",
    "\n",
    "# Experiment parameters\n",
    "rest_duration = 5\n",
    "task_duration = 5\n",
    "\n",
    "# Events\n",
    "event_dict = {'rest': 0, 'MI/hands': 1}\n",
    "tmin = 0\n",
    "tmax = 5"
   ]
  },
  {
   "cell_type": "code",
   "execution_count": 4,
   "id": "93040a72",
   "metadata": {},
   "outputs": [
    {
     "name": "stdout",
     "output_type": "stream",
     "text": [
      "C:\\Users\\leungj\\Documents\\CurrentStudy\\sub-P00J\\ses-S001\\eeg\\sub-P00J_ses-S001_task-MI-hands_run-001_eeg.xdf\n",
      "C:\\Users\\leungj\\Documents\\CurrentStudy\\sub-P00J\\ses-S001\\eeg\\sub-P00J_ses-S001_task-MI-hands_run-002_eeg.xdf\n",
      "C:\\Users\\leungj\\Documents\\CurrentStudy\\sub-P00J\\ses-S001\\eeg\\sub-P00J_ses-S001_task-MI-hands_run-003_eeg.xdf\n",
      "C:\\Users\\leungj\\Documents\\CurrentStudy\\sub-P00J\\ses-S001\\eeg\\sub-P00J_ses-S001_task-MI-hands_run-004_eeg.xdf\n",
      "C:\\Users\\leungj\\Documents\\CurrentStudy\\sub-P00J\\ses-S001\\eeg\\sub-P00J_ses-S001_task-MI-hands_run-005_eeg.xdf\n"
     ]
    }
   ],
   "source": [
    "# Find files\n",
    "xdf_files = []\n",
    "hasSubject = subject!=''\n",
    "hasSession = session!=''\n",
    "hasTask = task!=''\n",
    "for root, dir, files in os.walk(lslDir):\n",
    "    validFile = True\n",
    "    for file in files:\n",
    "        if hasSubject:\n",
    "            validFile = validFile and (subject in file)\n",
    "        if hasSession:\n",
    "            validFile = validFile and (('ses-S' + str(session).zfill(3)) in file);\n",
    "        if hasTask:\n",
    "            validFile = validFile and (task in file)\n",
    "        if validFile:\n",
    "            matchingFile = os.path.join(root, file)\n",
    "            print(matchingFile)\n",
    "            xdf_files.append(matchingFile)"
   ]
  },
  {
   "cell_type": "code",
   "execution_count": null,
   "id": "082bb234",
   "metadata": {
    "scrolled": true
   },
   "outputs": [],
   "source": [
    "# Parse streams\n",
    "eeg_stream, marker_stream = [], []\n",
    "\n",
    "print('Parsing streams')\n",
    "for xdf_file in xdf_files:\n",
    "    streams, header = pyxdf.load_xdf(xdf_file)\n",
    "    for i in range(len(streams)):\n",
    "        if streams[i]['info']['type'][0] == eeg_stream_type:\n",
    "            print(\"Found %s stream in %s\" % (eeg_stream_type, os.path.basename(xdf_file)))\n",
    "            eeg_stream.append(streams[i])\n",
    "        elif streams[i]['info']['type'][0] == markers_stream_type:\n",
    "            print(\"Found %s stream in %s\" % (markers_stream_type, os.path.basename(xdf_file)))\n",
    "            marker_stream.append(streams[i])\n",
    "del streams, header"
   ]
  },
  {
   "cell_type": "code",
   "execution_count": null,
   "id": "569b6f48",
   "metadata": {},
   "outputs": [],
   "source": [
    "# Extract EEG data\n",
    "print(\"Extracting EEG info\")\n",
    "\n",
    "ch_names = []\n",
    "if eeg_stream[0]['info']['desc'][0]:\n",
    "    print(\"EEG channel names found\")\n",
    "    for i in range(len(eeg_stream[0]['info']['desc'][0]['channels'][0]['channel'])):\n",
    "        ch_names.append(eeg_stream[0]['info']['desc'][0]['channels'][0]['channel'][i]['label'][0])\n",
    "else:\n",
    "    print(\"EEG channel names not found... setting default\")\n",
    "    ch_names = ['FP1', 'FP2', 'C3', 'C4', 'P7', 'P8', 'O1', 'O2', 'F7', 'F8', 'F3', 'F4', 'T7', 'T8', 'P3', 'P4']\n",
    "print('Channels: ', ch_names)\n",
    "\n",
    "sfreq = float(eeg_stream[0]['info']['nominal_srate'][0])\n",
    "print('Sampling frequency: ', sfreq)\n",
    "\n",
    "# Create MNE info object\n",
    "eeg_info = mne.create_info(ch_names, sfreq, ch_types='eeg')"
   ]
  },
  {
   "cell_type": "code",
   "execution_count": null,
   "id": "32f764ef",
   "metadata": {
    "scrolled": true
   },
   "outputs": [],
   "source": [
    "montage = mne.channels.read_custom_montage('openbci_montage.elc')"
   ]
  },
  {
   "cell_type": "code",
   "execution_count": null,
   "id": "8048953f",
   "metadata": {
    "scrolled": true
   },
   "outputs": [],
   "source": [
    "# Get all EEG data\n",
    "eeg_epoch_list = []\n",
    "\n",
    "for n in range(len(eeg_stream)):\n",
    "    # Create MNE Raw object\n",
    "    eeg_data = np.transpose(eeg_stream[n]['time_series'])\n",
    "    eeg_data = eeg_data / 1e6\n",
    "    print(eeg_data.shape)\n",
    "    eeg_raw = mne.io.RawArray(eeg_data, eeg_info)\n",
    "    \n",
    "    # Set montage\n",
    "    eeg_raw.set_montage(montage)\n",
    "\n",
    "    # Add annotations\n",
    "    onset, duration, description = [], [], []\n",
    "    for i in range(len(marker_stream[n]['time_series'])):\n",
    "        if ('rest' in marker_stream[n]['time_series'][i][0]):\n",
    "            onset.append(marker_stream[n]['time_stamps'][i] - eeg_stream[n]['time_stamps'][0])\n",
    "            duration.append(rest_duration)\n",
    "            description.append(marker_stream[n]['time_series'][i][0])\n",
    "        elif ('task' in marker_stream[n]['time_series'][i][0]):\n",
    "            onset.append(marker_stream[n]['time_stamps'][i] - eeg_stream[n]['time_stamps'][0])\n",
    "            duration.append(task_duration)\n",
    "            description.append(marker_stream[n]['time_series'][i][0].replace('task_', '').replace('-','/'))\n",
    "    annotations = mne.Annotations(onset, duration, description)\n",
    "    eeg_raw = eeg_raw.set_annotations(annotations)\n",
    "    \n",
    "    # Epoch data\n",
    "    events, event_id = mne.events_from_annotations(eeg_raw, event_id=event_dict)\n",
    "    eeg_epoch = mne.Epochs(eeg_raw, events, event_id=event_id, tmin=tmin, tmax=tmax, baseline=None, picks='eeg', preload=True, detrend=1)\n",
    "    eeg_epoch_list.append(eeg_epoch)\n",
    "    print(eeg_epoch)"
   ]
  },
  {
   "cell_type": "code",
   "execution_count": null,
   "id": "30307897",
   "metadata": {},
   "outputs": [],
   "source": [
    "# concatenate all epochs\n",
    "eeg_epochs = mne.concatenate_epochs(eeg_epoch_list)\n",
    "eeg_epochs"
   ]
  },
  {
   "cell_type": "code",
   "execution_count": null,
   "id": "b454b677",
   "metadata": {},
   "outputs": [],
   "source": [
    "# Re-reference data\n",
    "eeg_epochs = eeg_epochs.set_eeg_reference ('average', projection=False)"
   ]
  },
  {
   "cell_type": "code",
   "execution_count": null,
   "id": "a96a854e",
   "metadata": {},
   "outputs": [],
   "source": [
    "# Filter data\n",
    "l_freq = 40.\n",
    "h_freq = 1.\n",
    "eeg_epochs = eeg_epochs.filter(l_freq, h_freq, n_jobs=-1)"
   ]
  },
  {
   "cell_type": "code",
   "execution_count": null,
   "id": "95ada30c",
   "metadata": {
    "scrolled": true
   },
   "outputs": [],
   "source": [
    "# plot eeg data\n",
    "fig = eeg_epochs.plot(title='Raw Data', n_channels=len(ch_names), show=True)"
   ]
  },
  {
   "cell_type": "code",
   "execution_count": null,
   "id": "daf95bbd",
   "metadata": {},
   "outputs": [],
   "source": [
    "# print(eeg_epochs)\n",
    "\n",
    "fig = eeg_epochs['rest'].plot_psd()\n",
    "fig = eeg_epochs['MI/hands'].plot_psd()"
   ]
  },
  {
   "cell_type": "code",
   "execution_count": null,
   "id": "6667d763",
   "metadata": {
    "scrolled": true
   },
   "outputs": [],
   "source": [
    "rest_data = eeg_epochs['rest'].get_data()\n",
    "MI_data = eeg_epochs['MI/hands'].get_data()\n",
    "f, Pxx_den_rest = scipy.signal.welch(np.mean(rest_data, 0), fs=125.)\n",
    "f, Pxx_den_MI = scipy.signal.welch(np.mean(MI_data, 0), fs=125.)\n",
    "\n",
    "\n",
    "channel = 3\n",
    "plt.title('Welch PSD for channel: %s' % ch_names[channel])\n",
    "plt.semilogy(f, Pxx_den_rest[channel,:])\n",
    "plt.semilogy(f, Pxx_den_MI[channel,:])\n",
    "plt.xlim([0, 30])\n",
    "plt.xlabel('frequency [Hz]')\n",
    "plt.ylabel('PSD [V**2/Hz]')\n",
    "plt.legend(['rest', 'MI/hands'])\n",
    "plt.show()"
   ]
  },
  {
   "cell_type": "code",
   "execution_count": null,
   "id": "ba6adb36",
   "metadata": {},
   "outputs": [],
   "source": []
  },
  {
   "cell_type": "code",
   "execution_count": null,
   "id": "b97071a2",
   "metadata": {},
   "outputs": [],
   "source": []
  }
 ],
 "metadata": {
  "kernelspec": {
   "display_name": "Python 3 (ipykernel)",
   "language": "python",
   "name": "python3"
  },
  "language_info": {
   "codemirror_mode": {
    "name": "ipython",
    "version": 3
   },
   "file_extension": ".py",
   "mimetype": "text/x-python",
   "name": "python",
   "nbconvert_exporter": "python",
   "pygments_lexer": "ipython3",
   "version": "3.10.0"
  }
 },
 "nbformat": 4,
 "nbformat_minor": 5
}
