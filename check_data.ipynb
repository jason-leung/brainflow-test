{
 "cells": [
  {
   "cell_type": "code",
   "execution_count": 1,
   "id": "dc0fcdba",
   "metadata": {},
   "outputs": [],
   "source": [
    "%matplotlib qt"
   ]
  },
  {
   "cell_type": "code",
   "execution_count": 2,
   "id": "e0f04187",
   "metadata": {
    "scrolled": true
   },
   "outputs": [],
   "source": [
    "import os\n",
    "import pyxdf\n",
    "import numpy as np\n",
    "import mne\n",
    "import matplotlib.pyplot as plt\n",
    "import scipy\n",
    "import json"
   ]
  },
  {
   "cell_type": "markdown",
   "id": "15a0ee15",
   "metadata": {},
   "source": [
    "### Settings"
   ]
  },
  {
   "cell_type": "code",
   "execution_count": 3,
   "id": "ffd8160e",
   "metadata": {},
   "outputs": [],
   "source": [
    "# Files\n",
    "subject = 'P00J'\n",
    "session = 1\n",
    "task = 'P300_4x4_gface'\n",
    "lslDir = os.path.join(os.path.expanduser('~'), 'Documents\\CurrentStudy')\n",
    "\n",
    "# LSL Stream\n",
    "eeg_stream_type = 'EXG'\n",
    "markers_stream_type = 'Marker'\n",
    "\n",
    "# Experiment parameters\n",
    "rest_duration = 5\n",
    "task_duration = 5\n",
    "\n",
    "# Events\n",
    "# event_dict = {'rest': 0, 'MI/hands': 1}\n",
    "event_dict = {'nontarget': 0, 'target': 1}\n",
    "tmin = 0\n",
    "tmax = 1"
   ]
  },
  {
   "cell_type": "code",
   "execution_count": 4,
   "id": "93040a72",
   "metadata": {},
   "outputs": [
    {
     "name": "stdout",
     "output_type": "stream",
     "text": [
      "sub-P00J_ses-S001_task-P300_4x4_gface_run-001_eeg.xdf\n",
      "sub-P00J_ses-S001_task-P300_4x4_gface_run-002_eeg.xdf\n",
      "sub-P00J_ses-S001_task-P300_4x4_gface_run-003_eeg.xdf\n",
      "sub-P00J_ses-S001_task-P300_4x4_gface_run-004_eeg.xdf\n",
      "sub-P00J_ses-S001_task-P300_4x4_gface_run-005_eeg.xdf\n"
     ]
    }
   ],
   "source": [
    "# Find files\n",
    "xdf_files = []\n",
    "hasSubject = subject!=''\n",
    "hasSession = session!=''\n",
    "hasTask = task!=''\n",
    "for root, dir, files in os.walk(lslDir):\n",
    "    for file in files:\n",
    "        validFile = True\n",
    "        if hasSubject:\n",
    "            validFile = validFile and (('sub-'+subject) in file)\n",
    "        if hasSession:\n",
    "            validFile = validFile and (('ses-S' + str(session).zfill(3)) in file)\n",
    "        if hasTask:\n",
    "            validFile = validFile and (('task-' + task) in file)\n",
    "        validFile = validFile and file.endswith('.xdf')\n",
    "        if validFile:\n",
    "            print(file)\n",
    "            matchingFile = os.path.join(root, file)\n",
    "            xdf_files.append(matchingFile)\n",
    "\n",
    "if len(xdf_files) == 0:\n",
    "    print('No files found')"
   ]
  },
  {
   "cell_type": "code",
   "execution_count": 5,
   "id": "082bb234",
   "metadata": {
    "scrolled": true
   },
   "outputs": [
    {
     "name": "stdout",
     "output_type": "stream",
     "text": [
      "Parsing streams\n",
      "Found EXG stream in sub-P00J_ses-S001_task-P300_4x4_gface_run-001_eeg.xdf\n",
      "Found Marker stream in sub-P00J_ses-S001_task-P300_4x4_gface_run-001_eeg.xdf\n",
      "Found EXG stream in sub-P00J_ses-S001_task-P300_4x4_gface_run-002_eeg.xdf\n",
      "Found Marker stream in sub-P00J_ses-S001_task-P300_4x4_gface_run-002_eeg.xdf\n",
      "Found EXG stream in sub-P00J_ses-S001_task-P300_4x4_gface_run-003_eeg.xdf\n",
      "Found Marker stream in sub-P00J_ses-S001_task-P300_4x4_gface_run-003_eeg.xdf\n",
      "Found EXG stream in sub-P00J_ses-S001_task-P300_4x4_gface_run-004_eeg.xdf\n",
      "Found Marker stream in sub-P00J_ses-S001_task-P300_4x4_gface_run-004_eeg.xdf\n",
      "Found EXG stream in sub-P00J_ses-S001_task-P300_4x4_gface_run-005_eeg.xdf\n",
      "Found Marker stream in sub-P00J_ses-S001_task-P300_4x4_gface_run-005_eeg.xdf\n"
     ]
    }
   ],
   "source": [
    "# Parse streams\n",
    "eeg_stream, marker_stream = [], []\n",
    "\n",
    "print('Parsing streams')\n",
    "for xdf_file in xdf_files:\n",
    "    streams, header = pyxdf.load_xdf(xdf_file)\n",
    "    for i in range(len(streams)):\n",
    "        if streams[i]['info']['type'][0] == eeg_stream_type:\n",
    "            print(\"Found %s stream in %s\" % (eeg_stream_type, os.path.basename(xdf_file)))\n",
    "            eeg_stream.append(streams[i])\n",
    "        elif streams[i]['info']['type'][0] == markers_stream_type:\n",
    "            print(\"Found %s stream in %s\" % (markers_stream_type, os.path.basename(xdf_file)))\n",
    "            marker_stream.append(streams[i])\n",
    "del streams, header"
   ]
  },
  {
   "cell_type": "code",
   "execution_count": 6,
   "id": "569b6f48",
   "metadata": {},
   "outputs": [
    {
     "name": "stdout",
     "output_type": "stream",
     "text": [
      "Extracting EEG info\n",
      "EEG channel names not found... setting default\n",
      "Channels:  ['FP1', 'FP2', 'C3', 'C4', 'P7', 'P8', 'O1', 'O2', 'F7', 'F8', 'F3', 'F4', 'T7', 'T8', 'P3', 'P4']\n",
      "Sampling frequency:  125.0\n"
     ]
    }
   ],
   "source": [
    "# Extract EEG data\n",
    "print(\"Extracting EEG info\")\n",
    "\n",
    "ch_names = []\n",
    "if eeg_stream[0]['info']['desc'][0]:\n",
    "    print(\"EEG channel names found\")\n",
    "    for i in range(len(eeg_stream[0]['info']['desc'][0]['channels'][0]['channel'])):\n",
    "        ch_names.append(eeg_stream[0]['info']['desc'][0]['channels'][0]['channel'][i]['label'][0])\n",
    "else:\n",
    "    print(\"EEG channel names not found... setting default\")\n",
    "    ch_names = ['FP1', 'FP2', 'C3', 'C4', 'P7', 'P8', 'O1', 'O2', 'F7', 'F8', 'F3', 'F4', 'T7', 'T8', 'P3', 'P4']\n",
    "print('Channels: ', ch_names)\n",
    "\n",
    "sfreq = float(eeg_stream[0]['info']['nominal_srate'][0])\n",
    "print('Sampling frequency: ', sfreq)\n",
    "\n",
    "# Create MNE info object\n",
    "eeg_info = mne.create_info(ch_names, sfreq, ch_types='eeg')"
   ]
  },
  {
   "cell_type": "code",
   "execution_count": 7,
   "id": "32f764ef",
   "metadata": {},
   "outputs": [],
   "source": [
    "montage = mne.channels.read_custom_montage('openbci_montage.elc')\n",
    "# montage.plot()"
   ]
  },
  {
   "cell_type": "code",
   "execution_count": 8,
   "id": "8048953f",
   "metadata": {
    "scrolled": true
   },
   "outputs": [
    {
     "name": "stdout",
     "output_type": "stream",
     "text": [
      "(16, 21304)\n",
      "Creating RawArray with float64 data, n_channels=16, n_times=21304\n",
      "    Range : 0 ... 21303 =      0.000 ...   170.424 secs\n",
      "Ready.\n",
      "Setting up band-stop filter from 59 - 61 Hz\n",
      "\n",
      "FIR filter parameters\n",
      "---------------------\n",
      "Designing a one-pass, zero-phase, non-causal bandstop filter:\n",
      "- Windowed time-domain design (firwin) method\n",
      "- Hamming window with 0.0194 passband ripple and 53 dB stopband attenuation\n",
      "- Lower passband edge: 59.35\n",
      "- Lower transition bandwidth: 0.50 Hz (-6 dB cutoff frequency: 59.10 Hz)\n",
      "- Upper passband edge: 60.65 Hz\n",
      "- Upper transition bandwidth: 0.50 Hz (-6 dB cutoff frequency: 60.90 Hz)\n",
      "- Filter length: 825 samples (6.600 sec)\n",
      "\n"
     ]
    },
    {
     "name": "stderr",
     "output_type": "stream",
     "text": [
      "C:\\Users\\student\\AppData\\Local\\Temp\\ipykernel_9504\\2445115664.py:38: RuntimeWarning: Limited 5 annotation(s) that were expanding outside the data range.\n",
      "  eeg_raw = eeg_raw.set_annotations(annotations)\n"
     ]
    },
    {
     "name": "stdout",
     "output_type": "stream",
     "text": [
      "Used Annotations descriptions: ['nontarget', 'target']\n",
      "Not setting metadata\n",
      "Not setting metadata\n",
      "800 matching events found\n",
      "No baseline correction applied\n",
      "0 projection items activated\n",
      "Loading data for 800 events and 126 original time points ...\n",
      "0 bad epochs dropped\n",
      "<Epochs |  800 events (all good), 0 - 1 sec, baseline off, ~12.3 MB, data loaded,\n",
      " 'nontarget': 750\n",
      " 'target': 50>\n",
      "(16, 21411)\n",
      "Creating RawArray with float64 data, n_channels=16, n_times=21411\n",
      "    Range : 0 ... 21410 =      0.000 ...   171.280 secs\n",
      "Ready.\n",
      "Setting up band-stop filter from 59 - 61 Hz\n",
      "\n",
      "FIR filter parameters\n",
      "---------------------\n",
      "Designing a one-pass, zero-phase, non-causal bandstop filter:\n",
      "- Windowed time-domain design (firwin) method\n",
      "- Hamming window with 0.0194 passband ripple and 53 dB stopband attenuation\n",
      "- Lower passband edge: 59.35\n",
      "- Lower transition bandwidth: 0.50 Hz (-6 dB cutoff frequency: 59.10 Hz)\n",
      "- Upper passband edge: 60.65 Hz\n",
      "- Upper transition bandwidth: 0.50 Hz (-6 dB cutoff frequency: 60.90 Hz)\n",
      "- Filter length: 825 samples (6.600 sec)\n",
      "\n",
      "Used Annotations descriptions: ['nontarget', 'target']\n",
      "Not setting metadata\n",
      "Not setting metadata\n",
      "800 matching events found\n",
      "No baseline correction applied\n",
      "0 projection items activated\n",
      "Loading data for 800 events and 126 original time points ...\n",
      "0 bad epochs dropped\n",
      "<Epochs |  800 events (all good), 0 - 1 sec, baseline off, ~12.3 MB, data loaded,\n",
      " 'nontarget': 750\n",
      " 'target': 50>\n",
      "(16, 21048)\n",
      "Creating RawArray with float64 data, n_channels=16, n_times=21048\n",
      "    Range : 0 ... 21047 =      0.000 ...   168.376 secs\n",
      "Ready.\n",
      "Setting up band-stop filter from 59 - 61 Hz\n",
      "\n",
      "FIR filter parameters\n",
      "---------------------\n",
      "Designing a one-pass, zero-phase, non-causal bandstop filter:\n",
      "- Windowed time-domain design (firwin) method\n",
      "- Hamming window with 0.0194 passband ripple and 53 dB stopband attenuation\n",
      "- Lower passband edge: 59.35\n",
      "- Lower transition bandwidth: 0.50 Hz (-6 dB cutoff frequency: 59.10 Hz)\n",
      "- Upper passband edge: 60.65 Hz\n",
      "- Upper transition bandwidth: 0.50 Hz (-6 dB cutoff frequency: 60.90 Hz)\n",
      "- Filter length: 825 samples (6.600 sec)\n",
      "\n",
      "Used Annotations descriptions: ['nontarget', 'target']\n",
      "Not setting metadata\n",
      "Not setting metadata\n",
      "800 matching events found\n",
      "No baseline correction applied\n",
      "0 projection items activated\n",
      "Loading data for 800 events and 126 original time points ...\n"
     ]
    },
    {
     "name": "stderr",
     "output_type": "stream",
     "text": [
      "C:\\Users\\student\\AppData\\Local\\Temp\\ipykernel_9504\\2445115664.py:38: RuntimeWarning: Limited 5 annotation(s) that were expanding outside the data range.\n",
      "  eeg_raw = eeg_raw.set_annotations(annotations)\n"
     ]
    },
    {
     "name": "stdout",
     "output_type": "stream",
     "text": [
      "0 bad epochs dropped\n",
      "<Epochs |  800 events (all good), 0 - 1 sec, baseline off, ~12.3 MB, data loaded,\n",
      " 'nontarget': 750\n",
      " 'target': 50>\n",
      "(16, 20686)\n",
      "Creating RawArray with float64 data, n_channels=16, n_times=20686\n",
      "    Range : 0 ... 20685 =      0.000 ...   165.480 secs\n",
      "Ready.\n",
      "Setting up band-stop filter from 59 - 61 Hz\n",
      "\n",
      "FIR filter parameters\n",
      "---------------------\n",
      "Designing a one-pass, zero-phase, non-causal bandstop filter:\n",
      "- Windowed time-domain design (firwin) method\n",
      "- Hamming window with 0.0194 passband ripple and 53 dB stopband attenuation\n",
      "- Lower passband edge: 59.35\n",
      "- Lower transition bandwidth: 0.50 Hz (-6 dB cutoff frequency: 59.10 Hz)\n",
      "- Upper passband edge: 60.65 Hz\n",
      "- Upper transition bandwidth: 0.50 Hz (-6 dB cutoff frequency: 60.90 Hz)\n",
      "- Filter length: 825 samples (6.600 sec)\n",
      "\n",
      "Used Annotations descriptions: ['nontarget', 'target']\n",
      "Not setting metadata\n",
      "Not setting metadata\n",
      "800 matching events found\n",
      "No baseline correction applied\n",
      "0 projection items activated\n",
      "Loading data for 800 events and 126 original time points ...\n"
     ]
    },
    {
     "name": "stderr",
     "output_type": "stream",
     "text": [
      "C:\\Users\\student\\AppData\\Local\\Temp\\ipykernel_9504\\2445115664.py:38: RuntimeWarning: Limited 6 annotation(s) that were expanding outside the data range.\n",
      "  eeg_raw = eeg_raw.set_annotations(annotations)\n"
     ]
    },
    {
     "name": "stdout",
     "output_type": "stream",
     "text": [
      "0 bad epochs dropped\n",
      "<Epochs |  800 events (all good), 0 - 1 sec, baseline off, ~12.3 MB, data loaded,\n",
      " 'nontarget': 750\n",
      " 'target': 50>\n",
      "(16, 20309)\n",
      "Creating RawArray with float64 data, n_channels=16, n_times=20309\n",
      "    Range : 0 ... 20308 =      0.000 ...   162.464 secs\n",
      "Ready.\n",
      "Setting up band-stop filter from 59 - 61 Hz\n",
      "\n",
      "FIR filter parameters\n",
      "---------------------\n",
      "Designing a one-pass, zero-phase, non-causal bandstop filter:\n",
      "- Windowed time-domain design (firwin) method\n",
      "- Hamming window with 0.0194 passband ripple and 53 dB stopband attenuation\n",
      "- Lower passband edge: 59.35\n",
      "- Lower transition bandwidth: 0.50 Hz (-6 dB cutoff frequency: 59.10 Hz)\n",
      "- Upper passband edge: 60.65 Hz\n",
      "- Upper transition bandwidth: 0.50 Hz (-6 dB cutoff frequency: 60.90 Hz)\n",
      "- Filter length: 825 samples (6.600 sec)\n",
      "\n",
      "Used Annotations descriptions: ['nontarget', 'target']\n",
      "Not setting metadata\n",
      "Not setting metadata\n",
      "800 matching events found\n",
      "No baseline correction applied\n",
      "0 projection items activated\n",
      "Loading data for 800 events and 126 original time points ...\n"
     ]
    },
    {
     "name": "stderr",
     "output_type": "stream",
     "text": [
      "C:\\Users\\student\\AppData\\Local\\Temp\\ipykernel_9504\\2445115664.py:38: RuntimeWarning: Limited 11 annotation(s) that were expanding outside the data range.\n",
      "  eeg_raw = eeg_raw.set_annotations(annotations)\n"
     ]
    },
    {
     "name": "stdout",
     "output_type": "stream",
     "text": [
      "0 bad epochs dropped\n",
      "<Epochs |  800 events (all good), 0 - 1 sec, baseline off, ~12.3 MB, data loaded,\n",
      " 'nontarget': 750\n",
      " 'target': 50>\n"
     ]
    }
   ],
   "source": [
    "# Get all EEG data\n",
    "eeg_epoch_list = []\n",
    "\n",
    "for n in range(len(eeg_stream)):\n",
    "    # Create MNE Raw object\n",
    "    eeg_data = np.transpose(eeg_stream[n]['time_series'])\n",
    "    eeg_data = eeg_data / 1e6\n",
    "    print(eeg_data.shape)\n",
    "    eeg_raw = mne.io.RawArray(eeg_data, eeg_info)\n",
    "    \n",
    "    # Set montage\n",
    "    eeg_raw.set_montage(montage)\n",
    "\n",
    "    # Add annotations\n",
    "    onset, duration, description = [], [], []\n",
    "    current_target = -1\n",
    "    current_flash = -1\n",
    "    for i in range(len(marker_stream[n]['time_series'])):\n",
    "        if 'MI' in task:\n",
    "            if ('rest' in marker_stream[n]['time_series'][i][0]):\n",
    "                onset.append(marker_stream[n]['time_stamps'][i] - eeg_stream[n]['time_stamps'][0])\n",
    "                duration.append(rest_duration)\n",
    "                description.append(marker_stream[n]['time_series'][i][0])\n",
    "            elif ('task' in marker_stream[n]['time_series'][i][0]):\n",
    "                onset.append(marker_stream[n]['time_stamps'][i] - eeg_stream[n]['time_stamps'][0])\n",
    "                duration.append(task_duration)\n",
    "                description.append(marker_stream[n]['time_series'][i][0].replace('task_', '').replace('-','/'))\n",
    "        elif 'P300' in task:\n",
    "            if('target' in marker_stream[n]['time_series'][i][0]):\n",
    "                current_target = json.loads(marker_stream[n]['time_series'][i][0])['target']\n",
    "            elif('flash' in marker_stream[n]['time_series'][i][0]):\n",
    "                current_flash = json.loads(marker_stream[n]['time_series'][i][0])['flash']\n",
    "                onset.append(marker_stream[n]['time_stamps'][i] - eeg_stream[n]['time_stamps'][0])\n",
    "                duration.append(task_duration)\n",
    "                description.append(\"target\" if current_flash == current_target else \"nontarget\")\n",
    "\n",
    "    annotations = mne.Annotations(onset, duration, description)\n",
    "    eeg_raw = eeg_raw.set_annotations(annotations)\n",
    "    eeg_raw = eeg_raw.notch_filter(60.)\n",
    "    \n",
    "    # Epoch data\n",
    "    events, event_id = mne.events_from_annotations(eeg_raw, event_id=event_dict)\n",
    "    eeg_epoch = mne.Epochs(eeg_raw, events, event_id=event_id, tmin=tmin, tmax=tmax, baseline=None, picks='eeg', preload=True, detrend=1)\n",
    "    eeg_epoch_list.append(eeg_epoch)\n",
    "    print(eeg_epoch)"
   ]
  },
  {
   "cell_type": "code",
   "execution_count": 9,
   "id": "30307897",
   "metadata": {},
   "outputs": [
    {
     "name": "stdout",
     "output_type": "stream",
     "text": [
      "Not setting metadata\n",
      "Not setting metadata\n",
      "4000 matching events found\n",
      "No baseline correction applied\n",
      "0 bad epochs dropped\n"
     ]
    },
    {
     "data": {
      "text/html": [
       "\n",
       "<table class=\"table table-hover table-striped table-sm table-responsive small\">\n",
       "    <tr>\n",
       "        <th>Number of events</th>\n",
       "        <td>4000</td>\n",
       "    </tr>\n",
       "    <tr>\n",
       "        <th>Events</th>\n",
       "        <td>nontarget: 3750<br>target: 250<br></td>\n",
       "    </tr>\n",
       "    <tr>\n",
       "        <th>Time range</th>\n",
       "        <td>0.000 – 1.000 sec</td>\n",
       "    </tr>\n",
       "    <tr>\n",
       "        <th>Baseline</th>\n",
       "        <td>off</td>\n",
       "    </tr>\n",
       "</table>\n"
      ],
      "text/plain": [
       "<Epochs |  4000 events (all good), 0 - 1 sec, baseline off, ~61.6 MB, data loaded,\n",
       " 'nontarget': 3750\n",
       " 'target': 250>"
      ]
     },
     "execution_count": 9,
     "metadata": {},
     "output_type": "execute_result"
    }
   ],
   "source": [
    "# concatenate all epochs\n",
    "eeg_epochs = mne.concatenate_epochs(eeg_epoch_list)\n",
    "eeg_epochs"
   ]
  },
  {
   "cell_type": "code",
   "execution_count": 10,
   "id": "b454b677",
   "metadata": {},
   "outputs": [
    {
     "name": "stdout",
     "output_type": "stream",
     "text": [
      "EEG channel type selected for re-referencing\n",
      "Applying average reference.\n",
      "Applying a custom ('EEG',) reference.\n"
     ]
    }
   ],
   "source": [
    "# Re-reference data\n",
    "eeg_epochs = eeg_epochs.set_eeg_reference ('average', projection=False)"
   ]
  },
  {
   "cell_type": "code",
   "execution_count": 11,
   "id": "a96a854e",
   "metadata": {},
   "outputs": [
    {
     "name": "stdout",
     "output_type": "stream",
     "text": [
      "Setting up band-pass filter from 1 - 40 Hz\n",
      "\n",
      "FIR filter parameters\n",
      "---------------------\n",
      "Designing a one-pass, zero-phase, non-causal bandpass filter:\n",
      "- Windowed time-domain design (firwin) method\n",
      "- Hamming window with 0.0194 passband ripple and 53 dB stopband attenuation\n",
      "- Lower passband edge: 1.00\n",
      "- Lower transition bandwidth: 1.00 Hz (-6 dB cutoff frequency: 0.50 Hz)\n",
      "- Upper passband edge: 40.00 Hz\n",
      "- Upper transition bandwidth: 10.00 Hz (-6 dB cutoff frequency: 45.00 Hz)\n",
      "- Filter length: 413 samples (3.304 sec)\n",
      "\n"
     ]
    },
    {
     "name": "stderr",
     "output_type": "stream",
     "text": [
      "C:\\Users\\student\\AppData\\Local\\Temp\\ipykernel_9504\\568159571.py:5: RuntimeWarning: filter_length (413) is longer than the signal (126), distortion is likely. Reduce filter length or filter a longer signal.\n",
      "  eeg_filt = eeg_filt.filter(l_freq, h_freq, n_jobs=-1)\n",
      "[Parallel(n_jobs=4)]: Using backend LokyBackend with 4 concurrent workers.\n",
      "[Parallel(n_jobs=4)]: Done  14 tasks      | elapsed:    2.7s\n",
      "[Parallel(n_jobs=4)]: Done 4156 tasks      | elapsed:    3.4s\n",
      "[Parallel(n_jobs=4)]: Done 50236 tasks      | elapsed:   10.0s\n",
      "[Parallel(n_jobs=4)]: Done 64000 out of 64000 | elapsed:   11.8s finished\n"
     ]
    }
   ],
   "source": [
    "# Filter data\n",
    "l_freq = 1.\n",
    "h_freq = 40.\n",
    "eeg_filt = eeg_epochs.copy()\n",
    "eeg_filt = eeg_filt.filter(l_freq, h_freq, n_jobs=-1)"
   ]
  },
  {
   "cell_type": "code",
   "execution_count": 12,
   "id": "95ada30c",
   "metadata": {
    "scrolled": true
   },
   "outputs": [
    {
     "name": "stdout",
     "output_type": "stream",
     "text": [
      "Using matplotlib as 2D backend.\n"
     ]
    }
   ],
   "source": [
    "# plot eeg data\n",
    "fig = eeg_epochs.plot(title='Raw Data', n_channels=len(ch_names), show=True, n_epochs=1)"
   ]
  },
  {
   "cell_type": "code",
   "execution_count": 13,
   "id": "098a5684",
   "metadata": {},
   "outputs": [],
   "source": [
    "evoked_target = eeg_epochs['target'].average()\n",
    "evoked_nontarget = eeg_epochs['nontarget'].average()\n",
    "\n",
    "evokeds_list = [evoked_nontarget, evoked_target]\n",
    "conds = ('nontarget', 'target')\n",
    "evks = dict(zip(conds, evokeds_list))"
   ]
  },
  {
   "cell_type": "code",
   "execution_count": 14,
   "id": "2f12e1d1",
   "metadata": {},
   "outputs": [
    {
     "name": "stdout",
     "output_type": "stream",
     "text": [
      "Dropped 0 epochs: \n",
      "Channels marked as bad: none\n"
     ]
    },
    {
     "data": {
      "image/png": "[encoded data removed]",
      "text/plain": [
       "<Figure size 640x300 with 1 Axes>"
      ]
     },
     "execution_count": 14,
     "metadata": {},
     "output_type": "execute_result"
    }
   ],
   "source": [
    "plt.close('all')\n",
    "\n",
    "# picks=['P7', 'P8']\n",
    "# picks=['P3', 'P4']\n",
    "# picks=['O1', 'O2']\n",
    "picks=['P7', 'P8', 'P3', 'P4', 'O1', 'O2']\n",
    "# picks='eeg'\n",
    "ylim = dict(eeg=[-5, 5])\n",
    "evoked_target.plot(picks=picks, ylim=ylim)\n",
    "evoked_nontarget.plot(picks=picks, ylim=ylim)"
   ]
  },
  {
   "cell_type": "code",
   "execution_count": 15,
   "id": "21687a84",
   "metadata": {},
   "outputs": [
    {
     "name": "stdout",
     "output_type": "stream",
     "text": [
      "combining channels using \"gfp\"\n",
      "combining channels using \"gfp\"\n"
     ]
    },
    {
     "data": {
      "text/plain": [
       "[<Figure size 800x600 with 1 Axes>]"
      ]
     },
     "execution_count": 15,
     "metadata": {},
     "output_type": "execute_result"
    }
   ],
   "source": [
    "plt.close('all')\n",
    "mne.viz.plot_compare_evokeds(evks, picks=picks, colors=dict(nontarget=0, target=1))"
   ]
  },
  {
   "cell_type": "code",
   "execution_count": 16,
   "id": "0c8507a9",
   "metadata": {},
   "outputs": [],
   "source": [
    "import os,numpy as np,pandas as pd\n",
    "from collections import OrderedDict\n",
    "import seaborn as sns\n",
    "from mne.decoding import Vectorizer\n",
    "# Scikit-learn and Pyriemann ML functionalities\n",
    "from sklearn.pipeline import make_pipeline\n",
    "from sklearn.linear_model import LogisticRegression\n",
    "from sklearn.preprocessing import StandardScaler\n",
    "from sklearn.discriminant_analysis import LinearDiscriminantAnalysis as LDA\n",
    "from sklearn.model_selection import cross_val_score, StratifiedShuffleSplit\n",
    "from pyriemann.estimation import ERPCovariances, XdawnCovariances, Xdawn\n",
    "from pyriemann.tangentspace import TangentSpace\n",
    "from pyriemann.classification import MDM"
   ]
  },
  {
   "cell_type": "code",
   "execution_count": 17,
   "id": "bc5744e8",
   "metadata": {
    "scrolled": true
   },
   "outputs": [
    {
     "name": "stderr",
     "output_type": "stream",
     "text": [
      "C:\\Users\\student\\anaconda3\\envs\\mindset\\lib\\site-packages\\sklearn\\model_selection\\_validation.py:372: FitFailedWarning: \n",
      "4 fits failed out of a total of 5.\n",
      "The score on these train-test partitions for these parameters will be set to nan.\n",
      "If these failures are not expected, you can try to debug them by setting error_score='raise'.\n",
      "\n",
      "Below are more details about the failures:\n",
      "--------------------------------------------------------------------------------\n",
      "4 fits failed with the following error:\n",
      "Traceback (most recent call last):\n",
      "  File \"C:\\Users\\student\\anaconda3\\envs\\mindset\\lib\\site-packages\\sklearn\\model_selection\\_validation.py\", line 680, in _fit_and_score\n",
      "    estimator.fit(X_train, y_train, **fit_params)\n",
      "  File \"C:\\Users\\student\\anaconda3\\envs\\mindset\\lib\\site-packages\\sklearn\\pipeline.py\", line 390, in fit\n",
      "    Xt = self._fit(X, y, **fit_params_steps)\n",
      "  File \"C:\\Users\\student\\anaconda3\\envs\\mindset\\lib\\site-packages\\sklearn\\pipeline.py\", line 348, in _fit\n",
      "    X, fitted_transformer = fit_transform_one_cached(\n",
      "  File \"C:\\Users\\student\\anaconda3\\envs\\mindset\\lib\\site-packages\\joblib\\memory.py\", line 349, in __call__\n",
      "    return self.func(*args, **kwargs)\n",
      "  File \"C:\\Users\\student\\anaconda3\\envs\\mindset\\lib\\site-packages\\sklearn\\pipeline.py\", line 893, in _fit_transform_one\n",
      "    res = transformer.fit_transform(X, y, **fit_params)\n",
      "  File \"C:\\Users\\student\\anaconda3\\envs\\mindset\\lib\\site-packages\\sklearn\\base.py\", line 855, in fit_transform\n",
      "    return self.fit(X, y, **fit_params).transform(X)\n",
      "  File \"C:\\Users\\student\\anaconda3\\envs\\mindset\\lib\\site-packages\\pyriemann\\spatialfilters.py\", line 114, in fit\n",
      "    evals, evecs = eigh(C, Cx)\n",
      "  File \"C:\\Users\\student\\anaconda3\\envs\\mindset\\lib\\site-packages\\scipy\\linalg\\decomp.py\", line 578, in eigh\n",
      "    raise LinAlgError('The leading minor of order {} of B is not '\n",
      "numpy.linalg.LinAlgError: The leading minor of order 16 of B is not positive definite. The factorization of B could not be completed and no eigenvalues or eigenvectors were computed.\n",
      "\n",
      "  warnings.warn(some_fits_failed_message, FitFailedWarning)\n",
      "C:\\Users\\student\\anaconda3\\envs\\mindset\\lib\\site-packages\\sklearn\\model_selection\\_validation.py:372: FitFailedWarning: \n",
      "4 fits failed out of a total of 5.\n",
      "The score on these train-test partitions for these parameters will be set to nan.\n",
      "If these failures are not expected, you can try to debug them by setting error_score='raise'.\n",
      "\n",
      "Below are more details about the failures:\n",
      "--------------------------------------------------------------------------------\n",
      "4 fits failed with the following error:\n",
      "Traceback (most recent call last):\n",
      "  File \"C:\\Users\\student\\anaconda3\\envs\\mindset\\lib\\site-packages\\sklearn\\model_selection\\_validation.py\", line 680, in _fit_and_score\n",
      "    estimator.fit(X_train, y_train, **fit_params)\n",
      "  File \"C:\\Users\\student\\anaconda3\\envs\\mindset\\lib\\site-packages\\sklearn\\pipeline.py\", line 390, in fit\n",
      "    Xt = self._fit(X, y, **fit_params_steps)\n",
      "  File \"C:\\Users\\student\\anaconda3\\envs\\mindset\\lib\\site-packages\\sklearn\\pipeline.py\", line 348, in _fit\n",
      "    X, fitted_transformer = fit_transform_one_cached(\n",
      "  File \"C:\\Users\\student\\anaconda3\\envs\\mindset\\lib\\site-packages\\joblib\\memory.py\", line 349, in __call__\n",
      "    return self.func(*args, **kwargs)\n",
      "  File \"C:\\Users\\student\\anaconda3\\envs\\mindset\\lib\\site-packages\\sklearn\\pipeline.py\", line 893, in _fit_transform_one\n",
      "    res = transformer.fit_transform(X, y, **fit_params)\n",
      "  File \"C:\\Users\\student\\anaconda3\\envs\\mindset\\lib\\site-packages\\sklearn\\base.py\", line 855, in fit_transform\n",
      "    return self.fit(X, y, **fit_params).transform(X)\n",
      "  File \"C:\\Users\\student\\anaconda3\\envs\\mindset\\lib\\site-packages\\pyriemann\\estimation.py\", line 285, in fit\n",
      "    self.Xd_.fit(X, y)\n",
      "  File \"C:\\Users\\student\\anaconda3\\envs\\mindset\\lib\\site-packages\\pyriemann\\spatialfilters.py\", line 114, in fit\n",
      "    evals, evecs = eigh(C, Cx)\n",
      "  File \"C:\\Users\\student\\anaconda3\\envs\\mindset\\lib\\site-packages\\scipy\\linalg\\decomp.py\", line 578, in eigh\n",
      "    raise LinAlgError('The leading minor of order {} of B is not '\n",
      "numpy.linalg.LinAlgError: The leading minor of order 16 of B is not positive definite. The factorization of B could not be completed and no eigenvalues or eigenvectors were computed.\n",
      "\n",
      "  warnings.warn(some_fits_failed_message, FitFailedWarning)\n",
      "C:\\Users\\student\\anaconda3\\envs\\mindset\\lib\\site-packages\\sklearn\\model_selection\\_validation.py:372: FitFailedWarning: \n",
      "4 fits failed out of a total of 5.\n",
      "The score on these train-test partitions for these parameters will be set to nan.\n",
      "If these failures are not expected, you can try to debug them by setting error_score='raise'.\n",
      "\n",
      "Below are more details about the failures:\n",
      "--------------------------------------------------------------------------------\n",
      "4 fits failed with the following error:\n",
      "Traceback (most recent call last):\n",
      "  File \"C:\\Users\\student\\anaconda3\\envs\\mindset\\lib\\site-packages\\sklearn\\model_selection\\_validation.py\", line 680, in _fit_and_score\n",
      "    estimator.fit(X_train, y_train, **fit_params)\n",
      "  File \"C:\\Users\\student\\anaconda3\\envs\\mindset\\lib\\site-packages\\sklearn\\pipeline.py\", line 390, in fit\n",
      "    Xt = self._fit(X, y, **fit_params_steps)\n",
      "  File \"C:\\Users\\student\\anaconda3\\envs\\mindset\\lib\\site-packages\\sklearn\\pipeline.py\", line 348, in _fit\n",
      "    X, fitted_transformer = fit_transform_one_cached(\n",
      "  File \"C:\\Users\\student\\anaconda3\\envs\\mindset\\lib\\site-packages\\joblib\\memory.py\", line 349, in __call__\n",
      "    return self.func(*args, **kwargs)\n",
      "  File \"C:\\Users\\student\\anaconda3\\envs\\mindset\\lib\\site-packages\\sklearn\\pipeline.py\", line 893, in _fit_transform_one\n",
      "    res = transformer.fit_transform(X, y, **fit_params)\n",
      "  File \"C:\\Users\\student\\anaconda3\\envs\\mindset\\lib\\site-packages\\sklearn\\base.py\", line 855, in fit_transform\n",
      "    return self.fit(X, y, **fit_params).transform(X)\n",
      "  File \"C:\\Users\\student\\anaconda3\\envs\\mindset\\lib\\site-packages\\pyriemann\\estimation.py\", line 285, in fit\n",
      "    self.Xd_.fit(X, y)\n",
      "  File \"C:\\Users\\student\\anaconda3\\envs\\mindset\\lib\\site-packages\\pyriemann\\spatialfilters.py\", line 114, in fit\n",
      "    evals, evecs = eigh(C, Cx)\n",
      "  File \"C:\\Users\\student\\anaconda3\\envs\\mindset\\lib\\site-packages\\scipy\\linalg\\decomp.py\", line 578, in eigh\n",
      "    raise LinAlgError('The leading minor of order {} of B is not '\n",
      "numpy.linalg.LinAlgError: The leading minor of order 16 of B is not positive definite. The factorization of B could not be completed and no eigenvalues or eigenvectors were computed.\n",
      "\n",
      "  warnings.warn(some_fits_failed_message, FitFailedWarning)\n",
      "C:\\Users\\student\\anaconda3\\envs\\mindset\\lib\\site-packages\\sklearn\\model_selection\\_validation.py:372: FitFailedWarning: \n",
      "5 fits failed out of a total of 5.\n",
      "The score on these train-test partitions for these parameters will be set to nan.\n",
      "If these failures are not expected, you can try to debug them by setting error_score='raise'.\n",
      "\n",
      "Below are more details about the failures:\n",
      "--------------------------------------------------------------------------------\n",
      "5 fits failed with the following error:\n",
      "Traceback (most recent call last):\n",
      "  File \"C:\\Users\\student\\anaconda3\\envs\\mindset\\lib\\site-packages\\sklearn\\model_selection\\_validation.py\", line 680, in _fit_and_score\n",
      "    estimator.fit(X_train, y_train, **fit_params)\n",
      "  File \"C:\\Users\\student\\anaconda3\\envs\\mindset\\lib\\site-packages\\sklearn\\pipeline.py\", line 390, in fit\n",
      "    Xt = self._fit(X, y, **fit_params_steps)\n",
      "  File \"C:\\Users\\student\\anaconda3\\envs\\mindset\\lib\\site-packages\\sklearn\\pipeline.py\", line 348, in _fit\n",
      "    X, fitted_transformer = fit_transform_one_cached(\n",
      "  File \"C:\\Users\\student\\anaconda3\\envs\\mindset\\lib\\site-packages\\joblib\\memory.py\", line 349, in __call__\n",
      "    return self.func(*args, **kwargs)\n",
      "  File \"C:\\Users\\student\\anaconda3\\envs\\mindset\\lib\\site-packages\\sklearn\\pipeline.py\", line 893, in _fit_transform_one\n",
      "    res = transformer.fit_transform(X, y, **fit_params)\n",
      "  File \"C:\\Users\\student\\anaconda3\\envs\\mindset\\lib\\site-packages\\pyriemann\\tangentspace.py\", line 168, in fit_transform\n",
      "    self.reference_ = mean_covariance(X, metric=self.metric,\n",
      "  File \"C:\\Users\\student\\anaconda3\\envs\\mindset\\lib\\site-packages\\pyriemann\\utils\\mean.py\", line 335, in mean_covariance\n",
      "    C = mean_methods[metric](covmats, sample_weight=sample_weight, *args)\n",
      "  File \"C:\\Users\\student\\anaconda3\\envs\\mindset\\lib\\site-packages\\pyriemann\\utils\\mean.py\", line 61, in mean_riemann\n",
      "    J += sample_weight[index] * logm(tmp)\n",
      "  File \"C:\\Users\\student\\anaconda3\\envs\\mindset\\lib\\site-packages\\pyriemann\\utils\\base.py\", line 48, in logm\n",
      "    return _matrix_operator(Ci, np.log)\n",
      "  File \"C:\\Users\\student\\anaconda3\\envs\\mindset\\lib\\site-packages\\pyriemann\\utils\\base.py\", line 10, in _matrix_operator\n",
      "    raise ValueError(\n",
      "ValueError: Covariance matrices must be positive definite. Add regularization to avoid this error.\n",
      "\n",
      "  warnings.warn(some_fits_failed_message, FitFailedWarning)\n"
     ]
    },
    {
     "name": "stderr",
     "output_type": "stream",
     "text": [
      "C:\\Users\\student\\anaconda3\\envs\\mindset\\lib\\site-packages\\sklearn\\model_selection\\_validation.py:372: FitFailedWarning: \n",
      "5 fits failed out of a total of 5.\n",
      "The score on these train-test partitions for these parameters will be set to nan.\n",
      "If these failures are not expected, you can try to debug them by setting error_score='raise'.\n",
      "\n",
      "Below are more details about the failures:\n",
      "--------------------------------------------------------------------------------\n",
      "5 fits failed with the following error:\n",
      "Traceback (most recent call last):\n",
      "  File \"C:\\Users\\student\\anaconda3\\envs\\mindset\\lib\\site-packages\\sklearn\\model_selection\\_validation.py\", line 680, in _fit_and_score\n",
      "    estimator.fit(X_train, y_train, **fit_params)\n",
      "  File \"C:\\Users\\student\\anaconda3\\envs\\mindset\\lib\\site-packages\\sklearn\\pipeline.py\", line 394, in fit\n",
      "    self._final_estimator.fit(Xt, y, **fit_params_last_step)\n",
      "  File \"C:\\Users\\student\\anaconda3\\envs\\mindset\\lib\\site-packages\\pyriemann\\classification.py\", line 114, in fit\n",
      "    self.covmeans_ = [\n",
      "  File \"C:\\Users\\student\\anaconda3\\envs\\mindset\\lib\\site-packages\\pyriemann\\classification.py\", line 115, in <listcomp>\n",
      "    mean_covariance(X[y == ll], metric=self.metric_mean,\n",
      "  File \"C:\\Users\\student\\anaconda3\\envs\\mindset\\lib\\site-packages\\pyriemann\\utils\\mean.py\", line 335, in mean_covariance\n",
      "    C = mean_methods[metric](covmats, sample_weight=sample_weight, *args)\n",
      "  File \"C:\\Users\\student\\anaconda3\\envs\\mindset\\lib\\site-packages\\pyriemann\\utils\\mean.py\", line 61, in mean_riemann\n",
      "    J += sample_weight[index] * logm(tmp)\n",
      "  File \"C:\\Users\\student\\anaconda3\\envs\\mindset\\lib\\site-packages\\pyriemann\\utils\\base.py\", line 48, in logm\n",
      "    return _matrix_operator(Ci, np.log)\n",
      "  File \"C:\\Users\\student\\anaconda3\\envs\\mindset\\lib\\site-packages\\pyriemann\\utils\\base.py\", line 10, in _matrix_operator\n",
      "    raise ValueError(\n",
      "ValueError: Covariance matrices must be positive definite. Add regularization to avoid this error.\n",
      "\n",
      "  warnings.warn(some_fits_failed_message, FitFailedWarning)\n"
     ]
    }
   ],
   "source": [
    "clfs = OrderedDict()\n",
    "clfs['Vect + LR'] = make_pipeline(Vectorizer(), StandardScaler(), LogisticRegression())\n",
    "clfs['Vect + RegLDA'] = make_pipeline(Vectorizer(), LDA(shrinkage='auto', solver='eigen'))\n",
    "clfs['Xdawn + RegLDA'] = make_pipeline(Xdawn(2, classes=[1]), Vectorizer(), LDA(shrinkage='auto', solver='eigen'))\n",
    "\n",
    "clfs['XdawnCov + TS'] = make_pipeline(XdawnCovariances(estimator='oas'), TangentSpace(), LogisticRegression())\n",
    "clfs['XdawnCov + MDM'] = make_pipeline(XdawnCovariances(estimator='oas'), MDM())\n",
    "\n",
    "\n",
    "clfs['ERPCov + TS'] = make_pipeline(ERPCovariances(), TangentSpace(), LogisticRegression())\n",
    "clfs['ERPCov + MDM'] = make_pipeline(ERPCovariances(), MDM())\n",
    "\n",
    "# format data\n",
    "# epochs.pick_types(eeg=True)\n",
    "epochs = eeg_epochs.copy()\n",
    "\n",
    "X = epochs.get_data() * 1e6\n",
    "times = epochs.times\n",
    "y = epochs.events[:, -1]\n",
    "\n",
    "# define cross validation\n",
    "cv = StratifiedShuffleSplit(n_splits=5, test_size=0.25, random_state=42)\n",
    "\n",
    "# run cross validation for each pipeline\n",
    "auc = []\n",
    "methods = []\n",
    "for m in clfs:\n",
    "    res = cross_val_score(clfs[m], X, y==1, scoring='roc_auc', cv=cv, n_jobs=-1)\n",
    "    auc.extend(res)\n",
    "    methods.extend([m]*len(res))\n",
    "\n",
    "results = pd.DataFrame(data=auc, columns=['AUC'])\n",
    "results['Method'] = methods\n",
    "\n",
    "plt.figure(figsize=[8,4])\n",
    "sns.barplot(data=results, x='AUC', y='Method')\n",
    "plt.xlim(0.2, 0.85)\n",
    "sns.despine()"
   ]
  },
  {
   "cell_type": "code",
   "execution_count": null,
   "id": "81f09c08",
   "metadata": {},
   "outputs": [],
   "source": []
  },
  {
   "cell_type": "code",
   "execution_count": null,
   "id": "6615e481",
   "metadata": {},
   "outputs": [],
   "source": []
  },
  {
   "cell_type": "code",
   "execution_count": null,
   "id": "bbecc09c",
   "metadata": {},
   "outputs": [],
   "source": []
  },
  {
   "cell_type": "code",
   "execution_count": null,
   "id": "51eb97e7",
   "metadata": {},
   "outputs": [],
   "source": []
  },
  {
   "cell_type": "code",
   "execution_count": null,
   "id": "c5459b9b",
   "metadata": {},
   "outputs": [],
   "source": []
  },
  {
   "cell_type": "code",
   "execution_count": null,
   "id": "e9c1f933",
   "metadata": {},
   "outputs": [],
   "source": [
    "# plot eeg data\n",
    "fig = eeg_filt.plot(title='Filtered Data', n_channels=len(ch_names), show=True, n_epochs=1)"
   ]
  },
  {
   "cell_type": "code",
   "execution_count": null,
   "id": "69ed00dc",
   "metadata": {},
   "outputs": [],
   "source": [
    "fig = eeg_epochs.plot_psd()"
   ]
  },
  {
   "cell_type": "code",
   "execution_count": null,
   "id": "b9ac3342",
   "metadata": {},
   "outputs": [],
   "source": [
    "fig = eeg_filt.plot_psd()"
   ]
  },
  {
   "cell_type": "code",
   "execution_count": null,
   "id": "98d91c5e",
   "metadata": {},
   "outputs": [],
   "source": [
    "plt.close('all')"
   ]
  },
  {
   "cell_type": "code",
   "execution_count": null,
   "id": "daf95bbd",
   "metadata": {},
   "outputs": [],
   "source": [
    "# print(eeg_epochs)\n",
    "\n",
    "fig = eeg_epochs['rest'].plot_psd()\n",
    "fig = eeg_epochs['MI/hands'].plot_psd()"
   ]
  },
  {
   "cell_type": "code",
   "execution_count": null,
   "id": "6667d763",
   "metadata": {
    "scrolled": true
   },
   "outputs": [],
   "source": [
    "rest_data = eeg_epochs['rest'].get_data()\n",
    "MI_data = eeg_epochs['MI/hands'].get_data()\n",
    "f, Pxx_den_rest = scipy.signal.welch(np.mean(rest_data, 0), fs=125.)\n",
    "f, Pxx_den_MI = scipy.signal.welch(np.mean(MI_data, 0), fs=125.)\n",
    "\n",
    "\n",
    "channel = 3\n",
    "plt.title('Welch PSD for channel: %s' % ch_names[channel])\n",
    "plt.semilogy(f, Pxx_den_rest[channel,:])\n",
    "plt.semilogy(f, Pxx_den_MI[channel,:])\n",
    "plt.xlim([0, 30])\n",
    "plt.xlabel('frequency [Hz]')\n",
    "plt.ylabel('PSD [V**2/Hz]')\n",
    "plt.legend(['rest', 'MI/hands'])\n",
    "plt.show()"
   ]
  },
  {
   "cell_type": "code",
   "execution_count": null,
   "id": "ba6adb36",
   "metadata": {},
   "outputs": [],
   "source": []
  },
  {
   "cell_type": "code",
   "execution_count": null,
   "id": "b97071a2",
   "metadata": {},
   "outputs": [],
   "source": []
  }
 ],
 "metadata": {
  "kernelspec": {
   "display_name": "Python 3 (ipykernel)",
   "language": "python",
   "name": "python3"
  },
  "language_info": {
   "codemirror_mode": {
    "name": "ipython",
    "version": 3
   },
   "file_extension": ".py",
   "mimetype": "text/x-python",
   "name": "python",
   "nbconvert_exporter": "python",
   "pygments_lexer": "ipython3",
   "version": "3.10.0"
  }
 },
 "nbformat": 4,
 "nbformat_minor": 5
}
