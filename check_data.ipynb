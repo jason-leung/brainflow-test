{
 "cells": [
  {
   "cell_type": "code",
   "execution_count": 1,
   "id": "9958d1ba",
   "metadata": {
    "scrolled": true
   },
   "outputs": [],
   "source": [
    "%matplotlib inline\n",
    "\n",
    "import os\n",
    "import pyxdf\n",
    "import numpy as np\n",
    "import mne\n",
    "import matplotlib.pyplot as plt"
   ]
  },
  {
   "cell_type": "markdown",
   "id": "78d3627f",
   "metadata": {},
   "source": [
    "### Settings"
   ]
  },
  {
   "cell_type": "code",
   "execution_count": 2,
   "id": "24a53f54",
   "metadata": {},
   "outputs": [],
   "source": [
    "# Files\n",
    "subject = 'P00J'\n",
    "session = 1\n",
    "task = 'MI-hands'\n",
    "lslDir = r'C:\\Users\\leungj\\Documents\\CurrentStudy'\n",
    "\n",
    "# LSL Stream\n",
    "eeg_stream_name = 'mindset_EXG'\n",
    "markers_stream_name = 'Mindset_Unity'\n",
    "\n",
    "# Experiment parameters\n",
    "rest_duration = 5\n",
    "task_duration = 5"
   ]
  },
  {
   "cell_type": "code",
   "execution_count": 3,
   "id": "57f90c1e",
   "metadata": {},
   "outputs": [
    {
     "name": "stdout",
     "output_type": "stream",
     "text": [
      "C:\\Users\\leungj\\Documents\\CurrentStudy\\sub-P00J\\ses-S001\\eeg\\sub-P00J_ses-S001_task-MI-hands_run-001_eeg.xdf\n",
      "C:\\Users\\leungj\\Documents\\CurrentStudy\\sub-P00J\\ses-S001\\eeg\\sub-P00J_ses-S001_task-MI-hands_run-002_eeg.xdf\n",
      "C:\\Users\\leungj\\Documents\\CurrentStudy\\sub-P00J\\ses-S001\\eeg\\sub-P00J_ses-S001_task-MI-hands_run-003_eeg.xdf\n",
      "C:\\Users\\leungj\\Documents\\CurrentStudy\\sub-P00J\\ses-S001\\eeg\\sub-P00J_ses-S001_task-MI-hands_run-004_eeg.xdf\n",
      "C:\\Users\\leungj\\Documents\\CurrentStudy\\sub-P00J\\ses-S001\\eeg\\sub-P00J_ses-S001_task-MI-hands_run-005_eeg.xdf\n"
     ]
    }
   ],
   "source": [
    "# Find files\n",
    "xdf_files = []\n",
    "for root, dir, files in os.walk(lslDir):\n",
    "    if subject in root:\n",
    "        for file in files:\n",
    "            if (subject in file) and (('ses-S' + str(session).zfill(3)) in file) and (task in file):\n",
    "                matchingFile = os.path.join(root, file)\n",
    "                print(matchingFile)\n",
    "                xdf_files.append(matchingFile)"
   ]
  },
  {
   "cell_type": "code",
   "execution_count": 4,
   "id": "e2d6eca4",
   "metadata": {
    "scrolled": true
   },
   "outputs": [
    {
     "name": "stdout",
     "output_type": "stream",
     "text": [
      "Parsing streams\n"
     ]
    }
   ],
   "source": [
    "# Parse streams\n",
    "eeg_stream, marker_stream = [], []\n",
    "\n",
    "print('Parsing streams')\n",
    "for xdf_file in xdf_files:\n",
    "    streams, header = pyxdf.load_xdf(xdf_file)\n",
    "    for i in range(len(streams)):\n",
    "        if streams[i]['info']['name'][0] == eeg_stream_name:\n",
    "            eeg_stream.append(streams[i])\n",
    "        elif streams[i]['info']['name'][0] == markers_stream_name:\n",
    "            marker_stream.append(streams[i])\n",
    "del streams, header"
   ]
  },
  {
   "cell_type": "code",
   "execution_count": 5,
   "id": "240211ea",
   "metadata": {},
   "outputs": [
    {
     "name": "stdout",
     "output_type": "stream",
     "text": [
      "Extracting EEG data\n",
      "Channels:  ['FP1', 'FP2', 'C3', 'C4', 'P7', 'P8', 'O1', 'O2', 'F7', 'F8', 'F3', 'F4', 'T7', 'T8', 'P3', 'P4']\n",
      "Sampling frequency:  125.0\n"
     ]
    }
   ],
   "source": [
    "# Extract EEG data\n",
    "print(\"Extracting EEG data\")\n",
    "\n",
    "ch_names = []\n",
    "for i in range(len(eeg_stream[0]['info']['desc'][0]['channels'][0]['channel'])):\n",
    "    ch_names.append(eeg_stream[0]['info']['desc'][0]['channels'][0]['channel'][i]['label'][0])\n",
    "print('Channels: ', ch_names)\n",
    "\n",
    "sfreq = float(eeg_stream[0]['info']['nominal_srate'][0])\n",
    "print('Sampling frequency: ', sfreq)"
   ]
  },
  {
   "cell_type": "code",
   "execution_count": 14,
   "id": "bc233ea3",
   "metadata": {},
   "outputs": [
    {
     "name": "stdout",
     "output_type": "stream",
     "text": [
      "(16, 19512)\n",
      "Creating RawArray with float64 data, n_channels=16, n_times=19512\n",
      "    Range : 0 ... 19511 =      0.000 ...   156.088 secs\n",
      "Ready.\n"
     ]
    }
   ],
   "source": [
    "# Create MNE info object\n",
    "eeg_info = mne.create_info(ch_names, sfreq, ch_types='eeg')\n",
    "\n",
    "\n",
    "current_eeg_stream = eeg_stream[0]\n",
    "# Create MNE Raw object\n",
    "eeg_data = np.transpose(eeg_stream[0]['time_series'])\n",
    "# eeg_data = eeg_data / 1e6\n",
    "print(eeg_data.shape)\n",
    "eeg_raw = mne.io.RawArray(eeg_data, eeg_info)\n",
    "\n",
    "# Add annotations\n",
    "onset, duration, description = [], [], []\n",
    "# print(marker_stream[0]['time_series'])\n",
    "\n",
    "for i in range(len(marker_stream[0]['time_series'])):\n",
    "    if ('rest' in marker_stream[0]['time_series'][i][0]):\n",
    "        onset.append(marker_stream[0]['time_stamps'][i] - eeg_stream[0]['time_stamps'][0])\n",
    "        duration.append(rest_duration)\n",
    "        description.append(marker_stream[0]['time_series'][i][0])\n",
    "    elif ('task' in marker_stream[0]['time_series'][i][0]):\n",
    "        onset.append(marker_stream[0]['time_stamps'][i] - eeg_stream[0]['time_stamps'][0])\n",
    "        duration.append(task_duration)\n",
    "        description.append(marker_stream[0]['time_series'][i][0].replace('task_', '').replace('-','/'))\n",
    "annotations = mne.Annotations(onset, duration, description)\n",
    "eeg_raw = eeg_raw.set_annotations(annotations)"
   ]
  },
  {
   "cell_type": "code",
   "execution_count": 15,
   "id": "21fe0903",
   "metadata": {},
   "outputs": [
    {
     "data": {
      "image/png": "[encoded data removed]",
      "text/plain": [
       "<MNEBrowseFigure size 576x576 with 4 Axes>"
      ]
     },
     "metadata": {
      "needs_background": "light"
     },
     "output_type": "display_data"
    }
   ],
   "source": [
    "# plot eeg data\n",
    "fig = eeg_raw.plot(title='Raw Data', n_channels=len(ch_names), show=True)"
   ]
  },
  {
   "cell_type": "code",
   "execution_count": 24,
   "id": "fe8ef9ae",
   "metadata": {},
   "outputs": [
    {
     "data": {
      "text/plain": [
       "[<matplotlib.lines.Line2D at 0x1da4f119d20>,\n",
       " <matplotlib.lines.Line2D at 0x1da4f119d80>,\n",
       " <matplotlib.lines.Line2D at 0x1da4f119ea0>,\n",
       " <matplotlib.lines.Line2D at 0x1da4f119fc0>,\n",
       " <matplotlib.lines.Line2D at 0x1da4f11a0e0>,\n",
       " <matplotlib.lines.Line2D at 0x1da4f11a200>,\n",
       " <matplotlib.lines.Line2D at 0x1da4f11a320>,\n",
       " <matplotlib.lines.Line2D at 0x1da4f11a440>,\n",
       " <matplotlib.lines.Line2D at 0x1da4f11a560>,\n",
       " <matplotlib.lines.Line2D at 0x1da4f11a680>,\n",
       " <matplotlib.lines.Line2D at 0x1da4f11a7a0>,\n",
       " <matplotlib.lines.Line2D at 0x1da4f119d50>,\n",
       " <matplotlib.lines.Line2D at 0x1da4f11a9b0>,\n",
       " <matplotlib.lines.Line2D at 0x1da4f11aad0>,\n",
       " <matplotlib.lines.Line2D at 0x1da4f11abf0>,\n",
       " <matplotlib.lines.Line2D at 0x1da4f11ad10>]"
      ]
     },
     "execution_count": 24,
     "metadata": {},
     "output_type": "execute_result"
    },
    {
     "data": {
      "image/png": "[encoded data removed]",
      "text/plain": [
       "<Figure size 432x288 with 1 Axes>"
      ]
     },
     "metadata": {
      "needs_background": "light"
     },
     "output_type": "display_data"
    }
   ],
   "source": [
    "plt.plot(eeg_stream[0]['time_series'] / 1e6)"
   ]
  },
  {
   "cell_type": "code",
   "execution_count": null,
   "id": "54a86651",
   "metadata": {},
   "outputs": [],
   "source": []
  },
  {
   "cell_type": "code",
   "execution_count": null,
   "id": "4320f857",
   "metadata": {},
   "outputs": [],
   "source": []
  },
  {
   "cell_type": "code",
   "execution_count": null,
   "id": "9bfd1874",
   "metadata": {},
   "outputs": [],
   "source": []
  },
  {
   "cell_type": "code",
   "execution_count": null,
   "id": "a7463a21",
   "metadata": {},
   "outputs": [],
   "source": []
  }
 ],
 "metadata": {
  "kernelspec": {
   "display_name": "Python 3 (ipykernel)",
   "language": "python",
   "name": "python3"
  },
  "language_info": {
   "codemirror_mode": {
    "name": "ipython",
    "version": 3
   },
   "file_extension": ".py",
   "mimetype": "text/x-python",
   "name": "python",
   "nbconvert_exporter": "python",
   "pygments_lexer": "ipython3",
   "version": "3.10.0"
  }
 },
 "nbformat": 4,
 "nbformat_minor": 5
}
