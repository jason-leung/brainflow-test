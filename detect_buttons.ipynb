{
 "cells": [
  {
   "cell_type": "code",
   "execution_count": 1,
   "id": "28829806",
   "metadata": {},
   "outputs": [],
   "source": [
    "import numpy as np\n",
    "import cv2 as cv\n",
    "from glob import glob\n",
    "\n",
    "\n",
    "def angle_cos(p0, p1, p2):\n",
    "    d1, d2 = (p0-p1).astype('float'), (p2-p1).astype('float')\n",
    "    return abs( np.dot(d1, d2) / np.sqrt( np.dot(d1, d1)*np.dot(d2, d2) ) )\n",
    "\n",
    "def reorder_vertices(vertices):\n",
    "    x_min = np.min(vertices[:,0])\n",
    "    x_max = np.max(vertices[:,0])\n",
    "    y_min = np.min(vertices[:,1])\n",
    "    y_max = np.max(vertices[:,1])\n",
    "    new_vertices = np.zeros((4,2), dtype=np.int32)\n",
    "    new_vertices[0,0], new_vertices[0,1] = x_min, y_min\n",
    "    new_vertices[1,0], new_vertices[1,1] = x_max, y_min\n",
    "    new_vertices[2,0], new_vertices[2,1] = x_max, y_max\n",
    "    new_vertices[3,0], new_vertices[3,1] = x_min, y_max\n",
    "    return new_vertices\n",
    "\n",
    "def find_squares(img):\n",
    "    img = cv.GaussianBlur(img, (5, 5), 0)\n",
    "    squares = []\n",
    "    for gray in cv.split(img):\n",
    "        for thrs in range(0, 255, 26):\n",
    "            if thrs == 0:\n",
    "                bin = cv.Canny(gray, 0, 50, apertureSize=5)\n",
    "                bin = cv.dilate(bin, None)\n",
    "            else:\n",
    "                _retval, bin = cv.threshold(gray, thrs, 255, cv.THRESH_BINARY)\n",
    "            contours, _hierarchy = cv.findContours(bin, cv.RETR_LIST, cv.CHAIN_APPROX_SIMPLE)\n",
    "            for cnt in contours:\n",
    "                cnt_len = cv.arcLength(cnt, True)\n",
    "                cnt = cv.approxPolyDP(cnt, 0.02*cnt_len, True)\n",
    "                if len(cnt) == 4 and cv.contourArea(cnt) > 9000 and cv.contourArea(cnt) < 40000 and cv.isContourConvex(cnt):\n",
    "#                     print('area: ', cv.contourArea(cnt))\n",
    "                    cnt = cnt.reshape(-1, 2)\n",
    "                    max_cos = np.max([angle_cos( cnt[i], cnt[(i+1) % 4], cnt[(i+2) % 4] ) for i in range(4)])\n",
    "                    if max_cos < 0.1:\n",
    "                        cnt = reorder_vertices(cnt)\n",
    "                        squares.append(cnt)\n",
    "    return squares\n",
    "\n",
    "def remove_duplicates(squares):\n",
    "    threshold = 50\n",
    "    pos_y = [squares[i][0][1] for i in range(len(squares))]\n",
    "    idx_y = np.argsort(pos_y)\n",
    "    new_idx = []\n",
    "    tmp_idx = []\n",
    "\n",
    "    for i in range(len(idx_y)):\n",
    "        if len(tmp_idx) == 0:\n",
    "            tmp_idx.append(idx_y[i])\n",
    "        if abs(pos_y[idx_y[i]] - pos_y[tmp_idx[-1]]) < threshold:\n",
    "            if tmp_idx[-1] != idx_y[i]:\n",
    "                tmp_idx.append(idx_y[i])\n",
    "        else:\n",
    "            pos_x = [squares[j][0][0] for j in tmp_idx]\n",
    "            idx_x = np.argsort(pos_x)\n",
    "            tmp2_idx = []\n",
    "\n",
    "            for j in range(len(idx_x)):\n",
    "                if len(tmp2_idx) == 0:\n",
    "                    tmp2_idx.append(tmp_idx[idx_x[j]])\n",
    "                if abs(squares[tmp_idx[idx_x[j]]][0][0] - squares[tmp2_idx[-1]][0][0] ) > threshold:\n",
    "                    tmp2_idx.append(tmp_idx[idx_x[j]])\n",
    "#             print(len(tmp2_idx))\n",
    "            new_idx.extend(tmp2_idx)\n",
    "            tmp_idx = []\n",
    "    pos_x = [squares[j][0][0] for j in tmp_idx]\n",
    "    idx_x = np.argsort(pos_x)\n",
    "    tmp2_idx = []\n",
    "\n",
    "    for j in range(len(idx_x)):\n",
    "        if len(tmp2_idx) == 0:\n",
    "            tmp2_idx.append(tmp_idx[idx_x[j]])\n",
    "        if abs(squares[tmp_idx[idx_x[j]]][0][0] - squares[tmp2_idx[-1]][0][0] ) > threshold:\n",
    "            tmp2_idx.append(tmp_idx[idx_x[j]])\n",
    "#     print(len(tmp2_idx))\n",
    "    new_idx.extend(tmp2_idx)\n",
    "    new_squares = [squares[i] for i in new_idx]\n",
    "    return new_squares"
   ]
  },
  {
   "cell_type": "code",
   "execution_count": 21,
   "id": "ba669e46",
   "metadata": {},
   "outputs": [
    {
     "name": "stdout",
     "output_type": "stream",
     "text": [
      "num squares:  30\n",
      "Done\n"
     ]
    }
   ],
   "source": [
    "for fn in glob('./data/pic*.png'):\n",
    "    img = cv.imread(fn)\n",
    "    squares = find_squares(img)\n",
    "    squares = remove_duplicates(squares)\n",
    "    print('num squares: ', len(squares))\n",
    "    cv.drawContours( img, squares, -1, (0, 255, 0), 3 )\n",
    "    cv.imshow('squares', img)\n",
    "    ch = cv.waitKey()\n",
    "    if ch == 27:\n",
    "        break\n",
    "    break\n",
    "\n",
    "print('Done')\n",
    "\n",
    "cv.destroyAllWindows()"
   ]
  },
  {
   "cell_type": "code",
   "execution_count": 22,
   "id": "0b0781bb",
   "metadata": {},
   "outputs": [],
   "source": [
    "# for i in range(len(squares)):\n",
    "#     print('area: ', cv.contourArea(squares[i]))"
   ]
  },
  {
   "cell_type": "code",
   "execution_count": 23,
   "id": "4ceea697",
   "metadata": {},
   "outputs": [
    {
     "data": {
      "text/plain": [
       "(520, 960, 3)"
      ]
     },
     "execution_count": 23,
     "metadata": {},
     "output_type": "execute_result"
    }
   ],
   "source": [
    "img.shape"
   ]
  },
  {
   "cell_type": "code",
   "execution_count": 24,
   "id": "6b6ecd4c",
   "metadata": {},
   "outputs": [],
   "source": [
    "# Crop to button\n",
    "offset = 10\n",
    "button_contour = [squares[28]]\n",
    "button_contour[0][0,0], button_contour[0][0,1] = button_contour[0][0,0] + offset, button_contour[0][0,1] + offset\n",
    "button_contour[0][1,0], button_contour[0][1,1] = button_contour[0][1,0] - offset, button_contour[0][1,1] + offset\n",
    "button_contour[0][2,0], button_contour[0][2,1] = button_contour[0][2,0] - offset, button_contour[0][2,1] - offset\n",
    "button_contour[0][3,0], button_contour[0][3,1] = button_contour[0][3,0] + offset, button_contour[0][3,1] - offset\n",
    "\n",
    "img = cv.imread(fn)\n",
    "mask = np.zeros_like(img) # Create mask where white is what we want, black otherwise\n",
    "cv.drawContours(mask, button_contour, 0, 255, -1) # Draw filled contour in mask\n",
    "out = np.zeros_like(img) # Extract out the object and place into output image\n",
    "\n",
    "out[mask == 255] = img[mask == 255]\n",
    "\n",
    "# Now crop\n",
    "(y, x, _) = np.where(mask == 255)\n",
    "(topy, topx) = (np.min(y), np.min(x))\n",
    "(bottomy, bottomx) = (np.max(y), np.max(x))\n",
    "out_im = img[topy:bottomy, topx:bottomx, :]\n",
    "\n",
    "# Show the output image\n",
    "cv.imshow('Output', out_im)\n",
    "cv.waitKey(0)\n",
    "cv.destroyAllWindows()"
   ]
  },
  {
   "cell_type": "code",
   "execution_count": 19,
   "id": "7faf716c",
   "metadata": {},
   "outputs": [
    {
     "name": "stdout",
     "output_type": "stream",
     "text": [
      "(520, 960, 3)\n",
      "(82, 117, 3)\n"
     ]
    }
   ],
   "source": [
    "print(img.shape)\n",
    "print(out_im.shape)"
   ]
  },
  {
   "cell_type": "code",
   "execution_count": 25,
   "id": "5c720e55",
   "metadata": {},
   "outputs": [
    {
     "name": "stdout",
     "output_type": "stream",
     "text": [
      "7704\n",
      "7704\n",
      "1.0\n"
     ]
    }
   ],
   "source": [
    "# Check if button is empty --> 96% pixels are white\n",
    "num_white = np.sum((out_im[:,:,0] >= 200) & (out_im[:,:,1] >= 200) & (out_im[:,:,2] >= 200))\n",
    "num_pixels = np.prod(out_im.shape[:2])\n",
    "print(num_white)\n",
    "print(num_pixels)\n",
    "print(num_white / num_pixels)"
   ]
  }
 ],
 "metadata": {
  "kernelspec": {
   "display_name": "Python 3 (ipykernel)",
   "language": "python",
   "name": "python3"
  },
  "language_info": {
   "codemirror_mode": {
    "name": "ipython",
    "version": 3
   },
   "file_extension": ".py",
   "mimetype": "text/x-python",
   "name": "python",
   "nbconvert_exporter": "python",
   "pygments_lexer": "ipython3",
   "version": "3.9.7"
  }
 },
 "nbformat": 4,
 "nbformat_minor": 5
}
