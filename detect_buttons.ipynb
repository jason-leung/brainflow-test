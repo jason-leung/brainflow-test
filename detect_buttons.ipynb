{
 "cells": [
  {
   "cell_type": "code",
   "execution_count": 30,
   "id": "37164b2e",
   "metadata": {},
   "outputs": [],
   "source": [
    "import numpy as np\n",
    "import cv2\n",
    "import pytesseract\n",
    "from glob import glob"
   ]
  },
  {
   "cell_type": "code",
   "execution_count": 2,
   "id": "28829806",
   "metadata": {},
   "outputs": [],
   "source": [
    "def angle_cos(p0, p1, p2):\n",
    "    d1, d2 = (p0-p1).astype('float'), (p2-p1).astype('float')\n",
    "    return abs( np.dot(d1, d2) / np.sqrt( np.dot(d1, d1)*np.dot(d2, d2) ) )\n",
    "\n",
    "def reorder_vertices(vertices):\n",
    "    x_min = np.min(vertices[:,0])\n",
    "    x_max = np.max(vertices[:,0])\n",
    "    y_min = np.min(vertices[:,1])\n",
    "    y_max = np.max(vertices[:,1])\n",
    "    new_vertices = np.zeros((4,2), dtype=np.int32)\n",
    "    new_vertices[0,0], new_vertices[0,1] = x_min, y_min\n",
    "    new_vertices[1,0], new_vertices[1,1] = x_max, y_min\n",
    "    new_vertices[2,0], new_vertices[2,1] = x_max, y_max\n",
    "    new_vertices[3,0], new_vertices[3,1] = x_min, y_max\n",
    "    return new_vertices\n",
    "\n",
    "def find_buttons(img):\n",
    "    img = cv2.GaussianBlur(img, (5, 5), 0)\n",
    "    buttons = []\n",
    "    for gray in cv2.split(img):\n",
    "        for thrs in range(0, 255, 26):\n",
    "            if thrs == 0:\n",
    "                bin = cv2.Canny(gray, 0, 50, apertureSize=5)\n",
    "                bin = cv2.dilate(bin, None)\n",
    "            else:\n",
    "                _retval, bin = cv2.threshold(gray, thrs, 255, cv2.THRESH_BINARY)\n",
    "            contours, _hierarchy = cv2.findContours(bin, cv2.RETR_LIST, cv2.CHAIN_APPROX_SIMPLE)\n",
    "            for cnt in contours:\n",
    "                cnt_len = cv2.arcLength(cnt, True)\n",
    "                cnt = cv2.approxPolyDP(cnt, 0.02*cnt_len, True)\n",
    "                if len(cnt) == 4 and cv2.contourArea(cnt) > 9000 and cv2.contourArea(cnt) < 40000 and cv2.isContourConvex(cnt):\n",
    "#                     print('area: ', cv2.contourArea(cnt))\n",
    "                    cnt = cnt.reshape(-1, 2)\n",
    "                    max_cos = np.max([angle_cos( cnt[i], cnt[(i+1) % 4], cnt[(i+2) % 4] ) for i in range(4)])\n",
    "                    if max_cos < 0.1:\n",
    "                        cnt = reorder_vertices(cnt)\n",
    "                        buttons.append(cnt)\n",
    "    return buttons\n",
    "\n",
    "def remove_duplicates(buttons):\n",
    "    threshold = 50\n",
    "    pos_y = [buttons[i][0][1] for i in range(len(buttons))]\n",
    "    idx_y = np.argsort(pos_y)\n",
    "    new_idx = []\n",
    "    tmp_idx = []\n",
    "\n",
    "    for i in range(len(idx_y)):\n",
    "        if len(tmp_idx) == 0:\n",
    "            tmp_idx.append(idx_y[i])\n",
    "        if abs(pos_y[idx_y[i]] - pos_y[tmp_idx[-1]]) < threshold:\n",
    "            if tmp_idx[-1] != idx_y[i]:\n",
    "                tmp_idx.append(idx_y[i])\n",
    "        else:\n",
    "            pos_x = [buttons[j][0][0] for j in tmp_idx]\n",
    "            idx_x = np.argsort(pos_x)\n",
    "            tmp2_idx = []\n",
    "\n",
    "            for j in range(len(idx_x)):\n",
    "                if len(tmp2_idx) == 0:\n",
    "                    tmp2_idx.append(tmp_idx[idx_x[j]])\n",
    "                if abs(buttons[tmp_idx[idx_x[j]]][0][0] - buttons[tmp2_idx[-1]][0][0] ) > threshold:\n",
    "                    tmp2_idx.append(tmp_idx[idx_x[j]])\n",
    "#             print(len(tmp2_idx))\n",
    "            new_idx.extend(tmp2_idx)\n",
    "            tmp_idx = []\n",
    "    pos_x = [buttons[j][0][0] for j in tmp_idx]\n",
    "    idx_x = np.argsort(pos_x)\n",
    "    tmp2_idx = []\n",
    "\n",
    "    for j in range(len(idx_x)):\n",
    "        if len(tmp2_idx) == 0:\n",
    "            tmp2_idx.append(tmp_idx[idx_x[j]])\n",
    "        if abs(buttons[tmp_idx[idx_x[j]]][0][0] - buttons[tmp2_idx[-1]][0][0] ) > threshold:\n",
    "            tmp2_idx.append(tmp_idx[idx_x[j]])\n",
    "#     print(len(tmp2_idx))\n",
    "    new_idx.extend(tmp2_idx)\n",
    "    new_buttons = [buttons[i] for i in new_idx]\n",
    "    return new_buttons"
   ]
  },
  {
   "cell_type": "code",
   "execution_count": 29,
   "id": "ba669e46",
   "metadata": {},
   "outputs": [
    {
     "name": "stdout",
     "output_type": "stream",
     "text": [
      "num buttons:  33\n",
      "Done\n"
     ]
    }
   ],
   "source": [
    "fn = 'data/pic_comm5_home.png'\n",
    "# fn = 'data/pic_comm5_things.png'\n",
    "img = cv2.imread(fn)\n",
    "buttons = find_buttons(img)\n",
    "buttons = remove_duplicates(buttons)\n",
    "print('num buttons: ', len(buttons))\n",
    "cv2.drawContours( img, buttons, -1, (0, 255, 0), 3 )\n",
    "cv2.imshow('buttons', img)\n",
    "ch = cv2.waitKey()\n",
    "\n",
    "print('Done')\n",
    "cv2.destroyAllWindows()"
   ]
  },
  {
   "cell_type": "code",
   "execution_count": null,
   "id": "0b0781bb",
   "metadata": {},
   "outputs": [],
   "source": [
    "# for i in range(len(squares)):\n",
    "#     print('area: ', cv.contourArea(squares[i]))"
   ]
  },
  {
   "cell_type": "code",
   "execution_count": 28,
   "id": "35db3511",
   "metadata": {},
   "outputs": [
    {
     "name": "stdout",
     "output_type": "stream",
     "text": [
      "0:\t3.97\n",
      "1:\t3.77\n",
      "2:\t91.78\n",
      "3:\t11.08\n",
      "4:\t11.65\n",
      "5:\t27.68\n",
      "6:\t0.02\n",
      "7:\t3.88\n",
      "8:\t0.00\n",
      "9:\t0.00\n",
      "10:\t0.00\n",
      "11:\t1.00\n",
      "12:\t0.00\n",
      "13:\t0.00\n",
      "14:\t0.00\n",
      "15:\t4.33\n",
      "16:\t0.30\n",
      "17:\t0.03\n",
      "18:\t72.58\n",
      "19:\t73.98\n",
      "20:\t69.20\n",
      "21:\t73.27\n",
      "22:\t69.42\n",
      "23:\t74.87\n",
      "24:\t68.17\n",
      "25:\t73.97\n",
      "26:\t67.27\n",
      "27:\t74.54\n",
      "28:\t74.08\n",
      "29:\t68.64\n",
      "30:\t69.66\n",
      "31:\t74.38\n",
      "32:\t76.40\n"
     ]
    }
   ],
   "source": [
    "for i in range(len(buttons)):\n",
    "    cnt = buttons[i]\n",
    "    x,y,w,h = cv2.boundingRect(cnt)\n",
    "    crop = img[y:y+h,x:x+w]\n",
    "\n",
    "    # Check if button is empty --> 96% pixels are white\n",
    "    num_white = np.sum((crop[:,:,0] >= 200) & (crop[:,:,1] >= 200) & (crop[:,:,2] >= 200))\n",
    "    num_pixels = np.prod(crop.shape[:2])\n",
    "    # print(num_white)\n",
    "    # print(num_pixels)\n",
    "    print('%d:\\t%0.2f' % (i, num_white/num_pixels*100))\n",
    "    \n",
    "    # Find text\n",
    "#     text = pyter\n",
    "\n",
    "    # cv2.imshow('cropped', crop)\n",
    "    # ch = cv2.waitKey()\n",
    "    # cv2.destroyAllWindows()"
   ]
  },
  {
   "cell_type": "code",
   "execution_count": 15,
   "id": "5c720e55",
   "metadata": {},
   "outputs": [
    {
     "name": "stdout",
     "output_type": "stream",
     "text": [
      "8655\n",
      "11684\n",
      "0.7407565902088326\n"
     ]
    }
   ],
   "source": []
  }
 ],
 "metadata": {
  "kernelspec": {
   "display_name": "Python 3",
   "language": "python",
   "name": "python3"
  },
  "language_info": {
   "codemirror_mode": {
    "name": "ipython",
    "version": 3
   },
   "file_extension": ".py",
   "mimetype": "text/x-python",
   "name": "python",
   "nbconvert_exporter": "python",
   "pygments_lexer": "ipython3",
   "version": "3.6.15"
  }
 },
 "nbformat": 4,
 "nbformat_minor": 5
}
